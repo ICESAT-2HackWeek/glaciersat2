{
 "cells": [
  {
   "cell_type": "code",
   "execution_count": 1,
   "metadata": {},
   "outputs": [],
   "source": [
    "# load libraries and define some functions\n",
    "\n",
    "# functions are \n",
    "# ATL06_dict\n",
    "# transform_coord\n",
    "# read_DEM_index (to read Arctic DEM shapefile)\n",
    "\n",
    "import os\n",
    "import rasterio as rio\n",
    "from matplotlib import pyplot as plt\n",
    "import numpy as np\n",
    "import glob\n",
    "import pyproj\n",
    "from shapely.geometry import MultiPoint, Point\n",
    "import h5py\n",
    "import pandas as pd\n",
    "import geopandas as gpd\n",
    "\n",
    "# transform function\n",
    "def transform_coord(proj1, proj2, x, y):\n",
    "    \"\"\"\n",
    "    Transform coordinates from proj1 to proj2 (EPSG num).\n",
    "\n",
    "    Example EPSG projs:\n",
    "        Geodetic (lon/lat): 4326\n",
    "        Polar Stereo AnIS (x/y): 3031\n",
    "        Polar Stereo GrIS (x/y): 3413\n",
    "    \"\"\"\n",
    "    # Set full EPSG projection strings\n",
    "    proj1 = pyproj.Proj(\"+init=EPSG:\"+str(proj1))\n",
    "    proj2 = pyproj.Proj(\"+init=EPSG:\"+str(proj2))\n",
    "    return pyproj.transform(proj1, proj2, x, y)  # convert\n",
    "\n",
    "\n",
    "def ATL06_to_dict(filename, dataset_dict):\n",
    "    \"\"\"\n",
    "        Read selected datasets from an ATL06 file\n",
    "\n",
    "        Input arguments:\n",
    "            filename: ATl06 file to read\n",
    "            dataset_dict: A dictinary describing the fields to be read\n",
    "                    keys give the group names to be read, \n",
    "                    entries are lists of datasets within the groups\n",
    "        Output argument:\n",
    "            D6: dictionary containing ATL06 data.  Each dataset in \n",
    "                dataset_dict has its own entry in D6.  Each dataset \n",
    "                in D6 contains a list of numpy arrays containing the \n",
    "                data\n",
    "    \"\"\"\n",
    "    \n",
    "    D6=[]\n",
    "    pairs=[1, 2, 3]\n",
    "    beams=['l','r']\n",
    "    # open the HDF5 file\n",
    "    with h5py.File(filename) as h5f:\n",
    "        # loop over beam pairs\n",
    "        for pair in pairs:\n",
    "            # loop over beams\n",
    "            for beam_ind, beam in enumerate(beams):\n",
    "                # check if a beam exists, if not, skip it\n",
    "                if '/gt%d%s/land_ice_segments' % (pair, beam) not in h5f:\n",
    "                    continue\n",
    "                # loop over the groups in the dataset dictionary\n",
    "                temp={}\n",
    "                for group in dataset_dict.keys():\n",
    "                    for dataset in dataset_dict[group]:\n",
    "                        DS='/gt%d%s/%s/%s' % (pair, beam, group, dataset)\n",
    "                        # since a dataset may not exist in a file, we're going to try to read it, and if it doesn't work, we'll move on to the next:\n",
    "                        try:\n",
    "                            temp[dataset]=np.array(h5f[DS])\n",
    "                            # some parameters have a _FillValue attribute.  If it exists, use it to identify bad values, and set them to np.NaN\n",
    "                            if '_FillValue' in h5f[DS].attrs:\n",
    "                                fill_value=h5f[DS].attrs['_FillValue']\n",
    "                                bad=temp[dataset]==fill_value\n",
    "                                temp[dataset]=np.float64(temp[dataset])\n",
    "                                temp[dataset][bad]=np.NaN\n",
    "                        except KeyError as e:\n",
    "                            pass\n",
    "                if len(temp) > 0:\n",
    "                    # it's sometimes convenient to have the beam and the pair as part of the output data structure: This is how we put them there.\n",
    "                    temp['pair']=np.zeros_like(temp['h_li'])+pair\n",
    "                    temp['beam']=np.zeros_like(temp['h_li'])+beam_ind\n",
    "                    temp['filename']=filename\n",
    "                    D6.append(temp)\n",
    "    return D6\n",
    "\n",
    "#-- PURPOSE: read zip file containing index shapefiles for finding DEM tiles\n",
    "# function from T. Sutterley\n",
    "\n",
    "\n",
    "def read_DEM_index(elevation_index_file, HEM):\n",
    "    \n",
    "    import zipfile\n",
    "    import io\n",
    "    \n",
    "    #-- extract zip file with shapefile index\n",
    "    zs = zipfile.ZipFile(elevation_index_file)\n",
    "    dbf,prj,shp,shx = [io.BytesIO(zs.read(s)) for s in sorted(zs.namelist())]\n",
    "    #-- read the shapefile and extract entities\n",
    "    shape_input = shapefile.Reader(dbf=dbf,prj=prj,shp=shp,shx=shx)\n",
    "    shape_entities = shape_input.shapes()\n",
    "    shape_attributes = shape_input.records()\n",
    "    shape_field_names = [f[0] for f in shape_input.fields[1:]]\n",
    "    #-- extract attribute indice for DEM tile (REMA) or objectid (ArcticDEM)\n",
    "    if (HEM == 'S'):\n",
    "        #-- REMA index file attributes:\n",
    "        #-- name: DEM mosaic name for tile (file name without suffix)\n",
    "        #-- tile: DEM tile identifier (IMy_IMx)\n",
    "        #-- nd_value: fill value for elements with no data\n",
    "        #-- resolution: DEM horizontal spatial resolution (meters)\n",
    "        #-- creationda: creation date\n",
    "        #-- raster: (empty)\n",
    "        #-- fileurl: link to file on PGC server\n",
    "        #-- spec_type: specific type (DEM)\n",
    "        #-- qual: density of scenes within tile (0 to 1)\n",
    "        #-- reg_src: DEM registration source (ICESat or neighbor align)\n",
    "        #-- num_gcps: number of ground control points\n",
    "        #-- meanresz: mean vertical residual (meters)\n",
    "        #-- active: (1)\n",
    "        #-- qc: (2)\n",
    "        #-- rel_ver: release version\n",
    "        #-- num_comp: number of components\n",
    "        #-- st_area_sh: tile area (meters^2)\n",
    "        #-- st_length_: perimeter length of tile (meters)\n",
    "        ind, = [i for i,f in enumerate(shape_field_names) if (f == 'tile')]\n",
    "    elif (HEM == 'N'):\n",
    "        #-- ArcticDEM index file attributes:\n",
    "        #-- objectid: DEM tile object identifier for sub-tile\n",
    "        #-- name: DEM mosaic name for sub-tile (file name without suffix)\n",
    "        #-- tile: DEM tile identifier (IMy_IMx) (non-unique for sub-tiles)\n",
    "        #-- nd_value: fill value for elements with no data\n",
    "        #-- resolution: DEM horizontal spatial resolution (meters)\n",
    "        #-- creationda: creation date\n",
    "        #-- raster: (empty)\n",
    "        #-- fileurl: link to file on PGC server\n",
    "        #-- spec_type: specific type (DEM)\n",
    "        #-- qual: density of scenes within tile (0 to 1)\n",
    "        #-- reg_src: DEM registration source (ICESat or neighbor align)\n",
    "        #-- num_gcps: number of ground control points\n",
    "        #-- meanresz: mean vertical residual (meters)\n",
    "        #-- active: (1)\n",
    "        #-- qc: (2)\n",
    "        #-- rel_ver: release version\n",
    "        #-- num_comp: number of components\n",
    "        #-- st_area_sh: tile area (meters^2)\n",
    "        #-- st_length_: perimeter length of tile (meters)\n",
    "        ind, = [i for i,f in enumerate(shape_field_names) if (f == 'objectid')]\n",
    "    #-- create python dictionary for each polygon object\n",
    "    poly_dict = {}\n",
    "    attrs_dict = {}\n",
    "    #-- extract the entities and assign by tile name\n",
    "    for i,ent in enumerate(shape_entities):\n",
    "        #-- name or objectid of tile\n",
    "        tile = str(shape_attributes[i][ind])\n",
    "        #-- extract attributes and assign by tile\n",
    "        attrs_dict[tile] = {}\n",
    "        for j,field in enumerate(shape_field_names):\n",
    "            attrs_dict[tile][field] = shape_attributes[i][j]\n",
    "        #-- extract Polar Stereographic coordinates for entity\n",
    "        points = np.array(ent.points)\n",
    "        poly_obj = Polygon(list(zip(points[:,0], points[:,1])))\n",
    "        #-- Valid Polygon may not possess overlapping exterior or interior rings\n",
    "        if (not poly_obj.is_valid):\n",
    "            poly_obj = poly_obj.buffer(0)\n",
    "        poly_dict[tile] = poly_obj\n",
    "    #-- close the zipfile\n",
    "    zs.close()\n",
    "    #-- return the dictionaries of polygon objects and attributes\n",
    "    return poly_dict,attrs_dict\n"
   ]
  },
  {
   "cell_type": "code",
   "execution_count": 2,
   "metadata": {},
   "outputs": [],
   "source": [
    "# this finds the correct tile index in the Arctic DEM shapefile and puts the bounding box into dem_bbox\n",
    "\n",
    "dem_file = '40_06_1_2_2m_v3.0'\n",
    "\n",
    "import shapefile\n",
    "from shapely.geometry import Polygon, MultiPoint\n",
    "\n",
    "poly_dict, attrs_dict = read_DEM_index('/home/jovyan/glaciersat2/arcticDEM/ArcticDEM_Tile_Index_Rel7.zip', HEM='N')\n",
    "\n",
    "for key in attrs_dict.keys():\n",
    "    if attrs_dict[key]['name']==dem_file:\n",
    "        tile_key = key\n",
    "        dem_bbox = poly_dict[tile_key]\n",
    "        break\n"
   ]
  },
  {
   "cell_type": "code",
   "execution_count": 3,
   "metadata": {},
   "outputs": [],
   "source": [
    "# load an Arctic DEM tile\n",
    "\n",
    "adem = '/home/jovyan/glaciersat2/arcticDEM/' + dem_file + '_reg_dem.tif'\n",
    "\n",
    "#This is rasterio Dataset object\n",
    "src_proj = rio.open(adem)\n",
    "\n",
    "# read the DEM file\n",
    "adem_proj = src_proj.read(1).astype(float)\n",
    "adem_proj[adem_proj==src_proj.nodata] = np.nan"
   ]
  },
  {
   "cell_type": "code",
   "execution_count": 7,
   "metadata": {},
   "outputs": [
    {
     "data": {
      "text/plain": [
       "<matplotlib.image.AxesImage at 0x7f9567254be0>"
      ]
     },
     "execution_count": 7,
     "metadata": {},
     "output_type": "execute_result"
    },
    {
     "data": {
      "image/png": "[encoded data removed]",
      "text/plain": [
       "<Figure size 432x288 with 1 Axes>"
      ]
     },
     "metadata": {
      "needs_background": "light"
     },
     "output_type": "display_data"
    }
   ],
   "source": [
    "plt.imshow(adem_proj)\n"
   ]
  },
  {
   "cell_type": "code",
   "execution_count": 4,
   "metadata": {},
   "outputs": [
    {
     "name": "stderr",
     "output_type": "stream",
     "text": [
      "/srv/conda/lib/python3.6/site-packages/ipykernel_launcher.py:45: RuntimeWarning: invalid value encountered in greater\n"
     ]
    }
   ],
   "source": [
    "# load icesat-2 tracks\n",
    "\n",
    "files = glob.glob('/home/jovyan/glaciersat2/juneauicefield/*.h5')\n",
    "\n",
    "dataset_dict={'land_ice_segments':['h_li','longitude','latitude','atl06_quality_summary','delta_time']}\n",
    "# atl06_quality_summary is binary, 1 for good\n",
    "\n",
    "x_ps = np.array([])\n",
    "y_ps = np.array([])\n",
    "dz = np.array([])\n",
    "good = np.array([])\n",
    "isat_time = np.array([])\n",
    "\n",
    "for file in files:\n",
    "    new_data = ATL06_to_dict(file, dataset_dict)\n",
    "    \n",
    "    # look at all beams\n",
    "    \n",
    "    for beam in range(len(new_data)):\n",
    "        # convert to epsg 3413\n",
    "        x,y = transform_coord('4326','3413', new_data[beam]['longitude'], new_data[beam]['latitude'])\n",
    "    \n",
    "        # convert to MultiPoint and test whether the track is in the DEM polygon\n",
    "       \n",
    "        points = MultiPoint(list(zip(x,y)))\n",
    "        \n",
    "        int_test = dem_bbox.intersects(points) # True if there are common points\n",
    "        if int_test:\n",
    "            \n",
    "            int_map = list(map(dem_bbox.intersects,points)) # which points are inside?\n",
    "            \n",
    "            x_inside = x[int_map]\n",
    "            y_inside = y[int_map]\n",
    "            qual = new_data[beam]['atl06_quality_summary'][int_map]\n",
    "            seg_time = new_data[beam]['delta_time'][int_map]\n",
    "            \n",
    "            atl_coord = list(zip(x_inside,y_inside))\n",
    "            \n",
    "            adem_sample = list((src_proj.sample(atl_coord, 1)))\n",
    "            adem_sample_elev = np.squeeze(adem_sample).astype(float)\n",
    "            \n",
    "            dh = new_data[beam]['h_li'][int_map]-adem_sample_elev\n",
    "            \n",
    "            # crude filter\n",
    "            dh[np.abs(dh)>10] = np.nan\n",
    "            \n",
    "            x_ps = np.hstack((x_ps, x_inside))\n",
    "            y_ps = np.hstack((y_ps, y_inside))\n",
    "            dz = np.hstack((dz, dh))\n",
    "            good = np.hstack((good,qual))\n",
    "            isat_time = np.hstack((isat_time,seg_time))\n",
    "            "
   ]
  },
  {
   "cell_type": "code",
   "execution_count": 5,
   "metadata": {},
   "outputs": [
    {
     "data": {
      "application/vnd.jupyter.widget-view+json": {
       "model_id": "60102d7f7c1d4a29a32547c7a209b909",
       "version_major": 2,
       "version_minor": 0
      },
      "text/plain": [
       "FigureCanvasNbAgg()"
      ]
     },
     "metadata": {},
     "output_type": "display_data"
    }
   ],
   "source": [
    "# make pandas, geopandas, plot things\n",
    "\n",
    "%matplotlib widget\n",
    "\n",
    "dz_df = pd.DataFrame()\n",
    "dz_df['x'] = x_ps\n",
    "dz_df['y'] = y_ps\n",
    "dz_df['dz'] = dz\n",
    "dz_df['good'] = good\n",
    "dz_df['ice_sat_time'] = isat_time\n",
    "\n",
    "dz_df.plot(x='x', y='y', kind='scatter', c='dz', s=1, cmap='RdBu')\n",
    "\n",
    "dz_df['geometry'] = list(zip(dz_df['x'], dz_df['y']))\n",
    "dz_df['geometry'] = dz_df['geometry'].apply(Point)\n",
    "\n",
    "dz_gdf = gpd.GeoDataFrame(dz_df, crs={'init' :'epsg:3413'})"
   ]
  },
  {
   "cell_type": "code",
   "execution_count": 9,
   "metadata": {},
   "outputs": [
    {
     "data": {
      "application/vnd.jupyter.widget-view+json": {
       "model_id": "f10c9c4e5163417b8f2fc37dfbdfe892",
       "version_major": 2,
       "version_minor": 0
      },
      "text/plain": [
       "FigureCanvasNbAgg()"
      ]
     },
     "metadata": {},
     "output_type": "display_data"
    },
    {
     "data": {
      "text/plain": [
       "array([[<matplotlib.axes._subplots.AxesSubplot object at 0x7fdbe208bbe0>]],\n",
       "      dtype=object)"
      ]
     },
     "execution_count": 9,
     "metadata": {},
     "output_type": "execute_result"
    }
   ],
   "source": [
    "dz_df.hist('dz',bins=128)"
   ]
  },
  {
   "cell_type": "code",
   "execution_count": 6,
   "metadata": {},
   "outputs": [
    {
     "data": {
      "application/vnd.jupyter.widget-view+json": {
       "model_id": "3ca00fd7e16f4ef4aebe58bd37e32996",
       "version_major": 2,
       "version_minor": 0
      },
      "text/plain": [
       "FigureCanvasNbAgg()"
      ]
     },
     "metadata": {},
     "output_type": "display_data"
    },
    {
     "data": {
      "text/plain": [
       "Text(0.5, 1.0, 'dz histograms')"
      ]
     },
     "execution_count": 6,
     "metadata": {},
     "output_type": "execute_result"
    }
   ],
   "source": [
    "idx = dz_df['ice_sat_time']<2.6e7\n",
    "dz_df_t1 = dz_df[idx]\n",
    "\n",
    "idx = ((dz_df['ice_sat_time']>2.6e7) & (dz_df['ice_sat_time']<2.8e7))\n",
    "dz_df_t2 = dz_df[idx]\n",
    "\n",
    "idx = ((dz_df['ice_sat_time']>2.8e7) & (dz_df['ice_sat_time']<3.2e7))\n",
    "dz_df_t3 = dz_df[idx]\n",
    "\n",
    "idx = (dz_df['ice_sat_time']>3.2e7)\n",
    "dz_df_t4 = dz_df[idx]\n",
    "\n",
    "t1=dz_df_t1['ice_sat_time']/86400\n",
    "t2=dz_df_t2['ice_sat_time']/86400\n",
    "t3=dz_df_t3['ice_sat_time']/86400\n",
    "t4=dz_df_t4['ice_sat_time']/86400\n",
    "fig, axa = plt.subplots()\n",
    "plt.hist([dz_df_t4['dz'], dz_df_t3['dz'], dz_df_t2['dz'], dz_df_t1['dz']], bins=32, stacked=False, rwidth=1, \n",
    "         label=['Day '+ str(int(np.mean(t4))), 'Day '+ str(int(np.mean(t3))), 'Day '+ str(int(np.mean(t2))), \n",
    "                'Day '+ str(int(np.mean(t1)))])\n",
    "plt.legend(title='Days since 1 Jan 2018')\n",
    "plt.title('dz histograms')\n",
    "\n"
   ]
  },
  {
   "cell_type": "code",
   "execution_count": 10,
   "metadata": {},
   "outputs": [
    {
     "name": "stdout",
     "output_type": "stream",
     "text": [
      "--2019-06-21 05:02:13--  https://www.glims.org/RGI/rgi60_files/01_rgi60_Alaska.zip\n",
      "Resolving www.glims.org (www.glims.org)... 128.138.135.43\n",
      "Connecting to www.glims.org (www.glims.org)|128.138.135.43|:443... connected.\n",
      "HTTP request sent, awaiting response... 200 OK\n",
      "Length: 82224693 (78M) [application/zip]\n",
      "Saving to: ‘01_rgi60_Alaska.zip’\n",
      "\n",
      "01_rgi60_Alaska.zip 100%[===================>]  78.42M  26.7MB/s    in 2.9s    \n",
      "\n",
      "2019-06-21 05:02:17 (26.7 MB/s) - ‘01_rgi60_Alaska.zip’ saved [82224693/82224693]\n",
      "\n",
      "Archive:  01_rgi60_Alaska.zip\n",
      "  inflating: rgi/01_rgi60_Alaska.dbf  \n",
      "  inflating: rgi/01_rgi60_Alaska.prj  \n",
      "  inflating: rgi/01_rgi60_Alaska.shp  \n",
      "  inflating: rgi/01_rgi60_Alaska.shx  \n",
      "  inflating: rgi/01_rgi60_Alaska_hypso.csv  \n"
     ]
    }
   ],
   "source": [
    "# #Fetch the zip file for Region 01 (Alaska)\n",
    "# #Use the wget command (the -nc is \"no-clobber\", so will not overwrite existing file)\n",
    "# !wget -nc https://www.glims.org/RGI/rgi60_files/01_rgi60_Alaska.zip\n",
    "    \n",
    "# #Extract to rgi subdirectory\n",
    "# !unzip -n -d rgi 01_rgi60_Alaska.zip"
   ]
  },
  {
   "cell_type": "code",
   "execution_count": 18,
   "metadata": {},
   "outputs": [
    {
     "ename": "TypeError",
     "evalue": "Empty 'DataFrame': no numeric data to plot",
     "output_type": "error",
     "traceback": [
      "\u001b[0;31m---------------------------------------------------------------------------\u001b[0m",
      "\u001b[0;31mTypeError\u001b[0m                                 Traceback (most recent call last)",
      "\u001b[0;32m<ipython-input-18-399ed328c25e>\u001b[0m in \u001b[0;36m<module>\u001b[0;34m\u001b[0m\n\u001b[1;32m     12\u001b[0m \u001b[0mrgi_gdf_idx\u001b[0m \u001b[0;34m=\u001b[0m \u001b[0mrgi_gdf\u001b[0m\u001b[0;34m.\u001b[0m\u001b[0mintersects\u001b[0m\u001b[0;34m(\u001b[0m\u001b[0mdem_gpd\u001b[0m\u001b[0;34m)\u001b[0m\u001b[0;34m\u001b[0m\u001b[0;34m\u001b[0m\u001b[0m\n\u001b[1;32m     13\u001b[0m \u001b[0;34m\u001b[0m\u001b[0m\n\u001b[0;32m---> 14\u001b[0;31m \u001b[0mrgi_gdf_idx\u001b[0m\u001b[0;34m.\u001b[0m\u001b[0mplot\u001b[0m\u001b[0;34m(\u001b[0m\u001b[0;34m)\u001b[0m\u001b[0;34m;\u001b[0m\u001b[0;34m\u001b[0m\u001b[0;34m\u001b[0m\u001b[0m\n\u001b[0m",
      "\u001b[0;32m/srv/conda/lib/python3.6/site-packages/pandas/plotting/_core.py\u001b[0m in \u001b[0;36m__call__\u001b[0;34m(self, kind, ax, figsize, use_index, title, grid, legend, style, logx, logy, loglog, xticks, yticks, xlim, ylim, rot, fontsize, colormap, table, yerr, xerr, label, secondary_y, **kwds)\u001b[0m\n\u001b[1;32m   2740\u001b[0m                            \u001b[0mcolormap\u001b[0m\u001b[0;34m=\u001b[0m\u001b[0mcolormap\u001b[0m\u001b[0;34m,\u001b[0m \u001b[0mtable\u001b[0m\u001b[0;34m=\u001b[0m\u001b[0mtable\u001b[0m\u001b[0;34m,\u001b[0m \u001b[0myerr\u001b[0m\u001b[0;34m=\u001b[0m\u001b[0myerr\u001b[0m\u001b[0;34m,\u001b[0m\u001b[0;34m\u001b[0m\u001b[0;34m\u001b[0m\u001b[0m\n\u001b[1;32m   2741\u001b[0m                            \u001b[0mxerr\u001b[0m\u001b[0;34m=\u001b[0m\u001b[0mxerr\u001b[0m\u001b[0;34m,\u001b[0m \u001b[0mlabel\u001b[0m\u001b[0;34m=\u001b[0m\u001b[0mlabel\u001b[0m\u001b[0;34m,\u001b[0m \u001b[0msecondary_y\u001b[0m\u001b[0;34m=\u001b[0m\u001b[0msecondary_y\u001b[0m\u001b[0;34m,\u001b[0m\u001b[0;34m\u001b[0m\u001b[0;34m\u001b[0m\u001b[0m\n\u001b[0;32m-> 2742\u001b[0;31m                            **kwds)\n\u001b[0m\u001b[1;32m   2743\u001b[0m     \u001b[0m__call__\u001b[0m\u001b[0;34m.\u001b[0m\u001b[0m__doc__\u001b[0m \u001b[0;34m=\u001b[0m \u001b[0mplot_series\u001b[0m\u001b[0;34m.\u001b[0m\u001b[0m__doc__\u001b[0m\u001b[0;34m\u001b[0m\u001b[0;34m\u001b[0m\u001b[0m\n\u001b[1;32m   2744\u001b[0m \u001b[0;34m\u001b[0m\u001b[0m\n",
      "\u001b[0;32m/srv/conda/lib/python3.6/site-packages/pandas/plotting/_core.py\u001b[0m in \u001b[0;36mplot_series\u001b[0;34m(data, kind, ax, figsize, use_index, title, grid, legend, style, logx, logy, loglog, xticks, yticks, xlim, ylim, rot, fontsize, colormap, table, yerr, xerr, label, secondary_y, **kwds)\u001b[0m\n\u001b[1;32m   1996\u001b[0m                  \u001b[0myerr\u001b[0m\u001b[0;34m=\u001b[0m\u001b[0myerr\u001b[0m\u001b[0;34m,\u001b[0m \u001b[0mxerr\u001b[0m\u001b[0;34m=\u001b[0m\u001b[0mxerr\u001b[0m\u001b[0;34m,\u001b[0m\u001b[0;34m\u001b[0m\u001b[0;34m\u001b[0m\u001b[0m\n\u001b[1;32m   1997\u001b[0m                  \u001b[0mlabel\u001b[0m\u001b[0;34m=\u001b[0m\u001b[0mlabel\u001b[0m\u001b[0;34m,\u001b[0m \u001b[0msecondary_y\u001b[0m\u001b[0;34m=\u001b[0m\u001b[0msecondary_y\u001b[0m\u001b[0;34m,\u001b[0m\u001b[0;34m\u001b[0m\u001b[0;34m\u001b[0m\u001b[0m\n\u001b[0;32m-> 1998\u001b[0;31m                  **kwds)\n\u001b[0m\u001b[1;32m   1999\u001b[0m \u001b[0;34m\u001b[0m\u001b[0m\n\u001b[1;32m   2000\u001b[0m \u001b[0;34m\u001b[0m\u001b[0m\n",
      "\u001b[0;32m/srv/conda/lib/python3.6/site-packages/pandas/plotting/_core.py\u001b[0m in \u001b[0;36m_plot\u001b[0;34m(data, x, y, subplots, ax, kind, **kwds)\u001b[0m\n\u001b[1;32m   1799\u001b[0m         \u001b[0mplot_obj\u001b[0m \u001b[0;34m=\u001b[0m \u001b[0mklass\u001b[0m\u001b[0;34m(\u001b[0m\u001b[0mdata\u001b[0m\u001b[0;34m,\u001b[0m \u001b[0msubplots\u001b[0m\u001b[0;34m=\u001b[0m\u001b[0msubplots\u001b[0m\u001b[0;34m,\u001b[0m \u001b[0max\u001b[0m\u001b[0;34m=\u001b[0m\u001b[0max\u001b[0m\u001b[0;34m,\u001b[0m \u001b[0mkind\u001b[0m\u001b[0;34m=\u001b[0m\u001b[0mkind\u001b[0m\u001b[0;34m,\u001b[0m \u001b[0;34m**\u001b[0m\u001b[0mkwds\u001b[0m\u001b[0;34m)\u001b[0m\u001b[0;34m\u001b[0m\u001b[0;34m\u001b[0m\u001b[0m\n\u001b[1;32m   1800\u001b[0m \u001b[0;34m\u001b[0m\u001b[0m\n\u001b[0;32m-> 1801\u001b[0;31m     \u001b[0mplot_obj\u001b[0m\u001b[0;34m.\u001b[0m\u001b[0mgenerate\u001b[0m\u001b[0;34m(\u001b[0m\u001b[0;34m)\u001b[0m\u001b[0;34m\u001b[0m\u001b[0;34m\u001b[0m\u001b[0m\n\u001b[0m\u001b[1;32m   1802\u001b[0m     \u001b[0mplot_obj\u001b[0m\u001b[0;34m.\u001b[0m\u001b[0mdraw\u001b[0m\u001b[0;34m(\u001b[0m\u001b[0;34m)\u001b[0m\u001b[0;34m\u001b[0m\u001b[0;34m\u001b[0m\u001b[0m\n\u001b[1;32m   1803\u001b[0m     \u001b[0;32mreturn\u001b[0m \u001b[0mplot_obj\u001b[0m\u001b[0;34m.\u001b[0m\u001b[0mresult\u001b[0m\u001b[0;34m\u001b[0m\u001b[0;34m\u001b[0m\u001b[0m\n",
      "\u001b[0;32m/srv/conda/lib/python3.6/site-packages/pandas/plotting/_core.py\u001b[0m in \u001b[0;36mgenerate\u001b[0;34m(self)\u001b[0m\n\u001b[1;32m    247\u001b[0m     \u001b[0;32mdef\u001b[0m \u001b[0mgenerate\u001b[0m\u001b[0;34m(\u001b[0m\u001b[0mself\u001b[0m\u001b[0;34m)\u001b[0m\u001b[0;34m:\u001b[0m\u001b[0;34m\u001b[0m\u001b[0;34m\u001b[0m\u001b[0m\n\u001b[1;32m    248\u001b[0m         \u001b[0mself\u001b[0m\u001b[0;34m.\u001b[0m\u001b[0m_args_adjust\u001b[0m\u001b[0;34m(\u001b[0m\u001b[0;34m)\u001b[0m\u001b[0;34m\u001b[0m\u001b[0;34m\u001b[0m\u001b[0m\n\u001b[0;32m--> 249\u001b[0;31m         \u001b[0mself\u001b[0m\u001b[0;34m.\u001b[0m\u001b[0m_compute_plot_data\u001b[0m\u001b[0;34m(\u001b[0m\u001b[0;34m)\u001b[0m\u001b[0;34m\u001b[0m\u001b[0;34m\u001b[0m\u001b[0m\n\u001b[0m\u001b[1;32m    250\u001b[0m         \u001b[0mself\u001b[0m\u001b[0;34m.\u001b[0m\u001b[0m_setup_subplots\u001b[0m\u001b[0;34m(\u001b[0m\u001b[0;34m)\u001b[0m\u001b[0;34m\u001b[0m\u001b[0;34m\u001b[0m\u001b[0m\n\u001b[1;32m    251\u001b[0m         \u001b[0mself\u001b[0m\u001b[0;34m.\u001b[0m\u001b[0m_make_plot\u001b[0m\u001b[0;34m(\u001b[0m\u001b[0;34m)\u001b[0m\u001b[0;34m\u001b[0m\u001b[0;34m\u001b[0m\u001b[0m\n",
      "\u001b[0;32m/srv/conda/lib/python3.6/site-packages/pandas/plotting/_core.py\u001b[0m in \u001b[0;36m_compute_plot_data\u001b[0;34m(self)\u001b[0m\n\u001b[1;32m    365\u001b[0m         \u001b[0;32mif\u001b[0m \u001b[0mis_empty\u001b[0m\u001b[0;34m:\u001b[0m\u001b[0;34m\u001b[0m\u001b[0;34m\u001b[0m\u001b[0m\n\u001b[1;32m    366\u001b[0m             raise TypeError('Empty {0!r}: no numeric data to '\n\u001b[0;32m--> 367\u001b[0;31m                             'plot'.format(numeric_data.__class__.__name__))\n\u001b[0m\u001b[1;32m    368\u001b[0m \u001b[0;34m\u001b[0m\u001b[0m\n\u001b[1;32m    369\u001b[0m         \u001b[0mself\u001b[0m\u001b[0;34m.\u001b[0m\u001b[0mdata\u001b[0m \u001b[0;34m=\u001b[0m \u001b[0mnumeric_data\u001b[0m\u001b[0;34m\u001b[0m\u001b[0;34m\u001b[0m\u001b[0m\n",
      "\u001b[0;31mTypeError\u001b[0m: Empty 'DataFrame': no numeric data to plot"
     ]
    }
   ],
   "source": [
    "#Specify the shapefile filename\n",
    "rgi_fn = 'rgi/01_rgi60_Alaska.shp'\n",
    "\n",
    "# read into a geopanda\n",
    "rgi_gdf = gpd.read_file(rgi_fn)\n",
    "\n",
    "#By default a new integer index is created.  Let's just use the RGI ID as our index\n",
    "rgi_gdf = rgi_gdf.set_index('RGIId')\n",
    "\n",
    "polys1 = gpd.GeoSeries(dem_bbox)\n",
    "dem_gpd = gpd.GeoDataFrame({'geometry': polys1}, crs={'init' :'epsg:3413'})\n",
    "rgi_gdf_idx = rgi_gdf.intersects(dem_gpd)\n",
    "\n",
    "rgi_gdf_idx.plot();"
   ]
  },
  {
   "cell_type": "code",
   "execution_count": null,
   "metadata": {},
   "outputs": [
    {
     "name": "stderr",
     "output_type": "stream",
     "text": [
      "/srv/conda/lib/python3.6/site-packages/ipykernel_launcher.py:4: SettingWithCopyWarning: \n",
      "A value is trying to be set on a copy of a slice from a DataFrame\n",
      "\n",
      "See the caveats in the documentation: http://pandas.pydata.org/pandas-docs/stable/indexing.html#indexing-view-versus-copy\n",
      "  after removing the cwd from sys.path.\n"
     ]
    }
   ],
   "source": [
    "for k in range(len(rgi_gdf)):\n",
    "    lon,lat = rgi_gdf.geometry[k].exterior.coords.xy\n",
    "    x, y = transform_coord('4326','3413', lon,lat)\n",
    "    rgi_gdf.geometry[k] = Polygon(list(zip(x,y)))\n"
   ]
  },
  {
   "cell_type": "code",
   "execution_count": 34,
   "metadata": {},
   "outputs": [
    {
     "data": {
      "text/plain": [
       "[(-2837683.504833113, 593755.4626398744),\n",
       " (-2837955.9221104053, 593793.7067402614),\n",
       " (-2838109.618811966, 593819.6432730112),\n",
       " (-2838101.958767138, 593864.5010720018),\n",
       " (-2838102.012487872, 593891.6048134225),\n",
       " (-2838107.621416086, 593919.8873079853),\n",
       " (-2838113.9033860504, 593954.1182962577),\n",
       " (-2838126.413213577, 593995.4764731134),\n",
       " (-2838136.2853549826, 594040.1452191446),\n",
       " (-2838145.091621996, 594080.7175903773),\n",
       " (-2838145.145806723, 594082.2289563082),\n",
       " (-2838144.759895764, 594081.6290037878),\n",
       " (-2838144.997047582, 594085.0515405018),\n",
       " (-2838147.3337001675, 594099.6013344796),\n",
       " (-2838152.607516209, 594125.8697291303),\n",
       " (-2838159.2537890505, 594156.127884382),\n",
       " (-2838168.150748263, 594200.1778709618),\n",
       " (-2838173.296542413, 594221.2414148038),\n",
       " (-2838176.9416318103, 594233.1103003151),\n",
       " (-2838181.4083074206, 594251.5640791899),\n",
       " (-2838183.6013611606, 594270.274952502),\n",
       " (-2838184.0066323723, 594273.581232113),\n",
       " (-2838183.9479375007, 594273.5655812984),\n",
       " (-2838189.5685714665, 594308.8316448887),\n",
       " (-2838194.391293386, 594340.8180911911),\n",
       " (-2838201.5717900326, 594361.693887025),\n",
       " (-2838209.425276515, 594388.5179640435),\n",
       " (-2838217.6716078236, 594413.4903178482),\n",
       " (-2838228.235108611, 594432.0468578908),\n",
       " (-2838132.401943678, 594446.5786108372),\n",
       " (-2837984.933643189, 594465.1236739641),\n",
       " (-2837992.7966051837, 594451.7308495581),\n",
       " (-2837962.5647814795, 594432.4425222474),\n",
       " (-2837934.8640712164, 594414.769037517),\n",
       " (-2837885.5915545095, 594401.5709892885),\n",
       " (-2837858.0169272046, 594376.5337026009),\n",
       " (-2837844.828652615, 594335.3648626001),\n",
       " (-2837804.3014038503, 594293.8753194833),\n",
       " (-2837766.236479162, 594266.61188208),\n",
       " (-2837742.00138007, 594225.8394533717),\n",
       " (-2837691.9367585, 594190.5481093802),\n",
       " (-2837677.764362434, 594160.9504513803),\n",
       " (-2837672.946632001, 594150.8889658456),\n",
       " (-2837627.570693413, 594119.3335775954),\n",
       " (-2837556.3655752037, 594093.2593309709),\n",
       " (-2837503.914680627, 594082.127830347),\n",
       " (-2837454.08636597, 594071.5530180618),\n",
       " (-2837431.756989542, 594047.6295626917),\n",
       " (-2837414.27641955, 594013.7726016222),\n",
       " (-2837379.7872537137, 593995.4905053374),\n",
       " (-2837342.119010052, 593979.2744382189),\n",
       " (-2837330.279707782, 593957.5773765309),\n",
       " (-2837300.6393901696, 593929.3619385146),\n",
       " (-2837295.5545812207, 593914.579736856),\n",
       " (-2837311.3740974013, 593865.8648476953),\n",
       " (-2837331.325632761, 593823.5080882626),\n",
       " (-2837353.8995161653, 593781.7078825373),\n",
       " (-2837399.1993192313, 593774.8773680523),\n",
       " (-2837454.272546224, 593786.5648089399),\n",
       " (-2837509.3458789736, 593798.2522782675),\n",
       " (-2837558.7778960043, 593797.7798651942),\n",
       " (-2837598.276352472, 593792.4587808403),\n",
       " (-2837640.397340386, 593787.694132287),\n",
       " (-2837674.094180638, 593783.8823798634),\n",
       " (-2837683.504833113, 593755.4626398744)]"
      ]
     },
     "execution_count": 34,
     "metadata": {},
     "output_type": "execute_result"
    }
   ],
   "source": [
    "list(zip(x,y))"
   ]
  },
  {
   "cell_type": "code",
   "execution_count": null,
   "metadata": {},
   "outputs": [],
   "source": []
  }
 ],
 "metadata": {
  "kernelspec": {
   "display_name": "Python 3",
   "language": "python",
   "name": "python3"
  },
  "language_info": {
   "codemirror_mode": {
    "name": "ipython",
    "version": 3
   },
   "file_extension": ".py",
   "mimetype": "text/x-python",
   "name": "python",
   "nbconvert_exporter": "python",
   "pygments_lexer": "ipython3",
   "version": "3.6.7"
  }
 },
 "nbformat": 4,
 "nbformat_minor": 2
}
