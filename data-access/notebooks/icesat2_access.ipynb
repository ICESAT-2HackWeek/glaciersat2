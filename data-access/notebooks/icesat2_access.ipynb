{
 "cells": [
  {
   "cell_type": "markdown",
   "metadata": {},
   "source": [
    "# Access ICESat-2 Data\n",
    "\n",
    "University of Washington ICESat-2 Hackweek | June 2019 <br>\n",
    "originally written by Amy Steiker @asteiker <br>\n",
    "adjusted for #glaciersat2 by Caitlyn Florentine @cflorentine <br>\n",
    "\n",
    "---\n",
    "## Workflow\n",
    "1. Geting started\n",
    "2. Earthdata\n",
    "3. ICESat-2 data\n",
    "4. Subsetting time and space\n",
    "5. Query\n",
    "6. Select services\n",
    "7. API parameters\n",
    "8. Request data\n",
    "\n",
    "#### Abbreviations\n",
    "National Snow and Ice Data Center ([NSIDC](https://nsidc.org/))<br>\n",
    "Distributed Active Archive Center (DAAC) <br>\n",
    "Application Programming Interface (API) <br>\n",
    "Global Land Ice Measurments from Space ([GLIMS](https://www.glims.org/))<br>\n",
    "Common Metadata Repository ([CMR](https://cmr.earthdata.nasa.gov/search/site/docs/search/api.html \"CMR API documentation\")) <br>\n",
    "\n",
    "#### Check that the current working directory contains:\n",
    "Glacier KML that lives in the same directory as this Jupyter notebook."
   ]
  },
  {
   "cell_type": "markdown",
   "metadata": {},
   "source": [
    "## 1. Getting started\n",
    "Import all the necessary libraries."
   ]
  },
  {
   "cell_type": "code",
   "execution_count": 50,
   "metadata": {},
   "outputs": [],
   "source": [
    "import requests\n",
    "import getpass\n",
    "import socket\n",
    "import json\n",
    "import zipfile\n",
    "import io\n",
    "import math\n",
    "import os\n",
    "import shutil\n",
    "import pprint\n",
    "import time\n",
    "import geopandas as gpd\n",
    "import matplotlib.pyplot as plt\n",
    "import fiona\n",
    "import h5py\n",
    "import re\n",
    "# To read KML files with geopandas, enable KML support in fiona \n",
    "fiona.drvsupport.supported_drivers['LIBKML'] = 'rw'\n",
    "from shapely.geometry import Polygon, mapping\n",
    "from shapely.geometry.polygon import orient\n",
    "from statistics import mean\n",
    "from requests.auth import HTTPBasicAuth"
   ]
  },
  {
   "cell_type": "markdown",
   "metadata": {},
   "source": [
    "## 2. Earthdata\n",
    "\n",
    "Generate a token needed for accessing data using Earthdata Login. If you do not already have an Earthdata Login account register [here](http://urs.earthdata.nasa.gov). <br>"
   ]
  },
  {
   "cell_type": "code",
   "execution_count": 51,
   "metadata": {},
   "outputs": [
    {
     "name": "stdin",
     "output_type": "stream",
     "text": [
      "Earthdata Login password:  ···········\n"
     ]
    }
   ],
   "source": [
    "uid = 'cflorentine' #enter your Earthdata username\n",
    "email = 'cflorentine@usgs.gov' #enter your email\n",
    "pswd = getpass.getpass('Earthdata Login password: ')"
   ]
  },
  {
   "cell_type": "markdown",
   "metadata": {},
   "source": [
    "Request token from Common Metadata Repository using Earthdata credentials"
   ]
  },
  {
   "cell_type": "code",
   "execution_count": 52,
   "metadata": {
    "attributes": {
     "classes": [],
     "id": "",
     "n": "3"
    }
   },
   "outputs": [
    {
     "name": "stdout",
     "output_type": "stream",
     "text": [
      "A51CBA50-8122-6C2D-BBA0-FD8E99E7B8E1\n"
     ]
    }
   ],
   "source": [
    "token_api_url = 'https://cmr.earthdata.nasa.gov/legacy-services/rest/tokens'\n",
    "hostname = socket.gethostname()\n",
    "ip = socket.gethostbyname(hostname)\n",
    "\n",
    "data = {\n",
    "    'token': {\n",
    "        'username': uid,\n",
    "        'password': pswd,\n",
    "        'client_id': 'NSIDC_client_id',\n",
    "        'user_ip_address': ip\n",
    "    }\n",
    "}\n",
    "headers={'Accept': 'application/json'}\n",
    "response = requests.post(token_api_url, json=data, headers=headers)\n",
    "token = json.loads(response.content)['token']['id']\n",
    "print(token)\n",
    "#example token = 4351E4A7-9907-AEA1-82B3-FE2A36C88659"
   ]
  },
  {
   "cell_type": "markdown",
   "metadata": {},
   "source": [
    "## 3. ICESat-2 data"
   ]
  },
  {
   "cell_type": "markdown",
   "metadata": {},
   "source": [
    "Access ATLAS/ICESat-2 L3A Land Ice Height (ATL06) data!!! See NSIDC [data](https://nsidc.org/data/atl06), [online user guide](https://nsidc.org/data/atl06?qt-data_set_tabs=3#qt-data_set_tabs), and [data dictionary](https://nsidc.org/sites/nsidc.org/files/technical-references/ATL06-data-dictionary-v001.pdf) links for documentation. </br>"
   ]
  },
  {
   "cell_type": "markdown",
   "metadata": {},
   "source": [
    "Inspect the high-level ICESat-2 ATL06 metadata."
   ]
  },
  {
   "cell_type": "code",
   "execution_count": 53,
   "metadata": {},
   "outputs": [
    {
     "name": "stdout",
     "output_type": "stream",
     "text": [
      "{'feed': {'entry': [{'archive_center': 'NASA NSIDC DAAC',\n",
      "                     'associations': {'services': ['S1568899363-NSIDC_ECS',\n",
      "                                                   'S1613689509-NSIDC_ECS',\n",
      "                                                   'S1613669681-NSIDC_ECS']},\n",
      "                     'boxes': ['-90 -180 90 180'],\n",
      "                     'browse_flag': False,\n",
      "                     'coordinate_system': 'CARTESIAN',\n",
      "                     'data_center': 'NSIDC_ECS',\n",
      "                     'dataset_id': 'ATLAS/ICESat-2 L3A Land Ice Height V001',\n",
      "                     'has_formats': True,\n",
      "                     'has_spatial_subsetting': True,\n",
      "                     'has_temporal_subsetting': True,\n",
      "                     'has_transforms': False,\n",
      "                     'has_variables': True,\n",
      "                     'id': 'C1511847675-NSIDC_ECS',\n",
      "                     'links': [{'href': 'https://n5eil01u.ecs.nsidc.org/ATLAS/ATL06.001/',\n",
      "                                'hreflang': 'en-US',\n",
      "                                'length': '0.0KB',\n",
      "                                'rel': 'http://esipfed.org/ns/fedsearch/1.1/data#'},\n",
      "                               {'href': 'http://nsidc.org/daac/subscriptions.html',\n",
      "                                'hreflang': 'en-US',\n",
      "                                'length': '0.0KB',\n",
      "                                'rel': 'http://esipfed.org/ns/fedsearch/1.1/data#'},\n",
      "                               {'href': 'https://search.earthdata.nasa.gov/search/granules?p=C1511847675-NSIDC_ECS&m=-87.87967837686685!9.890967019347585!1!1!0!0%2C2&tl=1542476530!4!!&q=atl06&ok=atl06',\n",
      "                                'hreflang': 'en-US',\n",
      "                                'length': '0.0KB',\n",
      "                                'rel': 'http://esipfed.org/ns/fedsearch/1.1/data#'},\n",
      "                               {'href': 'https://openaltimetry.org/',\n",
      "                                'hreflang': 'en-US',\n",
      "                                'length': '0.0KB',\n",
      "                                'rel': 'http://esipfed.org/ns/fedsearch/1.1/data#'},\n",
      "                               {'href': 'https://doi.org/10.5067/ATLAS/ATL06.001',\n",
      "                                'hreflang': 'en-US',\n",
      "                                'rel': 'http://esipfed.org/ns/fedsearch/1.1/metadata#'},\n",
      "                               {'href': 'https://doi.org/10.5067/ATLAS/ATL06.001',\n",
      "                                'hreflang': 'en-US',\n",
      "                                'rel': 'http://esipfed.org/ns/fedsearch/1.1/documentation#'}],\n",
      "                     'online_access_flag': True,\n",
      "                     'orbit_parameters': {'inclination_angle': '92.0',\n",
      "                                          'number_of_orbits': '0.071428571',\n",
      "                                          'period': '94.29',\n",
      "                                          'start_circular_latitude': '0.0',\n",
      "                                          'swath_width': '36.0'},\n",
      "                     'organizations': ['NASA NSIDC DAAC',\n",
      "                                       'NASA/GSFC/EOS/ESDIS'],\n",
      "                     'original_format': 'ISO19115',\n",
      "                     'processing_level_id': 'Level 3',\n",
      "                     'short_name': 'ATL06',\n",
      "                     'summary': 'This data set (ATL06) provides geolocated, '\n",
      "                                'land-ice surface heights (above the WGS 84 '\n",
      "                                'ellipsoid, ITRF2014 reference frame), plus '\n",
      "                                'ancillary parameters that can be used to '\n",
      "                                'interpret and assess the quality of the '\n",
      "                                'height estimates. The data were acquired by '\n",
      "                                'the Advanced Topographic Laser Altimeter '\n",
      "                                'System (ATLAS) instrument on board the Ice, '\n",
      "                                'Cloud and land Elevation Satellite-2 '\n",
      "                                '(ICESat-2) observatory.',\n",
      "                     'time_start': '2018-10-14T00:00:00.000Z',\n",
      "                     'title': 'ATLAS/ICESat-2 L3A Land Ice Height V001',\n",
      "                     'version_id': '001'}],\n",
      "          'id': 'https://cmr.earthdata.nasa.gov:443/search/collections.json?short_name=ATL06',\n",
      "          'title': 'ECHO dataset metadata',\n",
      "          'updated': '2019-06-21T06:17:49.952Z'}}\n"
     ]
    }
   ],
   "source": [
    "# Get json response from CMR collection metadata\n",
    "short_name = 'ATL06'\n",
    "params = {\n",
    "    'short_name': short_name\n",
    "}\n",
    "\n",
    "cmr_collections_url = 'https://cmr.earthdata.nasa.gov/search/collections.json'\n",
    "response = requests.get(cmr_collections_url, params=params)\n",
    "results = json.loads(response.content)\n",
    "pprint.pprint(results)"
   ]
  },
  {
   "cell_type": "markdown",
   "metadata": {},
   "source": [
    "There may be cases where more than one ICESat-2 data version exists. Let's make sure we have the most recent version:"
   ]
  },
  {
   "cell_type": "code",
   "execution_count": 54,
   "metadata": {},
   "outputs": [
    {
     "name": "stdout",
     "output_type": "stream",
     "text": [
      "001\n"
     ]
    }
   ],
   "source": [
    "versions = [i['version_id'] for i in results['feed']['entry']]\n",
    "latest_version = max(versions)\n",
    "print(latest_version)"
   ]
  },
  {
   "cell_type": "markdown",
   "metadata": {},
   "source": [
    "## 4. Subsetting time and space\n",
    "To subset ICESat-2 data we will set the time range of interest manually. Then we will define the area of interest using the glacier KML file.\n",
    "\n",
    "#### 4.1. Define the time of interest"
   ]
  },
  {
   "cell_type": "code",
   "execution_count": 58,
   "metadata": {},
   "outputs": [
    {
     "name": "stdout",
     "output_type": "stream",
     "text": [
      "2018-10-01T00:00:00Z,2019-03-01T23:59:59Z\n"
     ]
    }
   ],
   "source": [
    "start_date = '2018-10-01'\n",
    "start_time = '00:00:00'\n",
    "end_date = '2019-03-01'\n",
    "end_time = '23:59:59'\n",
    "\n",
    "temporal = start_date + 'T' + start_time + 'Z' + ',' + end_date + 'T' + end_time + 'Z'\n",
    "print(temporal)"
   ]
  },
  {
   "cell_type": "markdown",
   "metadata": {},
   "source": [
    "#### 4.2. Define the area of interest"
   ]
  },
  {
   "cell_type": "code",
   "execution_count": 92,
   "metadata": {},
   "outputs": [],
   "source": [
    "import os\n",
    "kml_filepath = os.getcwd()+'/taku_polygon.kml'\n",
    "gdf = gpd.read_file(kml_filepath) #GeoDataFrame object\n",
    "# gdf.head()"
   ]
  },
  {
   "cell_type": "markdown",
   "metadata": {},
   "source": [
    "Visualize the glacier polygon we just imported to make sure all is good."
   ]
  },
  {
   "cell_type": "code",
   "execution_count": 79,
   "metadata": {},
   "outputs": [
    {
     "data": {
      "image/png": "[encoded data removed]",
      "text/plain": [
       "<Figure size 864x432 with 1 Axes>"
      ]
     },
     "metadata": {
      "needs_background": "light"
     },
     "output_type": "display_data"
    }
   ],
   "source": [
    "%matplotlib inline\n",
    "\n",
    "# Load \"Natural Earth” countries dataset, bundled with GeoPandas\n",
    "world = gpd.read_file(gpd.datasets.get_path('naturalearth_lowres'))\n",
    "\n",
    "# Overlay glacier outline\n",
    "f, ax = plt.subplots(1, figsize=(12, 6))\n",
    "world.plot(ax=ax, facecolor='lightgray', edgecolor='gray')\n",
    "gdf.plot(ax=ax, cmap='Set2')\n",
    "ax.set_ylim([52,65]) #adjust to frame glacier\n",
    "ax.set_xlim([-145,-120]);"
   ]
  },
  {
   "cell_type": "markdown",
   "metadata": {},
   "source": [
    "Convert the geopandas GeoDataFrame object to input readable by CMR."
   ]
  },
  {
   "cell_type": "code",
   "execution_count": 80,
   "metadata": {},
   "outputs": [
    {
     "name": "stdout",
     "output_type": "stream",
     "text": [
      "POLYGON Z ((-134.140369927 58.84756066000006 0, -134.5933307 58.64991417900006 0, -134.4530106449999 58.57874420000007 0, -134.357760661 58.62099421600005 0, -134.349790619 58.54857421700007 0, -134.191650618 58.57922424100008 0, -134.090664557 58.41642458200005 0, -134.007041547 58.42257706900006 0, -134.214740666 58.65846423700003 0, -134.140369927 58.84756066000006 0))\n"
     ]
    }
   ],
   "source": [
    "#Integer position based indexing of GeoDataFrame object to get it into a shapeply geometry object.\n",
    "poly = gdf.iloc[0].geometry\n",
    "\n",
    "# Simplify polygon. The larger the tolerance value, the more simplified the polygon.\n",
    "poly = poly.simplify(0.05, preserve_topology=False)\n",
    "\n",
    "# Orient counter-clockwise\n",
    "poly = orient(poly, sign=1.0)\n",
    "\n",
    "print(poly)\n",
    "\n",
    "#Format dictionary to polygon coordinate pairs for CMR polygon filtering\n",
    "polygon = ','.join([str(c) for xy in zip(*poly.exterior.coords.xy) for c in xy])\n",
    "\n",
    "# aoi value used for CMR params below\n",
    "aoi = '3'"
   ]
  },
  {
   "cell_type": "markdown",
   "metadata": {},
   "source": [
    "Now our coordinate pairs are ready for CMR."
   ]
  },
  {
   "cell_type": "markdown",
   "metadata": {},
   "source": [
    "## 5. Query\n",
    "\n",
    "Populate search query dictionaries based on spatial and temporal inputs. "
   ]
  },
  {
   "cell_type": "code",
   "execution_count": 81,
   "metadata": {},
   "outputs": [],
   "source": [
    "#Create CMR parameters used for granule search. Modify params depending on bounding_box or polygon input.\n",
    "\n",
    "# if aoi == '1':\n",
    "# # bounding box input:\n",
    "#     params = {\n",
    "#     'short_name': short_name,\n",
    "#     'version': latest_version,\n",
    "#     'temporal': temporal,\n",
    "#     'page_size': 100,\n",
    "#     'page_num': 1,\n",
    "#     'bounding_box': bounding_box\n",
    "#     }\n",
    "# else:\n",
    "    \n",
    "# If polygon input (either via coordinate pairs or shapefile/KML/KMZ):\n",
    "    params = {\n",
    "    'short_name': short_name,\n",
    "    'version': latest_version,\n",
    "    'temporal': temporal,\n",
    "    'page_size': 100,\n",
    "    'page_num': 1,\n",
    "    'polygon': polygon,\n",
    "    }\n",
    "\n",
    "# print('CMR search parameters: ', params)"
   ]
  },
  {
   "cell_type": "markdown",
   "metadata": {},
   "source": [
    "Next, determine data volume over the glacier by:\n",
    "1. inputing the parameter dictionary to the CMR granule search.\n",
    "2. querying all granules that meet the criteria based on the granule metadata.\n",
    "3. printing the number of granules returned."
   ]
  },
  {
   "cell_type": "code",
   "execution_count": 82,
   "metadata": {},
   "outputs": [
    {
     "data": {
      "text/plain": [
       "9"
      ]
     },
     "execution_count": 82,
     "metadata": {},
     "output_type": "execute_result"
    }
   ],
   "source": [
    "# Query number of granules using our (paging over results)\n",
    "\n",
    "granule_search_url = 'https://cmr.earthdata.nasa.gov/search/granules'\n",
    "\n",
    "granules = []\n",
    "while True:\n",
    "    response = requests.get(granule_search_url, params=params, headers=headers)\n",
    "    results = json.loads(response.content)\n",
    "\n",
    "    if len(results['feed']['entry']) == 0:\n",
    "        # Out of results, so break out of loop\n",
    "        break\n",
    "\n",
    "    # Collect results and increment page_num\n",
    "    granules.extend(results['feed']['entry'])\n",
    "    params['page_num'] += 1\n",
    "\n",
    "    \n",
    "# Get number of granules over my area and time of interest\n",
    "len(granules)\n"
   ]
  },
  {
   "cell_type": "markdown",
   "metadata": {},
   "source": [
    "Now query the average size of those granules. "
   ]
  },
  {
   "cell_type": "code",
   "execution_count": 83,
   "metadata": {},
   "outputs": [
    {
     "data": {
      "text/plain": [
       "6.599101808322223"
      ]
     },
     "execution_count": 83,
     "metadata": {},
     "output_type": "execute_result"
    }
   ],
   "source": [
    "granule_sizes = [float(granule['granule_size']) for granule in granules]\n",
    "mean(granule_sizes) # average size of granules in MB"
   ]
  },
  {
   "cell_type": "markdown",
   "metadata": {},
   "source": [
    "As well as the total volume."
   ]
  },
  {
   "cell_type": "code",
   "execution_count": 84,
   "metadata": {},
   "outputs": [
    {
     "data": {
      "text/plain": [
       "59.391916274900005"
      ]
     },
     "execution_count": 84,
     "metadata": {},
     "output_type": "execute_result"
    }
   ],
   "source": [
    "sum(granule_sizes) # total volume in MB"
   ]
  },
  {
   "cell_type": "markdown",
   "metadata": {},
   "source": [
    "## 6. Select services "
   ]
  },
  {
   "cell_type": "markdown",
   "metadata": {},
   "source": [
    "Next we will interact with the service capability to gather and select customization options. \n",
    "\n",
    "First, query the service capability URL."
   ]
  },
  {
   "cell_type": "code",
   "execution_count": 85,
   "metadata": {},
   "outputs": [
    {
     "name": "stdout",
     "output_type": "stream",
     "text": [
      "https://n5eil02u.ecs.nsidc.org/egi/capabilities/ATL06.001.xml\n"
     ]
    }
   ],
   "source": [
    "from xml.etree import ElementTree as ET\n",
    "\n",
    "capability_url = f'https://n5eil02u.ecs.nsidc.org/egi/capabilities/{short_name}.{latest_version}.xml'\n",
    "\n",
    "print(capability_url)"
   ]
  },
  {
   "cell_type": "markdown",
   "metadata": {},
   "source": [
    "All of NSIDC's service endpoints are behind the NASA Earthdata Login. Therefore we need to create a session to store cookies and pass Earthdata Login credentials."
   ]
  },
  {
   "cell_type": "code",
   "execution_count": 86,
   "metadata": {},
   "outputs": [],
   "source": [
    "session = requests.session() #create session\n",
    "s = session.get(capability_url)\n",
    "response = session.get(s.url,auth=(uid,pswd))\n",
    "\n",
    "root = ET.fromstring(response.content) #package to grab url content"
   ]
  },
  {
   "cell_type": "markdown",
   "metadata": {},
   "source": [
    "Last, we collect service information lists from the service capability XML."
   ]
  },
  {
   "cell_type": "code",
   "execution_count": 68,
   "metadata": {},
   "outputs": [],
   "source": [
    "# collect lists with each service option\n",
    "\n",
    "subagent = [subset_agent.attrib for subset_agent in root.iter('SubsetAgent')]\n",
    "\n",
    "# variable subsetting\n",
    "variables = [SubsetVariable.attrib for SubsetVariable in root.iter('SubsetVariable')]  \n",
    "variables_raw = [variables[i]['value'] for i in range(len(variables))]\n",
    "variables_join = [''.join(('/',v)) if v.startswith('/') == False else v for v in variables_raw] \n",
    "variable_vals = [v.replace(':', '/') for v in variables_join]\n",
    "\n",
    "# reformatting\n",
    "formats = [Format.attrib for Format in root.iter('Format')]\n",
    "format_vals = [formats[i]['value'] for i in range(len(formats))]\n",
    "format_vals.remove('')\n",
    "\n",
    "# reprojection only applicable on ICESat-2 L3B products, yet to be available. \n",
    "\n",
    "# reformatting options that support reprojection\n",
    "normalproj = [Projections.attrib for Projections in root.iter('Projections')]\n",
    "normalproj_vals = []\n",
    "normalproj_vals.append(normalproj[0]['normalProj'])\n",
    "format_proj = normalproj_vals[0].split(',')\n",
    "format_proj.remove('')\n",
    "format_proj.append('No reformatting')\n",
    "\n",
    "#reprojection options\n",
    "projections = [Projection.attrib for Projection in root.iter('Projection')]\n",
    "proj_vals = []\n",
    "for i in range(len(projections)):\n",
    "    if (projections[i]['value']) != 'NO_CHANGE' :\n",
    "        proj_vals.append(projections[i]['value'])\n",
    "        \n",
    "# reformatting options that do not support reprojection\n",
    "no_proj = [i for i in format_vals if i not in format_proj]"
   ]
  },
  {
   "cell_type": "markdown",
   "metadata": {},
   "source": [
    "## 7. API parameters"
   ]
  },
  {
   "cell_type": "markdown",
   "metadata": {},
   "source": [
    "Now that we have lists of each service option we can inspect subsetting variables that are used for our NSIDC API request. \n",
    "\n",
    "For example, we can make sure the time subset looks right."
   ]
  },
  {
   "cell_type": "code",
   "execution_count": 87,
   "metadata": {},
   "outputs": [
    {
     "name": "stdout",
     "output_type": "stream",
     "text": [
      "2018-10-01T00:00:00,2019-03-01T23:59:59\n"
     ]
    }
   ],
   "source": [
    "# Temporal subsetting KVP\n",
    "\n",
    "timevar = start_date + 'T' + start_time + ',' + end_date + 'T' + end_time\n",
    "print(timevar)"
   ]
  },
  {
   "cell_type": "markdown",
   "metadata": {},
   "source": [
    "Or we can explore the `variable_vals` list we gathered from the capabilities URL. "
   ]
  },
  {
   "cell_type": "code",
   "execution_count": 88,
   "metadata": {},
   "outputs": [
    {
     "data": {
      "text/plain": [
       "627"
      ]
     },
     "execution_count": 88,
     "metadata": {},
     "output_type": "execute_result"
    }
   ],
   "source": [
    "len(variable_vals)\n",
    "# pprint.pprint(variable_vals) #print the entire variable list"
   ]
  },
  {
   "cell_type": "markdown",
   "metadata": {},
   "source": [
    "Yikes! That is a lot of variables. Let's only grab the ones we want.\n",
    "\n",
    "Enter only ones we want separated by comma using the `coverage` key. \n",
    "\n",
    "**TIP** *: All forward slashes need to be included to indicate HDF group hierarchy.*"
   ]
  },
  {
   "cell_type": "code",
   "execution_count": 70,
   "metadata": {},
   "outputs": [],
   "source": [
    "coverage = '/ancillary_data/atlas_sdp_gps_epoch,\\\n",
    "/gt1l/land_ice_segments/atl06_quality_summary,\\\n",
    "/gt1l/land_ice_segments/delta_time,\\\n",
    "/gt1l/land_ice_segments/h_li,\\\n",
    "/gt1l/land_ice_segments/h_li_sigma,\\\n",
    "/gt1l/land_ice_segments/latitude,\\\n",
    "/gt1l/land_ice_segments/longitude,\\\n",
    "/gt1l/land_ice_segments/segment_id,\\\n",
    "/gt1l/land_ice_segments/sigma_geo_h,\\\n",
    "/gt1r/land_ice_segments/atl06_quality_summary,\\\n",
    "/gt1r/land_ice_segments/delta_time,\\\n",
    "/gt1r/land_ice_segments/h_li,\\\n",
    "/gt1r/land_ice_segments/h_li_sigma,\\\n",
    "/gt1r/land_ice_segments/latitude,\\\n",
    "/gt1r/land_ice_segments/longitude,\\\n",
    "/gt1r/land_ice_segments/segment_id,\\\n",
    "/gt1r/land_ice_segments/sigma_geo_h,\\\n",
    "/gt2l/land_ice_segments/atl06_quality_summary,\\\n",
    "/gt2l/land_ice_segments/delta_time,\\\n",
    "/gt2l/land_ice_segments/h_li,\\\n",
    "/gt2l/land_ice_segments/h_li_sigma,\\\n",
    "/gt2l/land_ice_segments/latitude,\\\n",
    "/gt2l/land_ice_segments/longitude,\\\n",
    "/gt2l/land_ice_segments/segment_id,\\\n",
    "/gt2l/land_ice_segments/sigma_geo_h,\\\n",
    "/gt2r/land_ice_segments/atl06_quality_summary,\\\n",
    "/gt2r/land_ice_segments/delta_time,\\\n",
    "/gt2r/land_ice_segments/h_li,\\\n",
    "/gt2r/land_ice_segments/h_li_sigma,\\\n",
    "/gt2r/land_ice_segments/latitude,\\\n",
    "/gt2r/land_ice_segments/longitude,\\\n",
    "/gt2r/land_ice_segments/segment_id,\\\n",
    "/gt2r/land_ice_segments/sigma_geo_h,\\\n",
    "/gt3l/land_ice_segments/atl06_quality_summary,\\\n",
    "/gt3l/land_ice_segments/delta_time,\\\n",
    "/gt3l/land_ice_segments/h_li,\\\n",
    "/gt3l/land_ice_segments/h_li_sigma,\\\n",
    "/gt3l/land_ice_segments/latitude,\\\n",
    "/gt3l/land_ice_segments/longitude,\\\n",
    "/gt3l/land_ice_segments/segment_id,\\\n",
    "/gt3l/land_ice_segments/sigma_geo_h,\\\n",
    "/gt3r/land_ice_segments/atl06_quality_summary,\\\n",
    "/gt3r/land_ice_segments/delta_time,\\\n",
    "/gt3r/land_ice_segments/h_li,\\\n",
    "/gt3r/land_ice_segments/h_li_sigma,\\\n",
    "/gt3r/land_ice_segments/latitude,\\\n",
    "/gt3r/land_ice_segments/longitude,\\\n",
    "/gt3r/land_ice_segments/segment_id,\\\n",
    "/gt3r/land_ice_segments/sigma_geo_h,\\\n",
    "/orbit_info/cycle_number,\\\n",
    "/orbit_info/rgt,\\\n",
    "/orbit_info/orbit_number' "
   ]
  },
  {
   "cell_type": "markdown",
   "metadata": {},
   "source": [
    "## 7. Request data\n",
    "\n",
    "Finally we are ready to request data from the NSIDC data access API.\n",
    "\n",
    "1. Set the NSIDC data access base URL.\n",
    "2. Set the number of granules requested per order.\n",
    "3. Determine the number of pages.\n",
    "4. Set the loop requests by this value."
   ]
  },
  {
   "cell_type": "code",
   "execution_count": 89,
   "metadata": {},
   "outputs": [
    {
     "name": "stdout",
     "output_type": "stream",
     "text": [
      "1\n"
     ]
    }
   ],
   "source": [
    "base_url = 'https://n5eil02u.ecs.nsidc.org/egi/request'\n",
    "page_size = 10 #number of granules per order\n",
    "page_num = math.ceil(len(granules)/page_size)\n",
    "print(page_num)\n",
    "request_mode = 'async'"
   ]
  },
  {
   "cell_type": "markdown",
   "metadata": {},
   "source": [
    "Create a new dictionary of NSIDC API key-value-pairs (KVPs) for the request. "
   ]
  },
  {
   "cell_type": "code",
   "execution_count": 56,
   "metadata": {},
   "outputs": [
    {
     "name": "stdout",
     "output_type": "stream",
     "text": [
      "{'short_name': 'ATL06', 'version': '001', 'temporal': '2018-10-01T00:00:00Z,2019-03-01T23:59:59Z', 'time': '2018-10-01T00:00:00,2019-03-01T23:59:59', 'polygon': '-134.140369927,58.84756066000006,-134.5933307,58.64991417900006,-134.4530106449999,58.57874420000007,-134.357760661,58.62099421600005,-134.349790619,58.54857421700007,-134.191650618,58.57922424100008,-134.090664557,58.41642458200005,-134.007041547,58.42257706900006,-134.214740666,58.65846423700003,-134.140369927,58.84756066000006', 'Coverage': '/ancillary_data/atlas_sdp_gps_epoch,/gt1l/land_ice_segments/atl06_quality_summary,/gt1l/land_ice_segments/delta_time,/gt1l/land_ice_segments/h_li,/gt1l/land_ice_segments/h_li_sigma,/gt1l/land_ice_segments/latitude,/gt1l/land_ice_segments/longitude,/gt1l/land_ice_segments/segment_id,/gt1l/land_ice_segments/sigma_geo_h,/gt1r/land_ice_segments/atl06_quality_summary,/gt1r/land_ice_segments/delta_time,/gt1r/land_ice_segments/h_li,/gt1r/land_ice_segments/h_li_sigma,/gt1r/land_ice_segments/latitude,/gt1r/land_ice_segments/longitude,/gt1r/land_ice_segments/segment_id,/gt1r/land_ice_segments/sigma_geo_h,/gt2l/land_ice_segments/atl06_quality_summary,/gt2l/land_ice_segments/delta_time,/gt2l/land_ice_segments/h_li,/gt2l/land_ice_segments/h_li_sigma,/gt2l/land_ice_segments/latitude,/gt2l/land_ice_segments/longitude,/gt2l/land_ice_segments/segment_id,/gt2l/land_ice_segments/sigma_geo_h,/gt2r/land_ice_segments/atl06_quality_summary,/gt2r/land_ice_segments/delta_time,/gt2r/land_ice_segments/h_li,/gt2r/land_ice_segments/h_li_sigma,/gt2r/land_ice_segments/latitude,/gt2r/land_ice_segments/longitude,/gt2r/land_ice_segments/segment_id,/gt2r/land_ice_segments/sigma_geo_h,/gt3l/land_ice_segments/atl06_quality_summary,/gt3l/land_ice_segments/delta_time,/gt3l/land_ice_segments/h_li,/gt3l/land_ice_segments/h_li_sigma,/gt3l/land_ice_segments/latitude,/gt3l/land_ice_segments/longitude,/gt3l/land_ice_segments/segment_id,/gt3l/land_ice_segments/sigma_geo_h,/gt3r/land_ice_segments/atl06_quality_summary,/gt3r/land_ice_segments/delta_time,/gt3r/land_ice_segments/h_li,/gt3r/land_ice_segments/h_li_sigma,/gt3r/land_ice_segments/latitude,/gt3r/land_ice_segments/longitude,/gt3r/land_ice_segments/segment_id,/gt3r/land_ice_segments/sigma_geo_h,/orbit_info/cycle_number,/orbit_info/rgt,/orbit_info/orbit_number', 'request_mode': 'async', 'page_size': 10, 'token': '46662C56-9B7F-F350-3E54-45E48718A212', 'email': 'cflorentine@usgs.gov'}\n"
     ]
    }
   ],
   "source": [
    "# subset_params = {\n",
    "#     'short_name': short_name, \n",
    "#     'version': latest_version, \n",
    "#     'temporal': temporal, \n",
    "#     'time': timevar, \n",
    "#     'polygon': polygon, \n",
    "#     'Coverage': coverage, \n",
    "#     'request_mode': request_mode, \n",
    "#     'page_size': page_size,  \n",
    "#     'token': token, \n",
    "#     'email': email, \n",
    "#     }\n",
    "# print(subset_params)"
   ]
  },
  {
   "cell_type": "markdown",
   "metadata": {},
   "source": [
    "#### We'll request the same data but without any subsetting services applied. Let's create another request parameter dictionary with the `time` and `coverage` service keys removed, and we'll add `agent=NO` instead."
   ]
  },
  {
   "cell_type": "code",
   "execution_count": 90,
   "metadata": {},
   "outputs": [],
   "source": [
    "request_params = {\n",
    "    'short_name': short_name, \n",
    "    'version': latest_version, \n",
    "    'temporal': temporal, \n",
    "    'polygon': polygon, \n",
    "    'agent' : 'NO',\n",
    "    'include_meta' : 'Y',\n",
    "    'request_mode': request_mode, \n",
    "    'page_size': page_size,  \n",
    "    'token': token, \n",
    "    'email': email, \n",
    "    }\n",
    "\n",
    "# print(request_params)"
   ]
  },
  {
   "cell_type": "markdown",
   "metadata": {},
   "source": [
    "Ready? Now we download subset ICESat-2 data to this notebook directory in a new output folder. The progress of each order will be reported. "
   ]
  },
  {
   "cell_type": "code",
   "execution_count": 93,
   "metadata": {},
   "outputs": [
    {
     "name": "stdout",
     "output_type": "stream",
     "text": [
      "Order:  1\n",
      "Request HTTP response:  201\n",
      "Order request URL:  https://n5eil02u.ecs.nsidc.org/egi/request?short_name=ATL06&version=001&temporal=2018-10-01T00%3A00%3A00Z%2C2019-03-01T23%3A59%3A59Z&polygon=-134.140369927%2C58.84756066000006%2C-134.5933307%2C58.64991417900006%2C-134.4530106449999%2C58.57874420000007%2C-134.357760661%2C58.62099421600005%2C-134.349790619%2C58.54857421700007%2C-134.191650618%2C58.57922424100008%2C-134.090664557%2C58.41642458200005%2C-134.007041547%2C58.42257706900006%2C-134.214740666%2C58.65846423700003%2C-134.140369927%2C58.84756066000006&agent=NO&include_meta=Y&request_mode=async&page_size=10&token=A51CBA50-8122-6C2D-BBA0-FD8E99E7B8E1&email=cflorentine%40usgs.gov&page_num=1\n",
      "Order request response XML content:  b'<?xml version=\"1.0\" encoding=\"UTF-8\" standalone=\"yes\"?>\\n<eesi:agentResponse xsi:schemaLocation=\"http://eosdis.nasa.gov/esi/rsp/e https://newsroom.gsfc.nasa.gov/esi/8.1/schemas/ESIAgentResponseExternal.xsd\" xmlns=\"\" xmlns:iesi=\"http://eosdis.nasa.gov/esi/rsp/i\" xmlns:ssw=\"http://newsroom.gsfc.nasa.gov/esi/rsp/ssw\" xmlns:eesi=\"http://eosdis.nasa.gov/esi/rsp/e\" xmlns:esi=\"http://eosdis.nasa.gov/esi/rsp\" xmlns:xsi=\"http://www.w3.org/2001/XMLSchema-instance\">\\n    <order>\\n        <orderId>5000000320409</orderId>\\n        <Instructions>You may receive an email about your order if you specified an EMAIL address. &lt;br/&gt;&lt;br/&gt;The instructions used to process this order are:  Processing tool=NO. Bounding Shape={\"type\":\"FeatureCollection\",\"crs\":{\"type\":\"name\",\"properties\":{\"name\":\"urn:ogc:def:crs:OGC:1.3:CRS84\"}},\"features\":[{\"type\":\"Feature\",\"properties\":{\"Name\":\"Taku Glacier\",\"description\":\"&lt;html xmlns:fo=\\\\\"http://www.w3.org/1999/XSL/Format\\\\\" xmlns:msxsl=\\\\\"urn:schemas-microsoft-com:xslt\\\\\"&gt;\\\\n\\\\n&lt;head&gt;\\\\n\\\\n&lt;META http-equiv=\\\\\"Content-Type\\\\\" content=\\\\\"text/html\\\\\"&gt;\\\\n\\\\n&lt;meta http-equiv=\\\\\"content-type\\\\\" content=\\\\\"text/html; charset=UTF-8\\\\\"&gt;\\\\n\\\\n&lt;/head&gt;\\\\n\\\\n&lt;body style=\\\\\"margin:0px 0px 0px 0px;overflow:auto;background:#FFFFFF;\\\\\"&gt;\\\\n\\\\n&lt;table style=\\\\\"font-family:Arial,Verdana,Times;font-size:12px;text-align:left;width:100%;border-collapse:collapse;padding:3px 3px 3px 3px\\\\\"&gt;\\\\n\\\\n&lt;tr style=\\\\\"text-align:center;font-weight:bold;background:#9CBCE2\\\\\"&gt;\\\\n\\\\n&lt;td&gt;Taku Glacier&lt;/td&gt;\\\\n\\\\n&lt;/tr&gt;\\\\n\\\\n&lt;tr&gt;\\\\n\\\\n&lt;td&gt;\\\\n\\\\n&lt;table style=\\\\\"font-family:Arial,Verdana,Times;font-size:12px;text-align:left;width:100%;border-spacing:0px; padding:3px 3px 3px 3px\\\\\"&gt;\\\\n\\\\n&lt;tr&gt;\\\\n\\\\n&lt;td&gt;FID&lt;/td&gt;\\\\n\\\\n&lt;td&gt;1389&lt;/td&gt;\\\\n\\\\n&lt;/tr&gt;\\\\n\\\\n&lt;tr bgcolor=\\\\\"#D4E4F3\\\\\"&gt;\\\\n\\\\n&lt;td&gt;RGIId&lt;/td&gt;\\\\n\\\\n&lt;td&gt;RGI60-01.01390&lt;/td&gt;\\\\n\\\\n&lt;/tr&gt;\\\\n\\\\n&lt;tr&gt;\\\\n\\\\n&lt;td&gt;GLIMSId&lt;/td&gt;\\\\n\\\\n&lt;td&gt;G225722E58651N&lt;/td&gt;\\\\n\\\\n&lt;/tr&gt;\\\\n\\\\n&lt;tr bgcolor=\\\\\"#D4E4F3\\\\\"&gt;\\\\n\\\\n&lt;td&gt;BgnDate&lt;/td&gt;\\\\n\\\\n&lt;td&gt;20050811&lt;/td&gt;\\\\n\\\\n&lt;/tr&gt;\\\\n\\\\n&lt;tr&gt;\\\\n\\\\n&lt;td&gt;EndDate&lt;/td&gt;\\\\n\\\\n&lt;td&gt;-9999999&lt;/td&gt;\\\\n\\\\n&lt;/tr&gt;\\\\n\\\\n&lt;tr bgcolor=\\\\\"#D4E4F3\\\\\"&gt;\\\\n\\\\n&lt;td&gt;CenLon&lt;/td&gt;\\\\n\\\\n&lt;td&gt;-134.278&lt;/td&gt;\\\\n\\\\n&lt;/tr&gt;\\\\n\\\\n&lt;tr&gt;\\\\n\\\\n&lt;td&gt;CenLat&lt;/td&gt;\\\\n\\\\n&lt;td&gt;58.651&lt;/td&gt;\\\\n\\\\n&lt;/tr&gt;\\\\n\\\\n&lt;tr bgcolor=\\\\\"#D4E4F3\\\\\"&gt;\\\\n\\\\n&lt;td&gt;O1Region&lt;/td&gt;\\\\n\\\\n&lt;td&gt;1&lt;/td&gt;\\\\n\\\\n&lt;/tr&gt;\\\\n\\\\n&lt;tr&gt;\\\\n\\\\n&lt;td&gt;O2Region&lt;/td&gt;\\\\n\\\\n&lt;td&gt;6&lt;/td&gt;\\\\n\\\\n&lt;/tr&gt;\\\\n\\\\n&lt;tr bgcolor=\\\\\"#D4E4F3\\\\\"&gt;\\\\n\\\\n&lt;td&gt;Area&lt;/td&gt;\\\\n\\\\n&lt;td&gt;521.396&lt;/td&gt;\\\\n\\\\n&lt;/tr&gt;\\\\n\\\\n&lt;tr&gt;\\\\n\\\\n&lt;td&gt;Zmin&lt;/td&gt;\\\\n\\\\n&lt;td&gt;0&lt;/td&gt;\\\\n\\\\n&lt;/tr&gt;\\\\n\\\\n&lt;tr bgcolor=\\\\\"#D4E4F3\\\\\"&gt;\\\\n\\\\n&lt;td&gt;Zmax&lt;/td&gt;\\\\n\\\\n&lt;td&gt;2164&lt;/td&gt;\\\\n\\\\n&lt;/tr&gt;\\\\n\\\\n&lt;tr&gt;\\\\n\\\\n&lt;td&gt;Zmed&lt;/td&gt;\\\\n\\\\n&lt;td&gt;1367&lt;/td&gt;\\\\n\\\\n&lt;/tr&gt;\\\\n\\\\n&lt;tr bgcolor=\\\\\"#D4E4F3\\\\\"&gt;\\\\n\\\\n&lt;td&gt;Slope&lt;/td&gt;\\\\n\\\\n&lt;td&gt;5&lt;/td&gt;\\\\n\\\\n&lt;/tr&gt;\\\\n\\\\n&lt;tr&gt;\\\\n\\\\n&lt;td&gt;Aspect&lt;/td&gt;\\\\n\\\\n&lt;td&gt;118&lt;/td&gt;\\\\n\\\\n&lt;/tr&gt;\\\\n\\\\n&lt;tr bgcolor=\\\\\"#D4E4F3\\\\\"&gt;\\\\n\\\\n&lt;td&gt;Lmax&lt;/td&gt;\\\\n\\\\n&lt;td&gt;59926&lt;/td&gt;\\\\n\\\\n&lt;/tr&gt;\\\\n\\\\n&lt;tr&gt;\\\\n\\\\n&lt;td&gt;Status&lt;/td&gt;\\\\n\\\\n&lt;td&gt;0&lt;/td&gt;\\\\n\\\\n&lt;/tr&gt;\\\\n\\\\n&lt;tr bgcolor=\\\\\"#D4E4F3\\\\\"&gt;\\\\n\\\\n&lt;td&gt;Connect&lt;/td&gt;\\\\n\\\\n&lt;td&gt;0&lt;/td&gt;\\\\n\\\\n&lt;/tr&gt;\\\\n\\\\n&lt;tr&gt;\\\\n\\\\n&lt;td&gt;Form&lt;/td&gt;\\\\n\\\\n&lt;td&gt;0&lt;/td&gt;\\\\n\\\\n&lt;/tr&gt;\\\\n\\\\n&lt;tr bgcolor=\\\\\"#D4E4F3\\\\\"&gt;\\\\n\\\\n&lt;td&gt;TermType&lt;/td&gt;\\\\n\\\\n&lt;td&gt;1&lt;/td&gt;\\\\n\\\\n&lt;/tr&gt;\\\\n\\\\n&lt;tr&gt;\\\\n\\\\n&lt;td&gt;Surging&lt;/td&gt;\\\\n\\\\n&lt;td&gt;9&lt;/td&gt;\\\\n\\\\n&lt;/tr&gt;\\\\n\\\\n&lt;tr bgcolor=\\\\\"#D4E4F3\\\\\"&gt;\\\\n\\\\n&lt;td&gt;Linkages&lt;/td&gt;\\\\n\\\\n&lt;td&gt;1&lt;/td&gt;\\\\n\\\\n&lt;/tr&gt;\\\\n\\\\n&lt;tr&gt;\\\\n\\\\n&lt;td&gt;Name&lt;/td&gt;\\\\n\\\\n&lt;td&gt;Taku Glacier&lt;/td&gt;\\\\n\\\\n&lt;/tr&gt;\\\\n\\\\n&lt;/table&gt;\\\\n\\\\n&lt;/td&gt;\\\\n\\\\n&lt;/tr&gt;\\\\n\\\\n&lt;/table&gt;\\\\n\\\\n&lt;/body&gt;\\\\n\\\\n&lt;/html&gt;\",\"timestamp\":null,\"begin\":null,\"end\":null,\"altitudeMode\":null,\"tessellate\":-1,\"extrude\":0,\"visibility\":-1,\"drawOrder\":null,\"icon\":null,\"snippet\":\"\"},\"geometry\":{\"type\":\"MultiPolygon\",\"coordinates\":[[[[-134.140369927,58.84756066000006,0],[-134.14074814,58.84755932800005,0],[-134.143216609,58.84745557100007,0],[-134.148051786,58.84757854100008,0],[-134.153928115,58.84821315600004,0],[-134.159134814,58.84948435400009,0],[-134.163571005,58.85043505800007,0],[-134.168460508,58.85175457300004,0],[-134.173377446,58.85302865700004,0],[-134.17966785,58.85442086200004,0],[-134.184477251,58.85523161300006,0],[-134.189537061,58.85578460000005,0],[-134.195496669,58.85628157000008,0],[-134.201259931,58.85630147000006,0],[-134.209295472,58.85573930600003,0],[-134.217350037,58.85433782700005,0],[-134.225376027,58.85233720400003,0],[-134.230436783,58.85031991000006,0],[-134.2300607769999,58.85032423100006,0],[-134.2292807749999,58.85017423200002,0],[-134.228470776,58.84989423100006,0],[-134.228281785,58.84975133700004,0],[-134.2280607759999,58.84958423100005,0],[-134.227870776,58.84920423100004,0],[-134.228040775,58.84873423200002,0],[-134.227430774,58.84839423200003,0],[-134.2264907749999,58.84821423200003,0],[-134.225920774,58.84791423100006,0],[-134.225430774,58.84761423200007,0],[-134.225560774,58.84733423200004,0],[-134.226324203,58.84716994900003,0],[-134.226350775,58.84716423100008,0],[-134.226650773,58.84670423100005,0],[-134.226570774,58.84633423200006,0],[-134.225710774,58.84611423200005,0],[-134.224940772,58.84585423200008,0],[-134.2241107729999,58.84591423200004,0],[-134.224060614,58.84592893400003,0],[-134.223530774,58.84608423200007,0],[-134.223000774,58.84608423300006,0],[-134.222340772,58.84588423200007,0],[-134.222270774,58.84548423200005,0],[-134.222279653,58.84504018900003,0],[-134.222280773,58.84498423300005,0],[-134.222185291,58.84497499200006,0],[-134.221660774,58.84492423300003,0],[-134.220760774,58.84485423300004,0],[-134.220060772,58.84474423300002,0],[-134.219620772,58.84441423200008,0],[-134.218880772,58.84413423300002,0],[-134.218270773,58.84402423200003,0],[-134.2178435599999,58.84389507700007,0],[-134.21741077,58.84376423300005,0],[-134.21684077,58.84344423300006,0],[-134.2160607709999,58.84324423300006,0],[-134.215240771,58.84326423400006,0],[-134.214580771,58.84330423400007,0],[-134.2137907699999,58.84353423300007,0],[-134.213340771,58.84374423400004,0],[-134.2128407709999,58.84384423300003,0],[-134.212050771,58.84398423400006,0],[-134.21158669,58.84401403900006,0],[-134.210960771,58.84405423400005,0],[-134.20982077,58.84422423500006,0],[-134.208780771,58.84439423500005,0],[-134.207990771,58.84457423400005,0],[-134.207190772,58.84474423500006,0],[-134.2068957709999,58.84488423600004,0],[-134.2065274189999,58.84490170900006,0],[-134.206454227,58.84483675100006,0],[-134.206419572,58.84480599400007,0],[-134.206460348,58.84462861500003,0],[-134.206480668,58.84454022500006,0],[-134.20647713,58.84451743400007,0],[-134.2064657719999,58.84444423400004,0],[-134.20648077,58.84393423500006,0],[-134.207002548,58.84362464700006,0],[-134.207980771,58.84304423500004,0],[-134.21045077,58.84305423400008,0],[-134.212420771,58.84307423300004,0],[-134.215150771,58.84257423400005,0],[-134.2169007689999,58.84156423300004,0],[-134.217806211,58.84119481600004,0],[-134.218150771,58.84105423300008,0],[-134.218180769,58.83952423300008,0],[-134.216720768,58.83874423300006,0],[-134.215986721,58.83830209800004,0],[-134.215010768,58.83771423400003,0],[-134.2150407669999,58.83643423400008,0],[-134.215810767,58.83515423400007,0],[-134.215812472,58.83507407600007,0],[-134.2158407639999,58.83374423400005,0],[-134.214880765,58.83246423300005,0],[-134.214780263,58.83212031000005,0],[-134.214972615,58.83210575900006,0],[-134.214966305,58.83205668700003,0],[-134.214085785,58.83108197200005,0],[-134.214580353,58.82997750100003,0],[-134.214841552,58.82933786600006,0],[-134.2146884049999,58.82838510200003,0],[-134.214535268,58.82743233700007,0],[-134.214382138,58.82647957200004,0],[-134.213941876,58.82560520200008,0],[-134.213966069,58.82455666800007,0],[-134.213998911,58.82369521100003,0],[-134.214183966,58.82298163500008,0],[-134.214757299,58.82201995100007,0],[-134.215330599,58.82105826400004,0],[-134.215979972,58.82017051200006,0],[-134.216848957,58.81931749500006,0],[-134.217852763,58.81823818800007,0],[-134.218789077,58.81727201500007,0],[-134.2200461,58.81617085300007,0],[-134.22165749,58.81487812100004,0],[-134.222551206,58.81378141000005,0],[-134.2234785639999,58.81262812000006,0],[-134.2241949629999,58.81162717900003,0],[-134.2249026109999,58.81043915200007,0],[-134.225762413,58.80939898900004,0],[-134.226521087,58.80852854000005,0],[-134.227541717,58.80782331200004,0],[-134.228418826,58.80715729100007,0],[-134.2291524299999,58.80653047900005,0],[-134.229861058,58.80614731700007,0],[-134.2310000749999,58.80564649900003,0],[-134.232024923,58.80512489600005,0],[-134.232206418,58.80503252000005,0],[-134.233311686,58.80458825500007,0],[-134.234327325,58.80417562000008,0],[-134.233950749,58.80401423100005,0],[-134.233630751,58.80382423100008,0],[-134.2334685,58.80380105300003,0],[-134.233398001,58.80374915800007,0],[-134.233262418,58.80366755800003,0],[-134.233164404,58.80364027700007,0],[-134.232560751,58.80326423100007,0],[-134.231190751,58.80376423200005,0],[-134.23034075,58.80331423100006,0],[-134.228760748,58.80240423200007,0],[-134.227790748,58.80176423200004,0],[-134.227800748,58.80099423200005,0],[-134.227330748,58.80028423200009,0],[-134.227090747,58.79970423200007,0],[-134.2280707469999,58.80003423200003,0],[-134.229050748,58.80042423200007,0],[-134.229660748,58.80081423200005,0],[-134.23113075,58.80126423100007,0],[-134.2318507479999,58.80191423100007,0],[-134.232710751,58.80211423100008,0],[-134.233820749,58.80230423100006,0],[-134.234670749,58.80288423100005,0],[-134.2358907509999,58.80315423100006,0],[-134.237370751,58.80316423100004,0],[-134.23799075,58.80316423000005,0],[-134.239100751,58.80304423100006,0],[-134.24009075,58.80279423000007,0],[-134.241830751,58.80235423000004,0],[-134.24356075,58.80211423000003,0],[-134.24394075,58.80172422900006,0],[-134.2439507509999,58.80121423000003,0],[-134.2438407499999,58.80064422900006,0],[-134.24422075,58.80019423000005,0],[-134.24545075,58.80052422900008,0],[-134.2469207509999,58.80085423000003,0],[-134.24815075,58.80085422900004,0],[-134.24952075,58.80054422900008,0],[-134.251250751,58.80023422900006,0],[-134.25212075,58.79979422800005,0],[-134.252870748,58.79922422800007,0],[-134.25410075,58.79974422900005,0],[-134.2553207509999,58.80025422800003,0],[-134.256540751,58.80058422700006,0],[-134.257520751,58.80103422700006,0],[-134.258750752,58.80104422800008,0],[-134.2593907519999,58.80015422700006,0],[-134.259400749,58.79957422800004,0],[-134.261000751,58.79997422600007,0],[-134.262350751,58.79997422700006,0],[-134.263232193,58.80003155600008,0],[-134.263580752,58.80005422700003,0],[-134.26358865,58.80005067200005,0],[-134.263589391,58.80006705500006,0],[-134.263602872,58.80012226200007,0],[-134.263610401,58.80013526100004,0],[-134.263590751,58.80014422700003,0],[-134.263480751,58.80051422600008,0],[-134.263360752,58.80091422700009,0],[-134.263640752,58.80113422700003,0],[-134.264100753,58.80113422600004,0],[-134.264940754,58.80115422600004,0],[-134.2654707519999,58.80108422600006,0],[-134.265300751,58.80079422600004,0],[-134.265590752,58.80054422600006,0],[-134.265830751,58.80067422600007,0],[-134.266040752,58.80096422600008,0],[-134.266890753,58.80096422600008,0],[-134.267590752,58.80093422600004,0],[-134.268143123,58.80074041200004,0],[-134.268160753,58.80073422600002,0],[-134.268720752,58.80065422600006,0],[-134.269120753,58.80045422600006,0],[-134.269650752,58.80010422600003,0],[-134.2701507519999,58.79987422500005,0],[-134.270230752,58.79959422600007,0],[-134.270060753,58.79932422600007,0],[-134.270170751,58.79897422600004,0],[-134.269640752,58.79886422600003,0],[-134.269360751,58.79875422500004,0],[-134.26958075,58.79838422500006,0],[-134.2697307509999,58.79802422600005,0],[-134.270300751,58.79777422600006,0],[-134.270410751,58.79747422600008,0],[-134.2704507509999,58.79716422600007,0],[-134.2708807499999,58.79687422600006,0],[-134.271340752,58.79686422500004,0],[-134.271343311,58.79686450300005,0],[-134.271836774,58.79624168500005,0],[-134.27282394,58.79574391200003,0],[-134.27364118,58.79533814900002,0],[-134.274903568,58.79476497000007,0],[-134.276157288,58.79401218300007,0],[-134.277443202,58.79320505900007,0],[-134.278567824,58.79266954200006,0],[-134.279733299,58.79225928600006,0],[-134.280857854,58.79172374900003,0],[-134.281941479,58.79106293200005,0],[-134.282928348,58.79056507900003,0],[-134.284093698,58.79015478400004,0],[-134.285056949,58.78989083600004,0],[-134.286061094,58.78975215000003,0],[-134.28709746,58.78955913100004,0],[-134.28820696,58.78943704500006,0],[-134.2892519979999,58.78942360300005,0],[-134.290823904,58.78949322100004,0],[-134.291138108,58.78951851300008,0],[-134.291150749,58.78941422300004,0],[-134.2910207469999,58.78879422200005,0],[-134.290680749,58.78840422200004,0],[-134.290610747,58.78803422300006,0],[-134.290050749,58.78796422300007,0],[-134.289590747,58.78796422200003,0],[-134.289070747,58.78763422200007,0],[-134.288800747,58.78736422300005,0],[-134.2884507479999,58.78697422300007,0],[-134.287720746,58.78669422300004,0],[-134.287230745,58.78649422400008,0],[-134.286850745,58.78628422300005,0],[-134.286150746,58.78603422300006,0],[-134.2857607449999,58.78579422300004,0],[-134.285629199,58.78570104400005,0],[-134.285280745,58.78545422400002,0],[-134.284440744,58.78506422400005,0],[-134.283850745,58.78473422400003,0],[-134.282970744,58.78447422400005,0],[-134.2823407449999,58.78441422400005,0],[-134.281750745,58.78412422400004,0],[-134.281400744,58.78380422400005,0],[-134.281210272,58.78374980400007,0],[-134.280950547,58.78367559800006,0],[-134.280700743,58.78360422400004,0],[-134.2803607439999,58.78334422400008,0],[-134.280360611,58.78334427400006,0],[-134.280352423,58.78330011400004,0],[-134.280343809,58.78316343000006,0],[-134.280346143,58.78305056800008,0],[-134.2803257959999,58.78300917000006,0],[-134.280340743,58.78299422500004,0],[-134.279980743,58.78216422500003,0],[-134.278640743,58.78176422400003,0],[-134.2780307419999,58.78106422500008,0],[-134.277180742,58.78048422500007,0],[-134.276220741,58.77958422500006,0],[-134.2757407399999,58.77874422600007,0],[-134.27514074,58.77784422500009,0],[-134.274540739,58.77726422500007,0],[-134.274680739,58.77650422500005,0],[-134.2754307389999,58.77573422600005,0],[-134.276060738,58.77510422500006,0],[-134.276080738,58.77439422500003,0],[-134.275720738,58.77381422500009,0],[-134.275735568,58.77325067500004,0],[-134.275740736,58.77305422500006,0],[-134.274890737,58.77240422600005,0],[-134.274733554,58.77232711900006,0],[-134.2733007369999,58.77162422600003,0],[-134.272450737,58.77104422500008,0],[-134.2713507349999,58.77065422600003,0],[-134.271154268,58.77049012000003,0],[-134.27112855,58.77033586400007,0],[-134.271131978,58.77032134900004,0],[-134.2711241279999,58.77030932600007,0],[-134.2710439909999,58.77018660600003,0],[-134.271046879,58.77004874900007,0],[-134.2710569769999,58.76990004700008,0],[-134.271066925,58.76975860200008,0],[-134.271132597,58.76962472700006,0],[-134.271302728,58.76950595600005,0],[-134.271308082,58.76950456000003,0],[-134.27152046,58.76944913400007,0],[-134.271745735,58.76939922700005,0],[-134.272180734,58.76932422600003,0],[-134.2722302339999,58.76929947600007,0],[-134.271820177,58.76897110200008,0],[-134.271661839,58.76884942400006,0],[-134.271326363,58.76861519800008,0],[-134.270860581,58.76824357800007,0],[-134.270688577,58.76812784700007,0],[-134.270495171,58.76802281700003,0],[-134.270084987,58.76782420100005,0],[-134.269894349,58.76771742400007,0],[-134.269727288,58.76759869600005,0],[-134.26957793,58.76747113600003,0],[-134.269295759,58.76720893800007,0],[-134.269006308,58.76695445000007,0],[-134.268569941,58.76659194000007,0],[-134.268448485,58.76646778600009,0],[-134.268349819,58.76633905100005,0],[-134.2682853539999,58.76620209000004,0],[-134.268255874,58.76605920200006,0],[-134.268259726,58.76591456500006,0],[-134.268296869,58.76577230500004,0],[-134.268364903,58.76563451400006,0],[-134.2684510129999,58.76549710100005,0],[-134.268555469,58.76536238400007,0],[-134.268683647,58.76523494000003,0],[-134.268838174,58.76511752000005,0],[-134.269010988,58.76500690400007,0],[-134.2692029789999,58.76490438300003,0],[-134.269408002,58.76480732400007,0],[-134.2700777379999,58.76454061500004,0],[-134.270281468,58.76444072900006,0],[-134.270498638,58.76429593000006,0],[-134.2706867699999,58.76413583000004,0],[-134.27104761,58.76380813100008,0],[-134.271371322,58.76356537600003,0],[-134.271708525,58.76333046800005,0],[-134.2718606449999,58.76320448600006,0],[-134.272431389,58.76268167100006,0],[-134.2724950469999,58.76262012600006,0],[-134.272010731,58.76268422600003,0],[-134.271530731,58.76223422600003,0],[-134.2714942219999,58.76224777000004,0],[-134.271398091,58.76204742300007,0],[-134.2716607309999,58.76195422600006,0],[-134.2729007299999,58.76138422600008,0],[-134.273780729,58.76056422600004,0],[-134.27392073,58.75985422600007,0],[-134.27393073,58.75934422600005,0],[-134.274310728,58.75864422600006,0],[-134.27346073,58.75838422600003,0],[-134.271860728,58.75811422700009,0],[-134.270510728,58.75811422600003,0],[-134.268780728,58.75822422600004,0],[-134.267060729,58.75777422700003,0],[-134.265720726,58.75725422700003,0],[-134.264870727,58.75654422800005,0],[-134.266220728,58.75680422700004,0],[-134.267690728,58.75713422700005,0],[-134.269040728,58.75727422700003,0],[-134.270160728,58.75689422600004,0],[-134.2703007269999,58.75625422600006,0],[-134.2698307269999,58.75497422600006,0],[-134.269360725,58.75400422600007,0],[-134.268640727,58.75317422600006,0],[-134.267790724,58.75272422800003,0],[-134.267790724,58.75233422700006,0],[-134.2673207239999,58.75150422700005,0],[-134.266840723,58.75073422700007,0],[-134.266000723,58.74995422700005,0],[-134.265650723,58.74874422700003,0],[-134.2642007219999,58.74764422800007,0],[-134.2631007209999,58.74699422700007,0],[-134.2626307199999,58.74629422800007,0],[-134.263370722,58.74604422800008,0],[-134.263870721,58.74565422700005,0],[-134.2638907199999,58.74495422800004,0],[-134.264150719,58.74431422700008,0],[-134.2648907179999,58.74400422700006,0],[-134.2648807209999,58.74476422700008,0],[-134.264860719,58.74540422700005,0],[-134.264840721,58.74636422700007,0],[-134.2654407209999,58.74701422700008,0],[-134.2655507219999,58.74778422800006,0],[-134.266400722,58.74842422800004,0],[-134.266750722,58.74906422700008,0],[-134.267360723,58.74977422700005,0],[-134.268590725,58.74978422700007,0],[-134.269060725,58.75061422600005,0],[-134.269050724,58.75131422700008,0],[-134.269410724,58.75170422600007,0],[-134.269640725,58.75253422600008,0],[-134.269750727,58.75285422600007,0],[-134.2708507249999,58.75324422700003,0],[-134.271960726,58.75344422600006,0],[-134.272810726,58.75377422600008,0],[-134.272310727,58.75428422600005,0],[-134.272290727,58.75504422600006,0],[-134.272040727,58.75556422600005,0],[-134.272900728,58.75562422500008,0],[-134.2741307269999,58.75570422600003,0],[-134.275350727,58.75602422500003,0],[-134.276320728,58.75680422500005,0],[-134.277420729,58.75719422500003,0],[-134.278650729,58.75719422500003,0],[-134.279270729,58.75688422500008,0],[-134.2806307279999,58.75682422400007,0],[-134.281490728,58.75682422500006,0],[-134.2827207289999,58.75709422500006,0],[-134.283820729,58.75729422400008,0],[-134.28530073,58.75736422400006,0],[-134.2870207289999,58.75762422400004,0],[-134.2881207299999,58.75795422400007,0],[-134.289100731,58.75815422300008,0],[-134.289960729,58.75815422300008,0],[-134.291190729,58.75816422300005,0],[-134.291820731,58.75771422300005,0],[-134.29282073,58.75695422300004,0],[-134.29259073,58.75637422300008,0],[-134.292100729,58.75592422300008,0],[-134.2929707279999,58.75548422200006,0],[-134.293840728,58.75504422300003,0],[-134.294710729,58.75498422200009,0],[-134.29655073,58.75499422200004,0],[-134.297900731,58.75525422200008,0],[-134.298510731,58.75577422200008,0],[-134.2977607289999,58.75608422200003,0],[-134.2969007299999,58.75608422200003,0],[-134.29664073,58.75665422300006,0],[-134.296630731,58.75729422200004,0],[-134.29736073,58.75794422200004,0],[-134.297720732,58.75839422200005,0],[-134.297700732,58.75915422200006,0],[-134.29806073,58.75948422200009,0],[-134.2984310369999,58.75981036900004,0],[-134.299150732,58.76044422200005,0],[-134.3003807329999,58.76077422200008,0],[-134.301730734,58.76109422100006,0],[-134.302019315,58.76109682200007,0],[-134.302840733,58.76110422100005,0],[-134.304310734,58.76136422100005,0],[-134.305780735,58.76188422100006,0],[-134.306630734,58.76215422100006,0],[-134.307500735,58.76215422000007,0],[-134.308600734,58.76216422000005,0],[-134.309840734,58.76210422000008,0],[-134.310090735,58.76172422100007,0],[-134.3106007329999,58.76095421900004,0],[-134.311470734,58.76057422000007,0],[-134.312070734,58.76109422000007,0],[-134.311440736,58.76185422000003,0],[-134.312540736,58.76230422000003,0],[-134.313280734,58.76231422000006,0],[-134.313390735,58.76289422000008,0],[-134.3133807359999,58.76365422000003,0],[-134.313008574,58.76384774500008,0],[-134.312880736,58.76391421900007,0],[-134.313370736,58.76423421900006,0],[-134.314350738,58.76449422000007,0],[-134.314585845,58.76452976000007,0],[-134.315210735,58.76462422000003,0],[-134.316670736,58.76514422000008,0],[-134.317400737,58.76559422000008,0],[-134.318260738,58.76592421900006,0],[-134.319480738,58.76637421900006,0],[-134.320460737,58.76676421900004,0],[-134.322060739,58.76677421800007,0],[-134.322800738,58.76671421700006,0],[-134.3231607389999,58.76722421900007,0],[-134.323770741,58.76780421700005,0],[-134.32404942,58.76818160000005,0],[-134.324250739,58.76845421800005,0],[-134.324860739,58.76877421800003,0],[-134.3257207409999,58.76877421800003,0],[-134.326580741,58.76897421800004,0],[-134.3275707399999,58.76859421700004,0],[-134.328190739,58.76859421700004,0],[-134.3286237519999,58.76845862900008,0],[-134.32918074,58.76828421700004,0],[-134.32968074,58.76783421700003,0],[-134.330670739,58.76752421700007,0],[-134.33068074,58.76688421700005,0],[-134.331430738,58.76650421600004,0],[-134.331810739,58.76612421600004,0],[-134.33181074,58.76573421700004,0],[-134.331710738,58.76497421700003,0],[-134.331720739,58.76445421700004,0],[-134.332090737,58.76426421700006,0],[-134.333080738,58.76388421700005,0],[-134.333830738,58.76331421600008,0],[-134.3339707379999,58.76267421700004,0],[-134.334590737,58.76210421700006,0],[-134.334600737,58.76165421700006,0],[-134.334980736,58.76114421600005,0],[-134.335000736,58.76025421600008,0],[-134.335010735,58.75973421700007,0],[-134.334650735,58.75909421600005,0],[-134.334170735,58.75864421600005,0],[-134.334180735,58.75787421700005,0],[-134.335050734,58.75737421600007,0],[-134.3358107339999,58.75660421600002,0],[-134.3354507339999,58.75609421600007,0],[-134.3346007329999,58.75557421700006,0],[-134.3341107319999,58.75506421600005,0],[-134.334250734,58.75455421700008,0],[-134.333890733,58.75365421700008,0],[-134.332800734,58.75307421600007,0],[-134.332560732,58.75256421700004,0],[-134.332450732,58.75204421600006,0],[-134.3319707319999,58.75121421700003,0],[-134.3319807299999,58.75070421800007,0],[-134.331740731,58.75025421800007,0],[-134.33089073,58.74967421700006,0],[-134.33041073,58.74915421700006,0],[-134.330411869,58.74909606800003,0],[-134.33042073,58.74864421700006,0],[-134.33091073,58.74845421700007,0],[-134.331170729,58.74813421800008,0],[-134.3316707279999,58.74762421700007,0],[-134.332180727,58.74692421700008,0],[-134.333060726,58.74565421800003,0],[-134.332580727,58.74526421700007,0],[-134.331600728,58.74468421700004,0],[-134.330630727,58.74397421700008,0],[-134.329770726,58.74384421700006,0],[-134.328780727,58.74441421800003,0],[-134.328420727,58.74357421800004,0],[-134.328440725,58.74281421800003,0],[-134.329190727,58.74223421700003,0],[-134.329820726,58.74128421700005,0],[-134.331180726,58.74084421800006,0],[-134.331930726,58.74046421700007,0],[-134.332310724,58.73969421800007,0],[-134.332690724,58.73931421700007,0],[-134.331720723,58.73873421800005,0],[-134.330490724,58.73866421700006,0],[-134.3295107229999,58.73840421700003,0],[-134.329520724,58.73782421800006,0],[-134.330270723,58.73731421700006,0],[-134.330650723,58.73655421800005,0],[-134.331770722,58.73617421800002,0],[-134.332760722,58.73560421700006,0],[-134.333870721,58.73535421700007,0],[-134.3343807209999,58.73439421700004,0],[-134.3344007219999,58.73356421600005,0],[-134.334410722,58.73292421700006,0],[-134.3352807209999,58.73248421600005,0],[-134.33615072,58.73222421600008,0],[-134.336255803,58.73224566200008,0],[-134.3371307199999,58.73242421700007,0],[-134.3377407199999,58.73281421600007,0],[-134.33834072,58.73326421600007,0],[-134.3390807219999,58.73352421600003,0],[-134.339288013,58.73370847700004,0],[-134.3406805609999,58.73339049300006,0],[-134.3419393,58.73304428000006,0],[-134.34290821,58.73270191100005,0],[-134.3439498449999,58.73207401400002,0],[-134.344743337,58.73170401300008,0],[-134.34530797,58.73139696200009,0],[-134.345872593,58.73108990800006,0],[-134.346517408,58.73064699400003,0],[-134.347356818,58.73003674100005,0],[-134.3482571489999,58.72948557300002,0],[-134.34903555,58.72881621500005,0],[-134.350210589,58.72796183400003,0],[-134.350962191,58.72733775100005,0],[-134.35219058,58.72639277700006,0],[-134.353472341,58.72535721600008,0],[-134.354372451,58.72480600400007,0],[-134.355325966,58.72416420900004,0],[-134.356218492,58.72346331900007,0],[-134.3569164579999,58.72292977600006,0],[-134.357782207,58.72227416300007,0],[-134.358762299,58.72158705400004,0],[-134.359574562,58.72102200500007,0],[-134.360897691,58.72024040700006,0],[-134.362531303,58.71933731700005,0],[-134.36402962,58.71858328000008,0],[-134.365184798,58.71792371100008,0],[-134.366252274,58.71725033800004,0],[-134.36706431,58.71668524000006,0],[-134.367990669,58.71608863900008,0],[-134.368432913,58.71566331700006,0],[-134.369035302,58.71496624700006,0],[-134.369569126,58.71406042700005,0],[-134.3698551369999,58.71341256000005,0],[-134.369994366,58.71317629200006,0],[-134.369600713,58.71326421200007,0],[-134.3696007139999,58.71281421200006,0],[-134.3703507119999,58.71243421100008,0],[-134.371220713,58.71186421200008,0],[-134.3716107119999,58.71090421100007,0],[-134.370750712,58.71045421200006,0],[-134.370390711,58.71000421200006,0],[-134.3717507109999,58.70988421200008,0],[-134.372850713,58.71033421100003,0],[-134.372840712,58.71059421100006,0],[-134.374070712,58.71098421100004,0],[-134.375660712,58.71098421100004,0],[-134.376650714,58.71099421000007,0],[-134.377640711,58.71035421100004,0],[-134.377780713,58.70984421100007,0],[-134.377790712,58.70927421100004,0],[-134.378900712,58.70902421100004,0],[-134.379010712,58.70940421000007,0],[-134.379000713,58.70998421000007,0],[-134.380100713,58.71069421000004,0],[-134.381200714,58.71095421000006,0],[-134.382550714,58.71095421000006,0],[-134.383180712,58.71038421000004,0],[-134.3846707119999,58.70968420900005,0],[-134.385660713,58.70924420900008,0],[-134.385670713,58.70866420900007,0],[-134.385670712,58.70822420900004,0],[-134.384820713,58.70783421000004,0],[-134.385690712,58.70758421000004,0],[-134.387290713,58.70720420900005,0],[-134.387910711,58.70701420900008,0],[-134.388900712,58.70650420900005,0],[-134.389530711,58.70606420900003,0],[-134.390270712,58.70549420900005,0],[-134.39102071,58.70491420900004,0],[-134.392370711,58.70492420800008,0],[-134.392360713,58.70543420900003,0],[-134.392350712,58.70607420900006,0],[-134.391970712,58.70684420900005,0],[-134.390860713,58.70722420800008,0],[-134.389750712,58.70721420900003,0],[-134.388750713,58.70804420900004,0],[-134.388250713,58.70849420800005,0],[-134.3881107129999,58.70938420900007,0],[-134.387240713,58.71021421000005,0],[-134.386380713,58.70988420900005,0],[-134.3855207129999,58.70988420900005,0],[-134.384410713,58.71039421000006,0],[-134.383660715,58.71070421000006,0],[-134.3829107129999,58.71134421000005,0],[-134.382780714,58.71191421000003,0],[-134.383270714,58.71211421000004,0],[-134.3840107139999,58.71211421000004,0],[-134.384370715,58.71275421000008,0],[-134.384360715,58.71320420900008,0],[-134.3843413339999,58.71407631000005,0],[-134.384437228,58.71408893100005,0],[-134.3848288089999,58.71414585000008,0],[-134.385197811,58.71421570200005,0],[-134.385462675,58.71428197600005,0],[-134.38571565,58.71435468500005,0],[-134.385955903,58.71443412400004,0],[-134.386190253,58.71451671500006,0],[-134.386413046,58.71460527600004,0],[-134.3866181879999,58.71470287000006,0],[-134.387609675,58.71520775300007,0],[-134.3878199169999,58.71530245200006,0],[-134.388050058,58.71538693200007,0],[-134.388294483,58.71546406000004,0],[-134.388548169,58.71553641100007,0],[-134.388888658,58.71561484800002,0],[-134.3896068609999,58.71575255900007,0],[-134.389956091,58.71582641000003,0],[-134.391528896,58.71623378800007,0],[-134.392068815,58.71636175300005,0],[-134.392416833,58.71642631400005,0],[-134.393516849,58.71659184800006,0],[-134.393866474,58.71665589400004,0],[-134.394410594,58.71678250700006,0],[-134.394670105,58.71685226900007,0],[-134.394916106,58.71692892900006,0],[-134.395156304,58.71700850800005,0],[-134.395858525,58.71725565600008,0],[-134.39658198,58.71748766300005,0],[-134.397073753,58.71763173200003,0],[-134.397332571,58.71769410400003,0],[-134.39812198,58.71785336600004,0],[-134.398383938,58.71789627500003,0],[-134.398644527,58.71793196000004,0],[-134.3988995989999,58.71796050500006,0],[-134.39915701,58.71797543100007,0],[-134.3994124979999,58.71797597400007,0],[-134.400162417,58.71793979900008,0],[-134.400420803,58.71793886800003,0],[-134.400682607,58.71795156200005,0],[-134.4009395579999,58.71797916300005,0],[-134.401187278,58.71802144500003,0],[-134.4014332839999,58.71807253500004,0],[-134.402174294,58.71825666300003,0],[-134.402915623,58.71846807300005,0],[-134.403701276,58.71866868200004,0],[-134.403951486,58.71874273000003,0],[-134.404185462,58.71882539400008,0],[-134.404410087,58.71891304900004,0],[-134.404836963,58.71910013100006,0],[-134.405059839,58.71918892000008,0],[-134.405290931,58.71927351600004,0],[-134.405537189,58.71935034800003,0],[-134.405797997,58.71941971300004,0],[-134.406166255,58.719492,0],[-134.406563184,58.71954952700002,0],[-134.407388257,58.71964810400004,0],[-134.407789999,58.71970246900009,0],[-134.408165835,58.71976959100004,0],[-134.408499491,58.71985755700007,0],[-134.408721723,58.71994432900004,0],[-134.408920682,58.72004216400006,0],[-134.409105027,58.72014636900008,0],[-134.4092704179999,58.72025882700008,0],[-134.409571171,58.72049296700005,0],[-134.409706162,58.72061363800003,0],[-134.409829599,58.72073633300005,0],[-134.409933586,58.72086408600006,0],[-134.4100215399999,58.72099393700006,0],[-134.4100961459999,58.72112305400003,0],[-134.4101473059999,58.72125487000005,0],[-134.410215556,58.72152874100004,0],[-134.410261978,58.72167225900006,0],[-134.410324619,58.72181503900004,0],[-134.410409208,58.72195270000003,0],[-134.4105182549999,58.72208274200005,0],[-134.410759291,58.72234192200006,0],[-134.4108835279999,58.72247353700004,0],[-134.41102061,58.72260044800004,0],[-134.411180175,58.72271730400008,0],[-134.411368846,58.72282038100008,0],[-134.4115782599999,58.72291369000003,0],[-134.411801065,58.72300078200004,0],[-134.412042881,58.72307862900004,0],[-134.412298095,58.72314998000007,0],[-134.412561859,58.72321722400005,0],[-134.412914477,58.72328984800004,0],[-134.414027052,58.72348101800002,0],[-134.414602031,58.72359305600002,0],[-134.415001256,58.72364760600004,0],[-134.415430532,58.72368706900005,0],[-134.415882245,58.72371538100002,0],[-134.416350521,58.72373559800009,0],[-134.417319961,58.72376050300005,0],[-134.418314903,58.72377422500006,0],[-134.4198273919999,58.72378679700006,0],[-134.421839147,58.72379243600005,0],[-134.422817138,58.72378022300006,0],[-134.422988069,58.72377477100008,0],[-134.4240407249999,58.72343420400006,0],[-134.425160725,58.72280420300007,0],[-134.426150723,58.72223420300003,0],[-134.426499857,58.72201075900006,0],[-134.426650724,58.72191420300004,0],[-134.426512241,58.72176891200007,0],[-134.426040723,58.72127420300006,0],[-134.4251907239999,58.72081420300004,0],[-134.425320722,58.72030420300006,0],[-134.4252303,58.72014345500002,0],[-134.424960723,58.71966420300005,0],[-134.4244807219999,58.71921420400008,0],[-134.4238707219999,58.71850420300007,0],[-134.4230207209999,58.71792420300005,0],[-134.42205072,58.71715420400005,0],[-134.42206072,58.71670420400005,0],[-134.421210721,58.71593420400006,0],[-134.42122072,58.71536420400008,0],[-134.421850719,58.71472420300007,0],[-134.42320072,58.71453420400007,0],[-134.42492072,58.71454420300006,0],[-134.426890719,58.71455420300003,0],[-134.428500721,58.71430420300005,0],[-134.42973072,58.71418420300006,0],[-134.43071072,58.71418420200007,0],[-134.4318307189999,58.71323420300007,0],[-134.432830719,58.71278420200008,0],[-134.4346907189999,58.71164420200006,0],[-134.435800719,58.71126420200005,0],[-134.436550718,58.71069420100008,0],[-134.436800718,58.71018420200005,0],[-134.4368107179999,58.70954420200007,0],[-134.437070718,58.70884420200008,0],[-134.437112918,58.70867539900007,0],[-134.437200718,58.70832420100004,0],[-134.438190718,58.70826420100008,0],[-134.439170717,58.70814420200003,0],[-134.440160716,58.70789420100004,0],[-134.4409107179999,58.70738420100008,0],[-134.442270717,58.70687420100006,0],[-134.443380718,58.70650420100004,0],[-134.443760717,58.70573420100004,0],[-134.444510716,58.70503420000006,0],[-134.444400717,58.70452420100003,0],[-134.443540716,58.70432420100008,0],[-134.441830715,58.70374420100007,0],[-134.442570715,58.70342420100008,0],[-134.441710716,58.70303420100004,0],[-134.440860715,58.70258420000004,0],[-134.440500714,58.70200420100009,0],[-134.440260713,58.70143420100005,0],[-134.438800712,58.70084420100005,0],[-134.437950712,58.70033420200008,0],[-134.437090713,58.70013420100008,0],[-134.4363407119999,58.70096420100003,0],[-134.435720714,58.70128420200006,0],[-134.434970713,58.70160420200006,0],[-134.4338607129999,58.70185420300005,0],[-134.432630713,58.70184420200007,0],[-134.433380712,58.70114420200008,0],[-134.433880713,58.70069420200008,0],[-134.434870713,58.70064420300007,0],[-134.435610713,58.70038420200008,0],[-134.4356207119999,58.69981420200003,0],[-134.434770712,58.69929420200003,0],[-134.433540712,58.69929420200003,0],[-134.432680711,58.69883420200006,0],[-134.433180711,58.69839420200003,0],[-134.434660711,58.69827420200004,0],[-134.436130711,58.69840420200006,0],[-134.436740711,58.69885420200006,0],[-134.437720712,58.69905420100009,0],[-134.439450713,58.69874420100007,0],[-134.440550713,58.69912420100008,0],[-134.441020715,58.70009420100008,0],[-134.441010714,58.70066420100005,0],[-134.4413707149999,58.70130420000004,0],[-134.442470714,58.70176420000007,0],[-134.443330714,58.70214420100007,0],[-134.4441807159999,58.70253420000006,0],[-134.445160716,58.70292420000003,0],[-134.445530715,58.70299420000002,0],[-134.4463907149999,58.70261420000003,0],[-134.4470207159999,58.70210420000006,0],[-134.447890716,58.70146420000003,0],[-134.4492507149999,58.70108420000008,0],[-134.449990713,58.70089420000005,0],[-134.450100716,58.70166419900005,0],[-134.450700716,58.70250419900003,0],[-134.451790717,58.70365420000007,0],[-134.4533907159999,58.70347419900003,0],[-134.453760716,58.70302419900003,0],[-134.453150717,58.70276419900006,0],[-134.452420717,58.70263419900005,0],[-134.452430716,58.70212419900008,0],[-134.452190716,58.70154420000005,0],[-134.452930715,58.70116419900005,0],[-134.454290715,58.70085419900005,0],[-134.455400716,58.70072420000008,0],[-134.456630715,58.70073419800008,0],[-134.457230716,58.70156419800003,0],[-134.457220717,58.70214419900002,0],[-134.456480717,58.70226419900008,0],[-134.4573307159999,58.70291419800003,0],[-134.457570716,58.70361419800008,0],[-134.457800719,58.70413419800007,0],[-134.457920719,58.70470419900006,0],[-134.458040719,58.70502419900004,0],[-134.458390717,58.70579419900008,0],[-134.457520718,58.70656419800008,0],[-134.45703072,58.70681419800006,0],[-134.456845314,58.70736328800007,0],[-134.456770719,58.70758419900005,0],[-134.457990719,58.70822419900003,0],[-134.458583517,58.70832976600007,0],[-134.458720719,58.70835419800006,0],[-134.45995072,58.70823419800007,0],[-134.459970719,58.70727419800006,0],[-134.461080721,58.70695419800007,0],[-134.46156072,58.70772419800005,0],[-134.4632807199999,58.70812419700007,0],[-134.464260719,58.70812419700007,0],[-134.465610719,58.70857419700008,0],[-134.46683072,58.70909419700007,0],[-134.468180723,58.70942419700003,0],[-134.46856072,58.70852419600004,0],[-134.46795072,58.70788419700007,0],[-134.46772072,58.70705419700005,0],[-134.467370721,58.70602419700003,0],[-134.46835072,58.70577419700003,0],[-134.46971072,58.70545419700004,0],[-134.470700718,58.70527419600006,0],[-134.471560719,58.70514419600005,0],[-134.473030719,58.70579419600006,0],[-134.473640722,58.70611419600004,0],[-134.4742407209999,58.70669419600006,0],[-134.474850721,58.70727419600007,0],[-134.4753407219999,58.70753419600005,0],[-134.476200722,58.70772419600007,0],[-134.477670721,58.70773419500006,0],[-134.4789007209999,58.70773419500006,0],[-134.480380721,58.70729419500003,0],[-134.481490722,58.70729419500003,0],[-134.4822307219999,58.70723419500007,0],[-134.482850722,58.70679419400005,0],[-134.48421072,58.70628419500007,0],[-134.484960721,58.70577419400007,0],[-134.486430723,58.70578419400005,0],[-134.487910722,58.70572419400003,0],[-134.489380721,58.70573419300007,0],[-134.490980722,58.70612419300004,0],[-134.492330723,58.70638419400008,0],[-134.493920721,58.70664419300006,0],[-134.4949007229999,58.70664419200006,0],[-134.496260723,58.70665419300008,0],[-134.497610722,58.70633419200004,0],[-134.497620723,58.70557419200004,0],[-134.498000721,58.70493419300005,0],[-134.499720721,58.70493419200006,0],[-134.501940722,58.70488419100008,0],[-134.502560723,58.70418419200007,0],[-134.502690722,58.70367419200005,0],[-134.504410723,58.70367419100006,0],[-134.505270723,58.70438419200007,0],[-134.505250723,58.70560419100008,0],[-134.505240723,58.70604419100005,0],[-134.505230723,58.70662419100006,0],[-134.506580725,58.70720419100008,0],[-134.508170724,58.70753419100004,0],[-134.5086707249999,58.70740419100008,0],[-134.510150724,58.70709419000008,0],[-134.511610725,58.70773419000005,0],[-134.512720725,58.70786419000007,0],[-134.5134607259999,58.70787419000004,0],[-134.5141907239999,58.70787419000004,0],[-134.516410727,58.70788419000007,0],[-134.5175207249999,58.70775418900007,0],[-134.518760725,58.70693418900004,0],[-134.519750726,58.70655418900003,0],[-134.520610724,58.70629418900006,0],[-134.520620724,58.70565418900003,0],[-134.520510724,58.70489418900007,0],[-134.521250724,58.70457418800004,0],[-134.522730724,58.70445418800006,0],[-134.522815861,58.70443232900004,0],[-134.5234707229999,58.70426418800009,0],[-134.523720724,58.70362418800005,0],[-134.523730722,58.70259418800003,0],[-134.523656452,58.70245355100008,0],[-134.523260722,58.70170418800007,0],[-134.523630722,58.70125418800006,0],[-134.523880723,58.70087418800006,0],[-134.523400723,58.70035418900005,0],[-134.523400723,58.69978418800008,0],[-134.524390722,58.69978418800008,0],[-134.525380722,58.69934418900004,0],[-134.526610723,58.69909418800005,0],[-134.527230721,58.69870418700003,0],[-134.527850722,58.69832418800007,0],[-134.52823072,58.69768418800004,0],[-134.527500721,58.69710418800008,0],[-134.527880719,58.69647418800008,0],[-134.52874072,58.69609418800007,0],[-134.53010072,58.69596418700007,0],[-134.5320607199999,58.69642418700006,0],[-134.5331607209999,58.69649418800003,0],[-134.53427072,58.69668418700007,0],[-134.53488072,58.69668418700007,0],[-134.535370721,58.69669418700005,0],[-134.535870721,58.69643418600003,0],[-134.5366107199999,58.69599418600006,0],[-134.5368607189999,58.69541418700004,0],[-134.53687072,58.69471418700005,0],[-134.536880721,58.69413418700004,0],[-134.53701072,58.69375418700008,0],[-134.537968266,58.69375418800007,0],[-134.53824072,58.69375418600004,0],[-134.53873072,58.69337418700006,0],[-134.53972072,58.69299418600008,0],[-134.5407107189999,58.69248418600005,0],[-134.541210719,58.69191418600008,0],[-134.541830719,58.69146418600008,0],[-134.541876524,58.69136828400008,0],[-134.542000391,58.69129809800006,0],[-134.542187023,58.69116331400005,0],[-134.542340354,58.69109332900008,0],[-134.5426053,58.69106977900003,0],[-134.543561226,58.68716806700007,0],[-134.545840717,58.68709418500003,0],[-134.549696323,58.68609784000007,0],[-134.555320718,58.68581418400004,0],[-134.555497336,58.68591848700005,0],[-134.5555369259999,58.68488354200008,0],[-134.5556536939999,58.68448636900007,0],[-134.555603396,58.68358843300007,0],[-134.555668333,58.68288648000004,0],[-134.555754913,58.68195054400007,0],[-134.555819843,58.68124859200003,0],[-134.556001521,58.68014946500006,0],[-134.555951219,58.67925152600003,0],[-134.556321563,58.67841917700008,0],[-134.556745223,58.67729844400002,0],[-134.5574425569999,58.67610170800003,0],[-134.5582550619999,58.67510095200004,0],[-134.5590142139999,58.67438857300004,0],[-134.560247222,58.67345338300004,0],[-134.5613534189999,58.67273577400006,0],[-134.5626280819999,58.67192575000007,0],[-134.56342885,58.67133853300004,0],[-134.564588169,58.67033251000004,0],[-134.56525205,58.66978328900007,0],[-134.567463953,58.66834797100006,0],[-134.569286812,58.66679266600005,0],[-134.570414141,58.66584098800007,0],[-134.571614869,58.66496008400003,0],[-134.573047303,58.66387794700006,0],[-134.574152925,58.66316022300003,0],[-134.575300312,58.66256767500005,0],[-134.576174113,58.66205116000003,0],[-134.5771111879999,58.66142583300007,0],[-134.577837997,58.66076774000003,0],[-134.578186135,58.66016930800004,0],[-134.5785975539999,58.65946207100006,0],[-134.579419227,58.65864075800005,0],[-134.579747719,58.65835544400005,0],[-134.579310704,58.65818418100008,0],[-134.5787107039999,58.65767418100006,0],[-134.578344162,58.65736000200008,0],[-134.5782276369999,58.65726012300007,0],[-134.578425608,58.65707820900009,0],[-134.579000703,58.65703418100003,0],[-134.580720704,58.65665418000003,0],[-134.5824507029999,58.65634418000008,0],[-134.583680703,58.65602418000002,0],[-134.585280704,58.65552417900005,0],[-134.587370704,58.65508417900003,0],[-134.589090705,58.65508417900003,0],[-134.590690703,58.65509417900006,0],[-134.591084785,58.65477001800007,0],[-134.591310703,58.65458417900003,0],[-134.591320702,58.65381417900005,0],[-134.590960702,58.65317417900008,0],[-134.590100702,58.65317417900008,0],[-134.589730703,58.65278417900004,0],[-134.590970702,58.65253417900004,0],[-134.591940703,58.65292417900007,0],[-134.592800702,58.65324417800007,0],[-134.592680703,58.65273417900006,0],[-134.592200701,58.65228417900005,0],[-134.5926907,58.65177417900003,0],[-134.593190701,58.65126417800009,0],[-134.593450702,58.65042417900003,0],[-134.5933307,58.64991417900006,0],[-134.5928407009999,58.64933417900005,0],[-134.5918707,58.64908417900006,0],[-134.5908907,58.64843417900005,0],[-134.5910206999999,58.64773417900005,0],[-134.591030701,58.64715417800005,0],[-134.590790699,58.64683417900005,0],[-134.590060697,58.64619417800003,0],[-134.5888307,58.64619417900008,0],[-134.587480698,58.64637418000007,0],[-134.586740699,58.64669418000005,0],[-134.585520697,58.64618418000003,0],[-134.583800699,58.64617418100005,0],[-134.582570698,58.64617418000006,0],[-134.581700698,58.64674418000004,0],[-134.581200698,58.64738418000007,0],[-134.579980699,58.64737418000004,0],[-134.578880698,58.64711418200005,0],[-134.577650697,58.64660418200003,0],[-134.576180697,58.64659418100007,0],[-134.5747106969999,58.64665418200008,0],[-134.573350696,58.64697418200006,0],[-134.571990698,58.64767418200006,0],[-134.571140697,58.64728418300007,0],[-134.570450051,58.64681292000005,0],[-134.570483323,58.64679066800005,0],[-134.570539207,58.64669461500006,0],[-134.5533306889999,58.63664418500008,0],[-134.545215757,58.63233956900007,0],[-134.544002501,58.63142704800002,0],[-134.542209102,58.63037532600002,0],[-134.5418424599999,58.63002130300004,0],[-134.541370818,58.62965086900005,0],[-134.540930865,58.62922603800006,0],[-134.5405008879999,58.62898080000008,0],[-134.539662673,58.62825633100006,0],[-134.539254439,58.62777710000007,0],[-134.538699586,58.62715625300007,0],[-134.538113072,58.62658979800005,0],[-134.537473163,58.62631172400006,0],[-134.536568372,58.62589603400005,0],[-134.536620681,58.62602418800003,0],[-134.536610681,58.62637418700006,0],[-134.536650682,58.62679418700003,0],[-134.536680681,58.62733418700003,0],[-134.536559069,58.62774580800004,0],[-134.536396796,58.62783418800007,0],[-134.535550682,58.62783418700008,0],[-134.5349506809999,58.62719418800003,0],[-134.5340906819999,58.62687418900003,0],[-134.532870681,58.62635418800005,0],[-134.531650682,58.62622418800005,0],[-134.53030068,58.62621418900005,0],[-134.529190682,58.62653418900004,0],[-134.528200682,58.62716418900004,0],[-134.5277006809999,58.62767418900006,0],[-134.527080683,58.62812419000006,0],[-134.525970681,58.62844418900005,0],[-134.5242506819999,58.62849419000003,0],[-134.522780681,58.62881419000007,0],[-134.5219106819999,58.62957419000003,0],[-134.521900683,58.63028419000005,0],[-134.5215206829999,58.63085419100009,0],[-134.522000683,58.63149419000008,0],[-134.521260683,58.63194419100006,0],[-134.521020683,58.63136419000007,0],[-134.520300683,58.63059418900008,0],[-134.5198106829999,58.63008419100004,0],[-134.5186006819999,58.62943419000004,0],[-134.518470681,58.62975419000003,0],[-134.5179706819999,58.63045419100008,0],[-134.516980682,58.63083419000003,0],[-134.515390683,58.63083419100008,0],[-134.514270684,58.63140419100006,0],[-134.514140683,58.63249419100003,0],[-134.5149906839999,58.63319419100004,0],[-134.514360684,58.63370419100004,0],[-134.513140683,58.63325419100006,0],[-134.512050683,58.63261419100007,0],[-134.510700683,58.63247419200006,0],[-134.5094806819999,58.63189419200007,0],[-134.507890682,58.63176419200005,0],[-134.5070137389999,58.63150908300008,0],[-134.506790682,58.63144419200006,0],[-134.5067890079999,58.63158321200007,0],[-134.506780681,58.63227419200008,0],[-134.5075006819999,58.63304419200006,0],[-134.506150681,58.63303419300008,0],[-134.504800682,58.63303419200008,0],[-134.504060682,58.63373419300007,0],[-134.503060684,58.63443419300006,0],[-134.502070684,58.63564419300008,0],[-134.502050684,58.63647419200004,0],[-134.503020684,58.63737419200004,0],[-134.503380684,58.63789419300007,0],[-134.5017906849999,58.63788419300005,0],[-134.4997006839999,58.63787419300007,0],[-134.498350685,58.63799419300005,0],[-134.498308604,58.63799869000007,0],[-134.496010685,58.63824419300005,0],[-134.494300684,58.63779419400004,0],[-134.4950406839999,58.63741419400003,0],[-134.496150684,58.63715419400006,0],[-134.4973906819999,58.63613419300003,0],[-134.497400682,58.63569419300006,0],[-134.496420683,58.63543419400003,0],[-134.495320683,58.63523419300003,0],[-134.494100681,58.63484419400004,0],[-134.495210682,58.63433419400008,0],[-134.496440682,58.63434419300006,0],[-134.497540681,58.63434419400005,0],[-134.498770682,58.63435419300004,0],[-134.499760683,58.63397419300004,0],[-134.5007406829999,58.63365419300005,0],[-134.501480682,58.63334419300003,0],[-134.5003806829999,58.63301419300007,0],[-134.500400681,58.63224419300009,0],[-134.500400681,58.63180419300005,0],[-134.501630681,58.63161419300008,0],[-134.502480681,58.63206419300008,0],[-134.503340682,58.63206419300008,0],[-134.504210681,58.63155419300006,0],[-134.5053206809999,58.63124419200005,0],[-134.505810681,58.63124419200005,0],[-134.506800681,58.63054419300005,0],[-134.507420681,58.62997419200008,0],[-134.508530681,58.62971419200004,0],[-134.509270681,58.62933419200004,0],[-134.50953068,58.62869419100007,0],[-134.509160681,58.62825419300003,0],[-134.50819068,58.62786419200007,0],[-134.507210679,58.62753419200004,0],[-134.506240679,58.62689419300006,0],[-134.505390678,58.62644419300005,0],[-134.504280679,58.62663419300004,0],[-134.503800679,58.62599419300005,0],[-134.504420676,58.62522419300008,0],[-134.505410678,58.62490419200003,0],[-134.506510678,58.62478419200005,0],[-134.507130676,58.62433419200005,0],[-134.507140677,58.62363419300004,0],[-134.506373099,58.62311044500007,0],[-134.506315311,58.62291274300004,0],[-134.506340866,58.62289176000007,0],[-134.50469431,58.62203505800005,0],[-134.5035805859999,58.62148963700008,0],[-134.5019532909999,58.62080191700005,0],[-134.500511662,58.62020508600006,0],[-134.4990700819999,58.61960823700008,0],[-134.497628553,58.61901137200005,0],[-134.4956404659999,58.61832882700003,0],[-134.494275304,58.61780570700006,0],[-134.492757683,58.61713500300004,0],[-134.491392613,58.61661185200006,0],[-134.4898750999999,58.61594111300008,0],[-134.488105961,58.61529272500007,0],[-134.486741033,58.61476952400005,0],[-134.485190618,58.61415537800008,0],[-134.482547263,58.61336977300005,0],[-134.480450506,58.61266984500002,0],[-134.477830425,58.61164041100005,0],[-134.476280308,58.61102615600004,0],[-134.4739452269999,58.60991765000006,0],[-134.472527628,58.60907676800009,0],[-134.470672988,58.60816725400008,0],[-134.46921246,58.60719589300003,0],[-134.4677089369999,58.60609407200009,0],[-134.466619443,58.60530459300004,0],[-134.4657054579999,58.60441897900006,0],[-134.464943841,58.60368096200006,0],[-134.4644338689999,58.60292061700005,0],[-134.463990118,58.60204698500007,0],[-134.4636125869999,58.60106006700005,0],[-134.463420476,58.60016411100004,0],[-134.463195275,58.59932479700008,0],[-134.462778004,58.59758952200007,0],[-134.462609082,58.59644983200008,0],[-134.4622316529999,58.59546290700007,0],[-134.46182115,58.59453262000005,0],[-134.461301442,58.59358517100003,0],[-134.460791702,58.59282480600007,0],[-134.4602488849999,58.59212108200006,0],[-134.459620041,58.59115646000004,0],[-134.4589482109999,58.59006138700005,0],[-134.458613975,58.58920489300004,0],[-134.458127532,58.58820078600007,0],[-134.457869444,58.58741809600009,0],[-134.4579474989999,58.58693242500004,0],[-134.4574206509999,58.58651420000007,0],[-134.457180651,58.58612420100008,0],[-134.457560651,58.58542420000003,0],[-134.45794065,58.58478420100005,0],[-134.45746065,58.58388420100005,0],[-134.456860648,58.58324420100007,0],[-134.455890649,58.58208420100004,0],[-134.455170647,58.58125420100004,0],[-134.454820647,58.58054420100007,0],[-134.454210646,58.57990420100003,0],[-134.454230647,58.57901420100006,0],[-134.453197598,58.57878557700008,0],[-134.4530106449999,58.57874420000007,0],[-134.4519006469999,58.57874420200005,0],[-134.451650645,58.57951420200004,0],[-134.451020648,58.58027420200006,0],[-134.450400647,58.58104420100004,0],[-134.449410648,58.58167420200005,0],[-134.448790646,58.58167420200005,0],[-134.448560647,58.58103420100007,0],[-134.448570648,58.58013420200007,0],[-134.448950645,58.57950420200007,0],[-134.449313347,58.57912189600006,0],[-134.447447855,58.57896682500007,0],[-134.446650547,58.57890324000005,0],[-134.445995518,58.57880018600008,0],[-134.444979874,58.57870223800006,0],[-134.443931127,58.57866092000006,0],[-134.443024663,58.57858013400005,0],[-134.441942809,58.57859543800004,0],[-134.441079289,58.57864509200005,0],[-134.44003055,58.57860374200003,0],[-134.438217645,58.57844210800004,0],[-134.436480803,58.57835426900004,0],[-134.434962295,58.57830077700004,0],[-134.433728371,58.57816836900008,0],[-134.432243006,58.57805820900006,0],[-134.430724518,58.57800466700007,0],[-134.429020851,58.57786009100005,0],[-134.427644671,58.57776706800008,0],[-134.426486817,58.57770841500007,0],[-134.425001493,58.57759817100003,0],[-134.423952803,58.57755668900006,0],[-134.422794961,58.57749800400006,0],[-134.4214188129999,58.57740491300007,0],[-134.420512434,58.57732396800003,0],[-134.419430611,58.57733908100005,0],[-134.418524238,58.57725812200005,0],[-134.417038959,58.57714778500007,0],[-134.416099445,58.57712344000004,0],[-134.415269081,58.57711628900006,0],[-134.4141872599999,58.57713135800003,0],[-134.41310544,58.57714641700005,0],[-134.411259577,58.57704103200007,0],[-134.4095988559999,58.57702666300003,0],[-134.4081895959999,58.57699006000007,0],[-134.4065952179999,58.57686239400005,0],[-134.4048917059999,58.57671749800005,0],[-134.403264179,58.57664641900004,0],[-134.4021395779999,58.57653091800007,0],[-134.400981807,58.57647203500005,0],[-134.39963894,58.57632208400008,0],[-134.3984052229999,58.57618933500004,0],[-134.397574885,58.57618207000008,0],[-134.3958146529999,58.57633740000006,0],[-134.394358198,58.57678808700007,0],[-134.393063164,58.57757354500006,0],[-134.392470196,58.57797488000006,0],[-134.391711239,58.57865933600004,0],[-134.391160988,58.57919113500003,0],[-134.39057752,58.57977955700005,0],[-134.390027233,58.58031135200008,0],[-134.389665646,58.58054532700005,0],[-134.390350642,58.58115421100008,0],[-134.390950642,58.58192421100006,0],[-134.391680642,58.58237421000007,0],[-134.3925306419999,58.58289421000006,0],[-134.393620643,58.58360421100008,0],[-134.395080643,58.58424421100005,0],[-134.395190645,58.58482421000009,0],[-134.395180644,58.58546421000005,0],[-134.394070646,58.58603421000004,0],[-134.3933206459999,58.58648421000004,0],[-134.392470646,58.58647421000006,0],[-134.392360644,58.58577421100006,0],[-134.392120644,58.58500421000008,0],[-134.390780644,58.58454421000005,0],[-134.389430644,58.58486421200008,0],[-134.388320644,58.58536421200006,0],[-134.387690642,58.58613421200005,0],[-134.387190644,58.58670421100004,0],[-134.384860643,58.58669421200005,0],[-134.384390643,58.58586421100006,0],[-134.383780644,58.58579421100006,0],[-134.382190644,58.58559421200005,0],[-134.380600644,58.58558421200008,0],[-134.379610642,58.58590421200007,0],[-134.377880642,58.58659421200008,0],[-134.377500643,58.58736421200007,0],[-134.376630644,58.58793421300004,0],[-134.376370643,58.58876421300005,0],[-134.375870645,58.58921421300004,0],[-134.375250643,58.58959421300005,0],[-134.3742606439999,58.59035421300008,0],[-134.372900643,58.59073421300008,0],[-134.372040645,58.59117421300004,0],[-134.371170644,58.59174421400007,0],[-134.370910645,58.59238421400005,0],[-134.370410645,58.59302421300005,0],[-134.370400645,58.59353421300005,0],[-134.371120646,58.59443421400005,0],[-134.371720647,58.59514421300009,0],[-134.3722006469999,58.59578421300007,0],[-134.372190647,58.59649421300003,0],[-134.3715606489999,58.59731421400005,0],[-134.371430649,58.59789421400006,0],[-134.3731406479999,58.59790421300005,0],[-134.3752306489999,58.59791421200003,0],[-134.376700649,58.59792421200007,0],[-134.37891065,58.59793421300003,0],[-134.380620649,58.59800421200002,0],[-134.382570651,58.59846421200007,0],[-134.383670651,58.59891421200007,0],[-134.38440065,58.59923421100007,0],[-134.383290652,58.59935421200003,0],[-134.38219065,58.59916421200006,0],[-134.3815806489999,58.59915421100004,0],[-134.380590651,58.59960421300008,0],[-134.37900065,58.59959421200006,0],[-134.3782606509999,58.59997421200006,0],[-134.3776306509999,58.60054421200005,0],[-134.3762806509999,58.60092421300004,0],[-134.375050651,58.60123421300005,0],[-134.3738206519999,58.60123421300005,0],[-134.373200652,58.60155421300005,0],[-134.373800651,58.60232421300003,0],[-134.373790652,58.60302421200003,0],[-134.374510652,58.60360421300004,0],[-134.375490652,58.60412421200004,0],[-134.376830653,58.60438421300006,0],[-134.3781806539999,58.60439421200006,0],[-134.379640653,58.60471421200003,0],[-134.380860653,58.60517421200008,0],[-134.381600654,58.60530421200008,0],[-134.382580654,58.60530421200008,0],[-134.3836806529999,58.60531421100006,0],[-134.383420655,58.60607421100009,0],[-134.381700654,58.60645421100003,0],[-134.380940655,58.60741421100006,0],[-134.379850654,58.60670421200007,0],[-134.378140655,58.60643421200006,0],[-134.376680651,58.60585421300004,0],[-134.375090654,58.60571421200007,0],[-134.373610653,58.60622421300008,0],[-134.373590655,58.60731421300005,0],[-134.372220655,58.60845421300007,0],[-134.371220656,58.60941421300004,0],[-134.372690656,58.60954421300005,0],[-134.373420656,58.61006421300004,0],[-134.3727906559999,58.61069421300004,0],[-134.372290656,58.61133421300008,0],[-134.371060655,58.61184421300003,0],[-134.369580656,58.61177421300005,0],[-134.367870657,58.61176421300007,0],[-134.3678606559999,58.61246421300007,0],[-134.369440656,58.61311421300007,0],[-134.369920657,58.61337421300004,0],[-134.371880657,58.61344421300004,0],[-134.3747006569999,58.61352421300006,0],[-134.376300656,58.61353421300004,0],[-134.376530659,58.61417421300006,0],[-134.375670659,58.61416421300004,0],[-134.374210658,58.61384421300005,0],[-134.372480658,58.61428421400007,0],[-134.371250658,58.61465421300005,0],[-134.369640658,58.61535421300006,0],[-134.369260659,58.61592421300003,0],[-134.3687506589999,58.61707421400008,0],[-134.3692406599999,58.61733421400003,0],[-134.3709606579999,58.61741421400006,0],[-134.371690659,58.61754421300003,0],[-134.370950659,58.61792421300004,0],[-134.3709306599999,58.61856421300006,0],[-134.3706806599999,58.61913421300006,0],[-134.370170662,58.62002421300009,0],[-134.368820662,58.62040421400008,0],[-134.367100661,58.62039421400003,0],[-134.366000659,58.62032421400004,0],[-134.36538066,58.62064421500003,0],[-134.364270661,58.62064421500003,0],[-134.36292066,58.62063421500005,0],[-134.3621906609999,58.62075421400003,0],[-134.361080661,58.62094421500007,0],[-134.3592406609999,58.62093421500003,0],[-134.357760661,58.62099421600005,0],[-134.35741066,58.62047421600005,0],[-134.358760659,58.62010421600007,0],[-134.36011066,58.62017421400004,0],[-134.360970661,58.62017421500008,0],[-134.362200659,58.61986421500006,0],[-134.3631906589999,58.61954421400003,0],[-134.363200661,58.61916421400008,0],[-134.36382066,58.61852421400005,0],[-134.362850658,58.61775421500004,0],[-134.362860659,58.61717421400004,0],[-134.362500659,58.61672421400003,0],[-134.361530658,58.61659421400002,0],[-134.3609206579999,58.61614421500008,0],[-134.360930657,58.61556421500006,0],[-134.360940656,58.61512421400006,0],[-134.359220657,58.61511421600005,0],[-134.3580006559999,58.61510421600008,0],[-134.356400658,58.61516421600005,0],[-134.355170657,58.61554421600005,0],[-134.354060657,58.61553421600007,0],[-134.352720656,58.61495421600006,0],[-134.353470656,58.61457421600005,0],[-134.354580656,58.61432421600006,0],[-134.3562906559999,58.61426421500005,0],[-134.357160657,58.61382421500009,0],[-134.358020656,58.61363421600004,0],[-134.359250655,58.61338421500005,0],[-134.360370656,58.61294421600007,0],[-134.360380656,58.61236421500006,0],[-134.3596506539999,58.61165421500003,0],[-134.358680654,58.61133421500006,0],[-134.357210655,58.61119421500007,0],[-134.356350656,58.61119421600007,0],[-134.3563706529999,58.61010421500004,0],[-134.355520653,58.60991421500006,0],[-134.354420652,58.60971421600004,0],[-134.352950654,58.60951421600005,0],[-134.3516006519999,58.60950421600006,0],[-134.3511206539999,58.60873421700006,0],[-134.352110652,58.60848421600008,0],[-134.353200653,58.60887421600006,0],[-134.354430653,58.60888421700008,0],[-134.356140655,58.60927421500002,0],[-134.3573606529999,58.60959421500007,0],[-134.358700655,58.61005421500006,0],[-134.3601706539999,58.61038421500007,0],[-134.361510655,58.61083421500007,0],[-134.362730655,58.61090421500006,0],[-134.363960655,58.61091421400005,0],[-134.364830655,58.61034421400008,0],[-134.3655706549999,58.61008421300005,0],[-134.366800653,58.60964421400007,0],[-134.367540654,58.60933421400006,0],[-134.369020654,58.60901421400008,0],[-134.3698906549999,58.60870421400006,0],[-134.370510655,58.60806421400008,0],[-134.370890655,58.60755421300008,0],[-134.371150654,58.60666421400003,0],[-134.371530652,58.60615421300008,0],[-134.371540653,58.60544421300006,0],[-134.372040652,58.60506421300005,0],[-134.370570653,58.60480421400007,0],[-134.370820653,58.60435421400007,0],[-134.370840653,58.60352421400005,0],[-134.369870651,58.60287421400005,0],[-134.369880651,58.60198421400003,0],[-134.369890651,58.60140421400006,0],[-134.368920651,58.60076421400004,0],[-134.36795065,58.60018421400008,0],[-134.365880649,58.59965421500004,0],[-134.365640648,58.59927421400005,0],[-134.365650649,58.59882421400005,0],[-134.365170649,58.59843421500005,0],[-134.363700648,58.59804421400003,0],[-134.364330647,58.59715421500006,0],[-134.364100647,58.59651421500007,0],[-134.364110646,58.59574421400004,0],[-134.365590648,58.59543421400008,0],[-134.366690646,58.59524421400005,0],[-134.367430647,58.59525421400008,0],[-134.367440646,58.59473421300004,0],[-134.3658506469999,58.59466421400003,0],[-134.3650006459999,58.59427421500005,0],[-134.364510646,58.59382421400005,0],[-134.364640645,58.59338421400008,0],[-134.365260646,58.59312421400007,0],[-134.365280646,58.59242421500005,0],[-134.365290644,58.59146421400004,0],[-134.365670644,58.59089421400006,0],[-134.366410645,58.59063421500008,0],[-134.368620644,58.59032421400008,0],[-134.369480644,58.59026421300007,0],[-134.370100644,58.58988421400005,0],[-134.3715806439999,58.58951421300002,0],[-134.372320643,58.58913421400007,0],[-134.372340645,58.58830421300007,0],[-134.373200643,58.58772421300007,0],[-134.3743106429999,58.58741421400003,0],[-134.3753006429999,58.58690421300008,0],[-134.375320642,58.58607421200003,0],[-134.375330642,58.58537421300008,0],[-134.377670641,58.58461421200008,0],[-134.37891064,58.58404421300003,0],[-134.379900642,58.58340421200006,0],[-134.379170641,58.58314421200005,0],[-134.376460642,58.58377421300003,0],[-134.374380641,58.58376421300005,0],[-134.372780642,58.58382421400005,0],[-134.372050642,58.58388421400007,0],[-134.37267064,58.58343421400008,0],[-134.373660641,58.58299421300007,0],[-134.37452064,58.58255421300004,0],[-134.37490064,58.58191421300007,0],[-134.37540064,58.58140421300004,0],[-134.375770641,58.58114421300007,0],[-134.37578064,58.58050421300004,0],[-134.374560639,58.58018421300005,0],[-134.373340637,58.58017421300009,0],[-134.371870639,58.58010421400007,0],[-134.370410637,58.57965421400007,0],[-134.369430638,58.57964421400005,0],[-134.368200637,58.57964421400005,0],[-134.366250636,58.57905421500004,0],[-134.3656506359999,58.57854421500008,0],[-134.365670638,58.57764421500009,0],[-134.3667706369999,58.57726421400009,0],[-134.3678906379999,58.57675421500005,0],[-134.368620637,58.57676421400004,0],[-134.368020635,58.57612421400005,0],[-134.366930635,58.57547421500004,0],[-134.366950635,58.57445421400007,0],[-134.367210635,58.57368421400008,0],[-134.367220634,58.57310421400007,0],[-134.367470635,58.57272421400006,0],[-134.368450635,58.57273421400004,0],[-134.368810635,58.57318421500008,0],[-134.3691706339999,58.57350421400008,0],[-134.3702706349999,58.57350421300004,0],[-134.371033841,58.57350986800003,0],[-134.3710144089999,58.57328799000004,0],[-134.370606634,58.57235739900005,0],[-134.370208317,58.57161390500005,0],[-134.369800582,58.57068331000006,0],[-134.369184094,58.56990533000004,0],[-134.368577061,58.56931444400004,0],[-134.368155025,58.56881465900005,0],[-134.367623903,58.56829763000006,0],[-134.366846348,58.56718481500008,0],[-134.366709,58.56660627400004,0],[-134.3670412439999,58.56604008900006,0],[-134.368421731,58.56551584800008,0],[-134.369526994,58.56525744700008,0],[-134.370622802,58.56481193900004,0],[-134.371609493,58.56434918000008,0],[-134.372444409,58.56373869700008,0],[-134.37342159,58.56308882600007,0],[-134.374223235,58.56253495000004,0],[-134.374266661,58.56251119500007,0],[-134.373495293,58.56257344300008,0],[-134.372967115,58.56262856200005,0],[-134.3724086079999,58.56254030100007,0],[-134.3717560159999,58.56241736900006,0],[-134.370579838,58.56221168100006,0],[-134.368684305,58.56193187200006,0],[-134.3680211069999,58.56182703900004,0],[-134.367497532,58.56174427400002,0],[-134.3673006289999,58.56169762600007,0],[-134.3673006289999,58.56197421400003,0],[-134.366070628,58.56222421500007,0],[-134.3647206269999,58.56221421500004,0],[-134.364490627,58.56138421500003,0],[-134.3636406259999,58.56106421500004,0],[-134.362670626,58.56067421500006,0],[-134.361450625,58.56015421500007,0],[-134.362190625,58.55977421600005,0],[-134.364020626,58.56035421500007,0],[-134.364870627,58.56081421500005,0],[-134.365960628,58.56145421500008,0],[-134.36689217,58.56146116900004,0],[-134.3668571919999,58.56140546500006,0],[-134.366933194,58.56108090600003,0],[-134.366986509,58.56053497600004,0],[-134.3669351139999,58.55997249200005,0],[-134.366989852,58.55968416800004,0],[-134.367030947,58.55935409000006,0],[-134.3672541669999,58.55897361100006,0],[-134.36738489,58.55836072600005,0],[-134.367174219,58.55761467200006,0],[-134.3669543509999,58.55714434300006,0],[-134.366667703,58.55672284800004,0],[-134.366032069,58.55624617200004,0],[-134.365458632,58.55585851900008,0],[-134.365138525,58.55568910900008,0],[-134.364328444,58.55518483200008,0],[-134.363469851,58.55463327600007,0],[-134.3627189809999,58.55415814400004,0],[-134.361817918,58.55367904800005,0],[-134.360962404,58.55318734600007,0],[-134.360305653,58.55274687600007,0],[-134.36002423,58.55260193600003,0],[-134.359870621,58.55278421600008,0],[-134.359980623,58.55368421600008,0],[-134.360330622,58.55445421500008,0],[-134.3600706239999,58.55528421600008,0],[-134.359210624,58.55527421600004,0],[-134.358360623,58.55527421600004,0],[-134.357740623,58.55527421600004,0],[-134.3571506219999,58.55450421600005,0],[-134.3560506219999,58.55404421600008,0],[-134.3556906219999,58.55366421700006,0],[-134.355700621,58.55295421600005,0],[-134.356320621,58.55257421700003,0],[-134.35596062,58.55219421600003,0],[-134.35573062,58.55180421700004,0],[-134.35463062,58.55135421700004,0],[-134.35354062,58.55077421700008,0],[-134.351580621,58.55063421700004,0],[-134.352450619,58.55018421700004,0],[-134.35368062,58.55006421700007,0],[-134.35332062,58.54961421700006,0],[-134.351980619,58.54922421700007,0],[-134.349790619,58.54857421700007,0],[-134.347950617,58.54856421700003,0],[-134.346240618,58.54855421900004,0],[-134.344640617,58.54855421800005,0],[-134.344653163,58.54819042000008,0],[-134.341315736,58.54816713500003,0],[-134.339364478,58.54808086600007,0],[-134.338277981,58.54798303200005,0],[-134.3368389299999,58.54775508500006,0],[-134.335570629,58.54747991400006,0],[-134.332692623,58.54702394400005,0],[-134.330377867,58.54658289700006,0],[-134.3289278779999,58.54613033600003,0],[-134.327921318,58.54589655100007,0],[-134.326078971,58.54538176100004,0],[-134.3250215,58.54499135700007,0],[-134.323884197,58.54473680400008,0],[-134.322837781,58.54457090900007,0],[-134.320523316,58.54412968300005,0],[-134.319397058,58.54409961600004,0],[-134.3181400079999,58.54404879800006,0],[-134.316541484,58.54409233500007,0],[-134.314390784,58.54434532200003,0],[-134.312359907,58.54439449400008,0],[-134.31060154,58.54470966100006,0],[-134.307095616,58.54556445100009,0],[-134.304784881,58.54608897400004,0],[-134.303571314,58.54693612300008,0],[-134.3017836339999,58.54754361800008,0],[-134.301031439,58.54809264500005,0],[-134.29959608,58.54883031100007,0],[-134.2976482879999,58.54970943600006,0],[-134.296514396,58.55042067200004,0],[-134.295038851,58.55122620800006,0],[-134.293904856,58.55193742000006,0],[-134.291153467,58.55320881500006,0],[-134.288794329,58.55454246700003,0],[-134.286064088,58.55626280400003,0],[-134.283111943,58.55787361000006,0],[-134.280268883,58.55905607200003,0],[-134.278109112,58.56004994400007,0],[-134.276581972,58.56069864800003,0],[-134.274883893,58.56139446200007,0],[-134.272029577,58.56235221000002,0],[-134.270793281,58.56274998200007,0],[-134.2691243789999,58.56315327800008,0],[-134.267847959,58.56361893300004,0],[-134.266200272,58.56447124700002,0],[-134.264280179,58.56505741600007,0],[-134.262410718,58.56580017500005,0],[-134.260308953,58.56620886700006,0],[-134.258589082,58.56645540600005,0],[-134.256959944,58.56679063400002,0],[-134.255501712,58.56707874000006,0],[-134.253650916,58.56730440600006,0],[-134.251327361,58.56760342600006,0],[-134.250381888,58.56775018600007,0],[-134.249356201,58.56803274900005,0],[-134.248199651,58.56829449000002,0],[-134.246319149,58.56881248400003,0],[-134.24482063,58.56916837200005,0],[-134.243271463,58.56936761700007,0],[-134.24168216,58.56963474600008,0],[-134.2402236779999,58.56992267700008,0],[-134.238423224,58.57030475000005,0],[-134.235596012,58.57048623800006,0],[-134.233764971,58.57067766600006,0],[-134.232965038,58.57069890900004,0],[-134.23219039,58.57079846200003,0],[-134.231199395,58.57090071400005,0],[-134.229483542,58.57077611600005,0],[-134.227903741,58.57078459500008,0],[-134.22673135,58.57070934600006,0],[-134.225558963,58.57063408800008,0],[-134.2245828439999,58.57059007400005,0],[-134.2226908489999,58.57040018000004,0],[-134.221216645,58.57035109900006,0],[-134.220089619,58.57032015800007,0],[-134.2188369309999,58.57038063000005,0],[-134.217498733,58.57046461400007,0],[-134.216764214,58.57049617800004,0],[-134.2158386,58.57060873400007,0],[-134.2148928939999,58.57075523100008,0],[-134.214183609,58.57086509900006,0],[-134.213278066,58.57094368900005,0],[-134.211985161,58.57107198700004,0],[-134.210883356,58.57111928500007,0],[-134.2098268729999,58.57121094600006,0],[-134.209347854,58.57125250200005,0],[-134.2093206169999,58.57229423800004,0],[-134.210660618,58.57281423800003,0],[-134.211260618,58.57352423900005,0],[-134.212100618,58.57397423800006,0],[-134.213940619,58.57399423800007,0],[-134.215530619,58.57400423800005,0],[-134.216760618,58.57400423800005,0],[-134.217860618,58.57395423700008,0],[-134.219320618,58.57427423700005,0],[-134.2193106189999,58.57491423700003,0],[-134.21868062,58.57581423800008,0],[-134.218540621,58.57645423700006,0],[-134.21707062,58.57650423700005,0],[-134.21672062,58.57579423700008,0],[-134.215990619,58.57528423700006,0],[-134.21441062,58.57488423800004,0],[-134.212080618,58.57487423900005,0],[-134.210620619,58.57448423800008,0],[-134.209150617,58.57447423900004,0],[-134.207670618,58.57491423900007,0],[-134.205580619,58.57534423900006,0],[-134.203360618,58.57584423900006,0],[-134.2013906179999,58.57640423900006,0],[-134.200030618,58.57678424000005,0],[-134.1983006199999,58.57760424000004,0],[-134.197300619,58.57836424000004,0],[-134.19619062,58.57893424100008,0],[-134.194710618,58.57931424100008,0],[-134.193230618,58.57962424100003,0],[-134.191650618,58.57922424100008,0],[-134.191420618,58.57839424100007,0],[-134.191450618,58.57717424100007,0],[-134.192710617,58.57558424100007,0],[-134.193710618,58.57482424100004,0],[-134.195440617,58.57406424100002,0],[-134.197180616,58.57318424000006,0],[-134.198890617,58.57319424100007,0],[-134.200480617,58.57320423900006,0],[-134.201350618,58.57269424000003,0],[-134.201490615,58.57192424000004,0],[-134.202000616,58.57110424000007,0],[-134.202150615,58.57007424000005,0],[-134.202290614,58.56905424000008,0],[-134.2033006139999,58.56790424000008,0],[-134.204420614,58.56721424000006,0],[-134.2058906139999,58.56722423900004,0],[-134.205990614,58.56792423800005,0],[-134.206840614,58.56857423900004,0],[-134.207700615,58.56838423900007,0],[-134.208690615,58.56768423900007,0],[-134.210050616,58.56705423900007,0],[-134.211160233,58.56715194200007,0],[-134.211231991,58.56710707300005,0],[-134.211513226,58.56663181800008,0],[-134.211723901,58.56603387100006,0],[-134.211657998,58.56554043400007,0],[-134.211702823,58.56510179500003,0],[-134.211767734,58.56462920900003,0],[-134.211716774,58.56398955900005,0],[-134.2114747529999,58.56343089900009,0],[-134.211212653,58.56290618400005,0],[-134.21081976,58.56236061700008,0],[-134.2107538769999,58.56186717800006,0],[-134.210872493,58.56161473400006,0],[-134.209710611,58.56058423900004,0],[-134.208094635,58.56057875100004,0],[-134.206770612,58.56057423900007,0],[-134.203350609,58.56029424000008,0],[-134.20187061,58.56066424000005,0],[-134.19855061,58.56116424000004,0],[-134.196470611,58.56140424100005,0],[-134.192420609,58.56157424100007,0],[-134.18934061,58.56231424100008,0],[-134.188570609,58.56378424200005,0],[-134.18780061,58.56518424300003,0],[-134.1877506119999,58.56736424100005,0],[-134.1862606129999,58.56825424200008,0],[-134.1841706119999,58.56868424300006,0],[-134.182950612,58.56835424300004,0],[-134.1816306109999,58.56738424300005,0],[-134.180550612,58.56661424300006,0],[-134.179950611,58.56584424400005,0],[-134.1799706099999,58.56481424300006,0],[-134.179990608,58.56405424300004,0],[-134.1793906079999,58.56359424300008,0],[-134.178440607,58.56244424400006,0],[-134.1784506069999,58.56199424400006,0],[-134.178840608,58.56103424300004,0],[-134.179710608,58.56040424400004,0],[-134.180820608,58.55996424300008,0],[-134.181810608,58.55958424300007,0],[-134.182680607,58.55901424300004,0],[-134.1836706079999,58.55876424300003,0],[-134.184660606,58.55800424200003,0],[-134.1864906059999,58.55833424200006,0],[-134.1878406069999,58.55834424200003,0],[-134.188950606,58.55822424200005,0],[-134.189940608,58.55745424100007,0],[-134.190690606,58.55707424200006,0],[-134.192290606,58.55644424100007,0],[-134.193280606,58.55607424100004,0],[-134.1943906069999,58.55582424100003,0],[-134.1955006049999,58.55525424200005,0],[-134.196500606,58.55455424100006,0],[-134.1973706049999,58.55417424100006,0],[-134.198360606,58.55335424100009,0],[-134.199230605,58.55290424100008,0],[-134.200340605,58.55253424000006,0],[-134.2017006029999,58.55215424000004,0],[-134.202560606,58.55177423900006,0],[-134.203310604,58.55120424000006,0],[-134.204050605,58.55076424000002,0],[-134.204430603,58.55044423900006,0],[-134.204450604,58.54955423900003,0],[-134.2044706029999,58.54859424000006,0],[-134.204970603,58.54808423900006,0],[-134.205554324,58.54808424100003,0],[-134.20627603,58.54834224600005,0],[-134.206273331,58.54846160700004,0],[-134.209352144,58.54777140100003,0],[-134.211103185,58.54743152000003,0],[-134.212220616,58.54709354500006,0],[-134.212040707,58.54691386500008,0],[-134.211938007,58.54642607200004,0],[-134.212013652,58.54609384000008,0],[-134.212314152,58.54586992400003,0],[-134.212411451,58.54558535200006,0],[-134.212509015,58.54528889900007,0],[-134.21231195,58.54495499500007,0],[-134.2114312739999,58.54470007000003,0],[-134.210524682,58.54458756300006,0],[-134.2088866189999,58.54466066100008,0],[-134.2071509419999,58.54503018500003,0],[-134.20566494,58.54541311300005,0],[-134.204957495,58.54553943900004,0],[-134.203894516,58.54530709800008,0],[-134.202471729,58.54490616600004,0],[-134.20192579,58.54492654000006,0],[-134.200489243,58.54513148400009,0],[-134.200238626,58.54521611100006,0],[-134.1990406,58.54529424000003,0],[-134.1973206009999,58.54528424100005,0],[-134.195850601,58.54546424000006,0],[-134.194490601,58.54616424100004,0],[-134.1944706,58.54673424200007,0],[-134.193480601,58.54737424100006,0],[-134.192370601,58.54774424200008,0],[-134.191390602,58.54780424200003,0],[-134.189660601,58.54836424200005,0],[-134.189280602,58.54907424200007,0],[-134.190000603,58.54971424200005,0],[-134.1892506029999,58.55022424200007,0],[-134.188380603,58.55104424200005,0],[-134.187500604,58.55174424200005,0],[-134.186150604,58.55205424200005,0],[-134.184560604,58.55204424300007,0],[-134.183340603,58.55184424200007,0],[-134.1824706039999,58.55235424300009,0],[-134.183560604,58.55287424300008,0],[-134.183550605,58.55345424200004,0],[-134.183290603,58.55383424300004,0],[-134.182300606,58.55433424300002,0],[-134.180950603,58.55433424300002,0],[-134.179740603,58.55406424300003,0],[-134.178890603,58.55342424300005,0],[-134.177810603,58.55277424400003,0],[-134.177090602,58.55219424400008,0],[-134.1766306009999,58.55091424400007,0],[-134.1767705999999,58.55020424300005,0],[-134.1777605999999,58.54963424300007,0],[-134.1786306019999,58.54881424400004,0],[-134.1796306,58.54811424300004,0],[-134.180980601,58.54780424300003,0],[-134.1822006,58.54819424300007,0],[-134.1830706009999,58.54768424400004,0],[-134.184180601,58.54705424300006,0],[-134.185180601,58.54616424200003,0],[-134.186540599,58.54572424200006,0],[-134.187780599,58.54522424200007,0],[-134.1890205989999,58.54459424200008,0],[-134.1895206,58.54376424200007,0],[-134.1905105979999,58.54331424200006,0],[-134.192240598,58.54262424200004,0],[-134.193850598,58.54206424100005,0],[-134.195570598,58.54181424000006,0],[-134.196920599,58.54137424100003,0],[-134.198040598,58.54087424100004,0],[-134.199270599,58.54043424100007,0],[-134.200150599,58.53960424000006,0],[-134.2001705979999,58.53858424100008,0],[-134.200180596,58.53800424100006,0],[-134.201060596,58.53730424100007,0],[-134.201930596,58.53660424000003,0],[-134.202516437,58.53613287700006,0],[-134.202500038,58.53685506800009,0],[-134.202371559,58.53770977800008,0],[-134.202023653,58.53862015900006,0],[-134.201679621,58.53935946100006,0],[-134.202101619,58.53998945500007,0],[-134.203309095,58.53965474600005,0],[-134.203868635,58.53903084400008,0],[-134.2045346309999,58.53852166500008,0],[-134.205630392,58.53830031100006,0],[-134.2057317159999,58.53864314000004,0],[-134.205458372,58.53905559300006,0],[-134.2111791199999,58.53964228400008,0],[-134.2122162319999,58.53970320800005,0],[-134.212253623,58.53965287500006,0],[-134.213353204,58.53926037800005,0],[-134.21434115,58.53898125600006,0],[-134.21511478,58.53852971500004,0],[-134.214471895,58.53801248100007,0],[-134.213712312,58.53783673300006,0],[-134.213290129,58.53720677600006,0],[-134.212762744,58.53640507200004,0],[-134.213429837,58.53583882100003,0],[-134.214311182,58.53544497900003,0],[-134.214940597,58.53483423900008,0],[-134.214950596,58.53451423800005,0],[-134.214900773,58.53447687200002,0],[-134.214881933,58.53430779300004,0],[-134.2148857559999,58.53413671400006,0],[-134.21462822,58.53390618300006,0],[-134.214244231,58.53356245400004,0],[-134.214129182,58.53355421700007,0],[-134.213756055,58.53352750300007,0],[-134.213630595,58.53341423800003,0],[-134.212770596,58.53341423800003,0],[-134.212030596,58.53340423900005,0],[-134.211790596,58.53327423800005,0],[-134.211680596,58.53282423900004,0],[-134.2108305949999,58.53243423900005,0],[-134.2091205949999,58.53242423900008,0],[-134.209427789,58.53211704700004,0],[-134.209750593,58.53179423900007,0],[-134.2108605929999,58.53135423900005,0],[-134.210880593,58.53039423900003,0],[-134.209410593,58.53031424000005,0],[-134.208080594,58.52986424000005,0],[-134.206620593,58.52940424000008,0],[-134.205400594,58.52914424000004,0],[-134.203570591,58.52874424000003,0],[-134.203058073,58.52874004100005,0],[-134.202350592,58.52873424000006,0],[-134.200760592,58.52872424000003,0],[-134.199170591,58.52865424100003,0],[-134.198450592,58.52820424100008,0],[-134.19760059,58.52774424100005,0],[-134.19663059,58.52729424200003,0],[-134.19443059,58.52728424200006,0],[-134.19333059,58.52727424100005,0],[-134.19198059,58.52726424200006,0],[-134.19003059,58.52718424200003,0],[-134.188810588,58.52679424200005,0],[-134.187110589,58.52659424300003,0],[-134.185510589,58.52671424300008,0],[-134.184280588,58.52715424200005,0],[-134.183650589,58.52778424300004,0],[-134.1808205889999,58.52847424400006,0],[-134.179220589,58.52884424300004,0],[-134.17811059,58.52935424500004,0],[-134.17687059,58.52998424500004,0],[-134.176120591,58.53087424500005,0],[-134.1743805899999,58.53188424500008,0],[-134.173140591,58.53258424400008,0],[-134.17177059,58.53372424500003,0],[-134.171750592,58.53443424500006,0],[-134.1723405929999,58.53520424500005,0],[-134.173060592,58.53584424400003,0],[-134.173300593,58.53636424500007,0],[-134.173280593,58.53700424500005,0],[-134.173010595,58.53808424500005,0],[-134.171660593,58.53846424500006,0],[-134.170780595,58.53909424500007,0],[-134.170280594,58.53986424500004,0],[-134.169530595,58.54056424500003,0],[-134.168530596,58.54106424500003,0],[-134.166820595,58.54112424600004,0],[-134.165720597,58.54098424500005,0],[-134.164260594,58.54046424600007,0],[-134.1637805939999,58.54014424600007,0],[-134.163070594,58.53936424600005,0],[-134.162470594,58.53878424600003,0],[-134.161390593,58.53788424700008,0],[-134.160170591,58.53749424700004,0],[-134.1605505909999,58.53698424700008,0],[-134.161310593,58.53615424600008,0],[-134.16205059,58.53564424600006,0],[-134.162930591,58.53482424600003,0],[-134.163800591,58.53418424600005,0],[-134.16516059,58.53355424600005,0],[-134.1661605899999,58.53292424600004,0],[-134.167030591,58.53209424600004,0],[-134.168150589,58.53140424500003,0],[-134.16914059,58.53089424500007,0],[-134.169770589,58.53032424500003,0],[-134.1701505889999,58.52968424600005,0],[-134.170410588,58.52885424500006,0],[-134.171040589,58.52809424500003,0],[-134.171790588,58.52771424500002,0],[-134.172660587,58.52707424500004,0],[-134.172680588,58.52624424500005,0],[-134.173180587,58.52561424500004,0],[-134.173200587,58.52497424500007,0],[-134.172240586,58.52413424500003,0],[-134.171140587,58.52406424500003,0],[-134.169430586,58.52379424500003,0],[-134.167720585,58.52371424500006,0],[-134.1660205859999,58.52332424600007,0],[-134.1651705849999,58.52287424600007,0],[-134.163820585,58.52318424600003,0],[-134.163070585,58.52394424700003,0],[-134.162430586,58.52483424700006,0],[-134.160940586,58.52585424600005,0],[-134.159580585,58.52641424600005,0],[-134.157990585,58.52640424700007,0],[-134.156520585,58.52639424700004,0],[-134.155060586,58.52638424700007,0],[-134.155190585,58.52606424700008,0],[-134.156060584,58.52543424700008,0],[-134.1565705849999,58.52467424700006,0],[-134.157070586,58.52403424700004,0],[-134.157700585,58.52339424700006,0],[-134.1588005839999,58.52314424700005,0],[-134.159670583,58.52270424700004,0],[-134.160540584,58.52207424700003,0],[-134.161420583,58.52111424600008,0],[-134.162050584,58.52048424600008,0],[-134.162670583,58.51997424700005,0],[-134.162690582,58.51933424700007,0],[-134.1632005819999,58.51844424700005,0],[-134.163820581,58.51793424700003,0],[-134.164570582,58.51749424700006,0],[-134.164570581,58.51723424600004,0],[-134.163610582,58.51652424600007,0],[-134.1642405809999,58.51588424700003,0],[-134.163650579,58.51505424600002,0],[-134.162540581,58.51543424700003,0],[-134.160560581,58.51631424700008,0],[-134.15897058,58.51630424600006,0],[-134.15739058,58.51584424800006,0],[-134.15617058,58.51570424700002,0],[-134.156400581,58.51641424800005,0],[-134.156390581,58.51686424800004,0],[-134.15637058,58.51762424800007,0],[-134.155150581,58.51762424700007,0],[-134.154420581,58.51710424800007,0],[-134.152950579,58.51728424800007,0],[-134.1519905809999,58.51676424800007,0],[-134.1505105799999,58.51707424800003,0],[-134.14941058,58.51688424900004,0],[-134.147830579,58.51674424900006,0],[-134.14672058,58.51686424900003,0],[-134.145010579,58.51685424900006,0],[-134.14328058,58.51747425000008,0],[-134.142530579,58.51811425000005,0],[-134.14166058,58.51874425000005,0],[-134.140440579,58.51861425000004,0],[-134.140460579,58.51810424900003,0],[-134.1405905779999,58.51746425000005,0],[-134.1413505789999,58.51663425000004,0],[-134.140510578,58.51586425000004,0],[-134.139170579,58.51585425100006,0],[-134.137940578,58.51584425100003,0],[-134.136120577,58.51519425000004,0],[-134.1349205769999,58.51454425100008,0],[-134.133960576,58.51357425000003,0],[-134.133740575,58.51267425100009,0],[-134.133150574,58.51171425100006,0],[-134.133420574,58.51082425100003,0],[-134.133440575,58.50979425100007,0],[-134.1344405729999,58.50922425200008,0],[-134.134700573,58.50852425100003,0],[-134.135340573,58.50744425100004,0],[-134.136210571,58.50680425100006,0],[-134.1379305729999,58.50624425100007,0],[-134.139410573,58.50574425000007,0],[-134.140770572,58.50504425000008,0],[-134.1421205729999,58.50486425000008,0],[-134.143350571,58.50487425000006,0],[-134.144570572,58.50468425000008,0],[-134.144090572,58.50430425000008,0],[-134.144480572,58.50360424900003,0],[-134.145230571,58.50290425000004,0],[-134.145240571,58.50238425000002,0],[-134.14563057,58.50143424900007,0],[-134.1461405699999,58.50060424900005,0],[-134.146770571,58.49990424900005,0],[-134.146790569,58.49920424900006,0],[-134.14814057,58.49876424900003,0],[-134.14766057,58.49824425000003,0],[-134.14656057,58.49823424900006,0],[-134.145350568,58.49810424900005,0],[-134.1453605679999,58.49746425000006,0],[-134.144010569,58.49751425000006,0],[-134.1421805689999,58.49750425000008,0],[-134.141470568,58.49679425000006,0],[-134.140260566,58.49595425000007,0],[-134.1394205669999,58.49531425000004,0],[-134.1387005669999,58.49479425000004,0],[-134.138490565,58.49364425100003,0],[-134.137750565,58.49370425100004,0],[-134.136650565,58.49369425000003,0],[-134.135080564,58.49304425100007,0],[-134.1336205649999,58.49277425100007,0],[-134.131920565,58.49244425100006,0],[-134.130690564,58.49269425200004,0],[-134.1300605659999,58.49326425200007,0],[-134.128940566,58.49396425200007,0],[-134.127580564,58.49459425100008,0],[-134.126830566,58.49529425200006,0],[-134.125710565,58.49637425300006,0],[-134.125080565,58.49713425200008,0],[-134.123720567,58.49744425300008,0],[-134.123710567,58.49808425300006,0],[-134.122840567,58.49852425300003,0],[-134.121360567,58.49896425300005,0],[-134.1207305679999,58.49979425300006,0],[-134.120470568,58.50030425400006,0],[-134.118980567,58.50138425400008,0],[-134.117240569,58.50245425400004,0],[-134.1162505679999,58.50289425400007,0],[-134.115740569,58.50391425400005,0],[-134.11474057,58.50448425400004,0],[-134.11352057,58.50441425400004,0],[-134.112190568,58.50408425400008,0],[-134.110980569,58.50356425500008,0],[-134.110510568,58.50266425500007,0],[-134.109430566,58.50182425500003,0],[-134.108350568,58.50124425600006,0],[-134.107230568,58.50174425500006,0],[-134.1054005669999,58.50192425500006,0],[-134.104280568,58.50249425600002,0],[-134.102940567,58.50242425600003,0],[-134.1002505659999,58.50240425600003,0],[-134.098060566,58.50187425700004,0],[-134.096120565,58.50115425700005,0],[-134.094050565,58.50082425700003,0],[-134.092730563,58.49998425700005,0],[-134.0912805629999,58.49933425800003,0],[-134.089710564,58.49874425800004,0],[-134.0886205629999,58.49809425800004,0],[-134.0877905629999,58.49719425800004,0],[-134.087210563,58.49616425800008,0],[-134.086240561,58.49558425900005,0],[-134.086390561,58.49475425900005,0],[-134.087020562,58.49398425800007,0],[-134.087770561,58.49322425900004,0],[-134.087800559,58.49207425900005,0],[-134.087580558,58.49124425800005,0],[-134.088220559,58.49015425900006,0],[-134.089330558,58.48958425900008,0],[-134.090330557,58.48895425800004,0],[-134.091450558,58.48806425800007,0],[-134.093170557,58.48763425800007,0],[-134.094640557,58.48738425800008,0],[-134.095990558,58.48720425700003,0],[-134.096840556,58.48753425700005,0],[-134.098310558,58.48754425700008,0],[-134.0989305579999,58.48709425700008,0],[-134.0996805569999,58.48646425700009,0],[-134.100670556,58.48602425600006,0],[-134.101660558,58.48545425600008,0],[-134.1024105549999,58.48488425600004,0],[-134.103290557,58.48386425600005,0],[-134.104410555,58.48297425500004,0],[-134.105640556,58.48253425600005,0],[-134.106270554,58.48190425600006,0],[-134.106900556,58.48126425600003,0],[-134.1075205559999,58.48088425500002,0],[-134.108510555,58.48031425500005,0],[-134.109630556,58.47968425500005,0],[-134.110380554,58.47892425500005,0],[-134.110890553,58.47809425500003,0],[-134.111150555,58.47726425500008,0],[-134.111410553,58.47668425400008,0],[-134.111670553,58.47617425500005,0],[-134.112050552,58.47560425400006,0],[-134.1132905539999,58.47497425500006,0],[-134.114530552,58.47421425500006,0],[-134.116000554,58.47390425400004,0],[-134.117000554,58.47320425400005,0],[-134.1178705519999,58.47251425500009,0],[-134.1185005519999,58.47168425400008,0],[-134.118880551,58.47123425400008,0],[-134.11865055,58.47078425400008,0],[-134.118290551,58.47027425300008,0],[-134.117450549,58.46981425400003,0],[-134.11611055,58.46981425400003,0],[-134.1146405489999,58.46980425500005,0],[-134.114040551,58.46928425500005,0],[-134.1146805499999,58.46839425500008,0],[-134.1157905479999,58.46763425400007,0],[-134.116050547,58.46718425400006,0],[-134.116810548,58.46623425400003,0],[-134.1168305469999,58.46539425400005,0],[-134.1168605459999,58.46418425500007,0],[-134.1160205469999,58.46341425500003,0],[-134.114810545,58.46295425500006,0],[-134.114220546,58.46224425400004,0],[-134.1143605459999,58.46160425500004,0],[-134.1149905459999,58.46077425500005,0],[-134.115740545,58.46008425400004,0],[-134.1169805439999,58.45925425400003,0],[-134.1176105439999,58.45862425400003,0],[-134.118850543,58.45773425400006,0],[-134.119840543,58.45716425300003,0],[-134.119860542,58.45633425400007,0],[-134.119160542,58.45530425400006,0],[-134.118310542,58.45491425400007,0],[-134.1169605429999,58.45509425500006,0],[-134.115860541,58.45521425500004,0],[-134.114780541,58.45463425400004,0],[-134.113440542,58.45424425500005,0],[-134.111980541,58.45403425500007,0],[-134.110900541,58.45358425500007,0],[-134.108970539,58.45254425500008,0],[-134.108870538,58.45164425600007,0],[-134.108290539,58.45049425600007,0],[-134.10758054,58.44972425600008,0],[-134.1069905369999,58.44856425600005,0],[-134.106170536,58.44740425700007,0],[-134.1052105369999,58.44656425600005,0],[-134.104260535,58.44560425700007,0],[-134.1042805339999,58.44470425600008,0],[-134.104080534,58.44329425600005,0],[-134.1027505329999,58.44245425600009,0],[-134.1021705319999,58.44155425700006,0],[-134.101700533,58.44065425700006,0],[-134.101240531,58.43975425700006,0],[-134.100900532,58.43879425700005,0],[-134.1000605309999,58.43795425700006,0],[-134.099230529,58.43724425800008,0],[-134.097780531,58.43653425800005,0],[-134.0960805289999,58.43613425700005,0],[-134.0951305299999,58.43529425800006,0],[-134.095150527,58.43459425900005,0],[-134.095890528,58.43395425800003,0],[-134.096640529,58.43351425800006,0],[-134.096660528,58.43255425800004,0],[-134.096310527,58.43185425800004,0],[-134.096080527,58.43133425800005,0],[-134.095610527,58.43075425800004,0],[-134.094760526,58.43043425800006,0],[-134.093920526,58.42997425900006,0],[-134.092840524,58.42939425800007,0],[-134.091270524,58.42855425900007,0],[-134.089830524,58.42790425900006,0],[-134.088980523,58.42751426000008,0],[-134.0886330229999,58.42712979100003,0],[-134.0886375159999,58.42695583500006,0],[-134.0886536309999,58.42633212200008,0],[-134.0886666759999,58.42582721200006,0],[-134.088959742,58.42544311600005,0],[-134.089198486,58.42496951700008,0],[-134.0892350559999,58.42475767600008,0],[-134.089265072,58.42458381100005,0],[-134.089358921,58.42451471700008,0],[-134.089784588,58.42420132200004,0],[-134.090131947,58.42390672800008,0],[-134.09042651,58.42346322800005,0],[-134.090613965,58.42278131900008,0],[-134.090731036,58.42214791900005,0],[-134.090745565,58.42206930700007,0],[-134.090867633,58.42191528100005,0],[-134.091096721,58.42162620800008,0],[-134.091616172,58.42124371100005,0],[-134.092305446,58.42086241600003,0],[-134.092493614,58.42015080300006,0],[-134.092502781,58.41979439600004,0],[-134.092122564,58.41916787500004,0],[-134.092192928,58.41863366400003,0],[-134.092036098,58.41812755100005,0],[-134.091593948,58.41770853300005,0],[-134.091273434,58.41696360900006,0],[-134.090664557,58.41642458200005,0],[-134.089488138,58.41594093400005,0],[-134.0884830909999,58.41539907900005,0],[-134.0878742849999,58.41486003900008,0],[-134.0863552759999,58.41449274700005,0],[-134.0850565379999,58.41436465800007,0],[-134.083473268,58.41429393300007,0],[-134.082573839,58.41404984900004,0],[-134.08184422,58.41380697500006,0],[-134.081005279,58.41341478300006,0],[-134.080508272,58.41293592100005,0],[-134.079734484,58.41221741900006,0],[-134.079408071,58.41171007100008,0],[-134.0787444219999,58.41111118000003,0],[-134.078074589,58.41074988900004,0],[-134.077013273,58.41020753900006,0],[-134.0755007989999,58.40960251500007,0],[-134.074096888,58.40917649200003,0],[-134.072521678,58.40880862800003,0],[-134.071224764,58.40862099800006,0],[-134.0697015009999,58.40843171200004,0],[-134.06806037,58.40841978800006,0],[-134.0660820529999,58.40831626800008,0],[-134.065005259,58.40836782900004,0],[-134.063699737,58.40850682800005,0],[-134.062286546,58.40843708200003,0],[-134.0610997209999,58.40836898000002,0],[-134.05968575,58.40832890700005,0],[-134.05810201,58.40828757000003,0],[-134.056919169,58.40807092700004,0],[-134.055165675,58.40802830400002,0],[-134.053864108,58.40801870200005,0],[-134.052163222,58.40812495800002,0],[-134.0499992159999,58.40861394100007,0],[-134.0479611489999,58.40862852200007,0],[-134.046201219,58.40882338000006,0],[-134.044265869,58.40922484900005,0],[-134.042840607,58.40960039300006,0],[-134.040852618,58.40985288600007,0],[-134.039088546,58.41019614700007,0],[-134.037947778,58.41051435900005,0],[-134.036523212,58.41086013300003,0],[-134.035438183,58.41120844500006,0],[-134.034919085,58.41156101300005,0],[-134.034346634,58.41179435200008,0],[-134.033259115,58.41223174700008,0],[-134.032006665,58.41248965100004,0],[-134.030809165,58.41280737000005,0],[-134.029778985,58.41321546400006,0],[-134.029146606,58.41356715100005,0],[-134.028565089,58.41412716500008,0],[-134.027933498,58.41444914600004,0],[-134.026849915,58.41473798500004,0],[-134.025877053,58.41511677700004,0],[-134.025071515,58.41558595400006,0],[-134.0244899,58.41614594900005,0],[-134.023857417,58.41649760800004,0],[-134.022885296,58.41684667700008,0],[-134.021687566,58.41716431000003,0],[-134.020657979,58.41754263000007,0],[-134.020082861,58.41786500400008,0],[-134.0186619519999,58.41806207700005,0],[-134.018090112,58.41826564200005,0],[-134.017340179,58.41876490200007,0],[-134.017048046,58.41908943300007,0],[-134.016811686,58.41944409500007,0],[-134.0161232839999,58.41976558300008,0],[-134.015438187,58.41996826700006,0],[-134.014699789,58.42005171200003,0],[-134.01395973,58.42019455200005,0],[-134.012986581,58.42057324600005,0],[-134.012750171,58.42092790100003,0],[-134.012343924,58.42128124800007,0],[-134.011485614,58.42160140100003,0],[-134.010744678,58.42177392300005,0],[-134.010175233,58.42188835300004,0],[-134.008530998,58.42196476500004,0],[-134.007899085,58.42228664600004,0],[-134.00755273,58.42252161500005,0],[-134.007041547,58.42257706900006,0],[-134.006695183,58.42281203600004,0],[-134.006626862,58.42322739600008,0],[-134.006498579,58.42376111600003,0],[-134.005803304,58.42432014600007,0],[-134.00567919,58.42470536700007,0],[-134.005162949,58.42493901100005,0],[-134.004702478,58.42520279500008,0],[-134.00441269,58.42543819500003,0],[-134.0042311019999,58.42585267500004,0],[-134.003766417,58.42626495300004,0],[-134.002842893,58.42688160500006,0],[-134.002433119,58.42735372000004,0],[-134.002194036,58.42779745500007,0],[-134.001609333,58.42844644200005,0],[-134.000919779,58.42879754600006,0],[-134.000232734,58.42905954800005,0],[-133.999485686,58.42943990300007,0],[-133.999080052,58.42976350600003,0],[-133.998609352,58.43038366400003,0],[-133.9979788859999,58.43064609400005,0],[-133.9974016579999,58.43102776500007,0],[-133.996820193,58.43155793100004,0],[-133.996752583,58.43194358400007,0],[-133.996566645,58.43250655000004,0],[-133.99649396,58.43307040300005,0],[-133.996363796,58.43366351100008,0],[-133.996067117,58.43413648900008,0],[-133.995604765,58.43445963800008,0],[-133.995144943,58.43469368600006,0],[-133.994286152,58.43501372200007,0],[-133.993991977,58.43539759700008,0],[-133.993865152,58.43587190400007,0],[-133.993965708,58.43631828800005,0],[-133.9941461879999,58.43653168800006,0],[-133.9942945,58.43670705000005,0],[-133.994676549,58.43721505400003,0],[-133.994608057,58.43763040600004,0],[-133.994369653,58.43804442600003,0],[-133.99504337,58.43825765200006,0],[-133.995651154,58.43879712800003,0],[-133.995577593,58.43939067900004,0],[-133.995280008,58.43989335500004,0],[-133.994640029,58.44048246600005,0],[-133.994057518,58.44104231800003,0],[-133.99375905,58.44157469000005,0],[-133.9937412469999,58.44219838300006,0],[-133.9934461559999,58.44261195600006,0],[-133.993148514,58.44311462700006,0],[-133.9932456879999,58.44367981000005,0],[-133.993261847,58.44372245300009,0],[-133.9934037519999,58.44409693900008,0],[-133.993441041,58.44461648300006,0],[-133.993444285,58.44466167800006,0],[-133.993715653,58.44507969600005,0],[-133.9939269879999,58.44561606800005,0],[-133.994660885,58.44571094200006,0],[-133.995159723,58.44610103400004,0],[-133.995661109,58.44640202600004,0],[-133.996142503,58.44645325900007,0],[-133.996330525,58.44659427300008,0],[-133.997050525,58.44698427300006,0],[-133.997900525,58.44711427200008,0],[-133.998750525,58.44712427300004,0],[-133.999610525,58.44700427300006,0],[-134.000590525,58.44701427200005,0],[-134.0015605249999,58.44721427200006,0],[-134.002400526,58.44747427200008,0],[-134.0037405259999,58.44767427100004,0],[-134.004840526,58.44768427200005,0],[-134.005690525,58.44769427200004,0],[-134.006550526,58.44769427200004,0],[-134.007890527,58.44783427100004,0],[-134.009350526,58.44797427100008,0],[-134.010200527,58.44823427100005,0],[-134.011410527,58.44843427100005,0],[-134.012740528,58.44896427100008,0],[-134.013590527,58.44896427000003,0],[-134.015050528,58.44929427100004,0],[-134.016260529,58.44950427000003,0],[-134.0177305289999,58.44957427000003,0],[-134.018950529,58.44958427000006,0],[-134.020050528,58.44940426900008,0],[-134.0217605289999,58.44928426900002,0],[-134.023590529,58.44930426800006,0],[-134.024820529,58.44911426800007,0],[-134.0260405289999,58.44912426900004,0],[-134.027020529,58.44913426900007,0],[-134.027760529,58.44894426800006,0],[-134.028610529,58.44895426800008,0],[-134.029830529,58.44883426800004,0],[-134.030940529,58.44871426800006,0],[-134.032030529,58.44872426700005,0],[-134.033500529,58.44854426800003,0],[-134.03485053,58.44855426700008,0],[-134.03595053,58.44856426700006,0],[-134.03741053,58.44857426700003,0],[-134.038390529,58.44838426700005,0],[-134.03937053,58.44833426600007,0],[-134.0409605299999,58.44808426600008,0],[-134.042550531,58.44816426600006,0],[-134.043650531,58.44817426600008,0],[-134.04499053,58.44818426500007,0],[-134.045960531,58.44831426600006,0],[-134.04742053,58.44851426500003,0],[-134.048870532,58.44897426500005,0],[-134.050090532,58.44924426400007,0],[-134.051180533,58.44963426500004,0],[-134.0521405329999,58.44996426400007,0],[-134.052870533,58.45022426500003,0],[-134.053950533,58.45074426400004,0],[-134.054800533,58.45113426400007,0],[-134.0556505329999,58.45133426400008,0],[-134.056250534,58.45159426400005,0],[-134.0570905339999,58.45217426300007,0],[-134.057930535,58.45288426300004,0],[-134.058640535,58.45340426300004,0],[-134.059360535,58.45404426300008,0],[-134.060320535,58.45469426300008,0],[-134.061040535,58.45521426300007,0],[-134.061390536,58.45585426300005,0],[-134.062100537,58.45656426300008,0],[-134.062570538,58.45727426200006,0],[-134.062560538,58.45771426300008,0],[-134.062660539,58.45842426200005,0],[-134.062770538,58.45893426200007,0],[-134.062750539,58.45983426200007,0],[-134.06236054,58.46066426200007,0],[-134.06210054,58.46117426300004,0],[-134.06135054,58.46167426300008,0],[-134.060610539,58.46212426200003,0],[-134.05986054,58.46281426300004,0],[-134.05898054,58.46358426300003,0],[-134.0581205399999,58.46395426300006,0],[-134.057250541,58.46452426400003,0],[-134.056250542,58.46528426400005,0],[-134.055260541,58.46572426400007,0],[-134.054270541,58.46610426400008,0],[-134.053420542,58.46622426400006,0],[-134.0526705409999,58.46654426400005,0],[-134.051895563,58.46669672100006,0],[-134.051450543,58.46678426500006,0],[-134.050580542,58.46716426500006,0],[-134.049600541,58.46735426400005,0],[-134.0493088699999,58.46735087400003,0],[-134.049791609,58.46871541000007,0],[-134.050188344,58.46996910500009,0],[-134.049512952,58.47174394600007,0],[-134.049586633,58.47354041500005,0],[-134.049271082,58.47567070800006,0],[-134.049170916,58.47743914800002,0],[-134.049070738,58.47920758700008,0],[-134.048701243,58.48142833200006,0],[-134.048841042,58.48343373800002,0],[-134.048819255,58.48571052500006,0],[-134.0488390579999,58.48759743900007,0],[-134.0492066689999,58.48954039900008,0],[-134.0496820709999,58.49130243200005,0],[-134.049983601,58.49303643900004,0],[-134.050620725,58.49452708100006,0],[-134.051444148,58.49634514500008,0],[-134.052267657,58.49816320200005,0],[-134.05354693,58.49985636300005,0],[-134.054772449,58.50163997100003,0],[-134.056279828,58.50327065300007,0],[-134.057601,58.50457390000008,0],[-134.059510507,58.50617010100008,0],[-134.061072178,58.50771025600005,0],[-134.062675451,58.50886052300007,0],[-134.064747023,58.51018524400007,0],[-134.068409941,58.51236071900007,0],[-134.072035847,58.51363788400005,0],[-134.076022653,58.51527032000008,0],[-134.081161908,58.51688956800007,0],[-134.086643494,58.51841485300008,0],[-134.091039866,58.52016198200005,0],[-134.0939409539999,58.52129704100009,0],[-134.0968921149999,58.52258871900005,0],[-134.0989293809999,58.52373356500004,0],[-134.101358562,58.52494127100005,0],[-134.104279551,58.52652518300005,0],[-134.106718713,58.52795733200004,0],[-134.108585676,58.52914892200005,0],[-134.10988034,58.53009998300007,0],[-134.111968443,58.53140129800005,0],[-134.113584157,58.53277545100008,0],[-134.114767761,58.53415459800004,0],[-134.115941801,58.53530918800004,0],[-134.1174675349999,58.53659447500007,0],[-134.1186417489999,58.53774903800007,0],[-134.12028709,58.53979673100008,0],[-134.121659353,58.54165174400003,0],[-134.123084028,58.54358964400006,0],[-134.124187738,58.54510442600009,0],[-134.1251414119999,58.54614917400005,0],[-134.126024229,58.54755419200006,0],[-134.127047552,58.54920468100005,0],[-134.127719174,58.55072448200009,0],[-134.12856189,58.55219734500008,0],[-134.129666116,58.55371207200005,0],[-134.130599392,58.55527372300003,0],[-134.131492431,58.55690323300007,0],[-134.13284742,58.55920128100006,0],[-134.134303985,58.56084662400008,0],[-134.135227873,58.56218369400005,0],[-134.135880514,58.56325436200008,0],[-134.136542998,58.56454956400006,0],[-134.136984313,58.56573503700008,0],[-134.137666504,58.56747930700004,0],[-134.138570009,58.56933329200006,0],[-134.1393329969999,58.57094180800004,0],[-134.140005585,58.57246152200008,0],[-134.140557259,58.57418484400005,0],[-134.141155512,58.57605347500004,0],[-134.141309629,58.57653482200004,0],[-134.143950936,58.58245692100007,0],[-134.14462306,58.58494260900006,0],[-134.145417143,58.58625866500005,0],[-134.146352015,58.58782016700007,0],[-134.147025241,58.58933982700005,0],[-134.14783928,58.59110493200006,0],[-134.148613073,58.59293790100003,0],[-134.1494676089999,58.59463511900003,0],[-134.150463025,58.59657777400008,0],[-134.151971569,58.59934553500004,0],[-134.15459721,58.60385226600005,0],[-134.1578981649999,58.60891251700009,0],[-134.160142842,58.61261492600005,0],[-134.160857492,58.61406661300003,0],[-134.161693198,58.61531466800005,0],[-134.162478648,58.61640606400006,0],[-134.163082845,58.61731990300007,0],[-134.1636467439999,58.61830161300003,0],[-134.164704305,58.61965931900005,0],[-134.165365102,58.62093364500004,0],[-134.1659106389999,58.62072424500008,0],[-134.16739064,58.62015424400005,0],[-134.168980641,58.62048424400007,0],[-134.16946064,58.62113424400008,0],[-134.1702906419999,58.62228424400007,0],[-134.1702706409999,58.62299424300005,0],[-134.170620642,58.62369424400003,0],[-134.170970641,58.62433424300009,0],[-134.172180644,58.62511424400003,0],[-134.1727806439999,58.62582424300007,0],[-134.174000644,58.62627424300007,0],[-134.174850643,58.62654424300006,0],[-134.176690644,58.62668424200007,0],[-134.177790645,58.62681424300007,0],[-134.179130645,58.62695424200007,0],[-134.180230645,58.62734424300004,0],[-134.181200646,58.62773424200004,0],[-134.182170646,58.62844424200006,0],[-134.182750647,58.62953424200003,0],[-134.183470648,58.63024424200006,0],[-134.184310647,58.63114424100007,0],[-134.185640647,58.63198424100006,0],[-134.186600648,58.63314424100008,0],[-134.186580648,58.63365424100004,0],[-134.185710649,58.63428424100006,0],[-134.183870649,58.63414424100006,0],[-134.182400649,58.63414424200005,0],[-134.1809306489999,58.63400424200006,0],[-134.179590648,58.63373424200007,0],[-134.177750648,58.63366424300006,0],[-134.175920648,58.63333424200005,0],[-134.1734606479999,58.63337424400003,0],[-134.171970648,58.63394424400008,0],[-134.170630647,58.63368424300006,0],[-134.169410648,58.63354424300007,0],[-134.167940645,58.63308424400003,0],[-134.165990646,58.63262424400006,0],[-134.1645306459999,58.63216424400008,0],[-134.162930645,58.63215424500004,0],[-134.161940645,58.63279424500006,0],[-134.161075775,58.63318035000003,0],[-134.160820646,58.63329424500006,0],[-134.159830647,58.63361424500005,0],[-134.159450648,58.63437424500006,0],[-134.1587806479999,58.63641424500008,0],[-134.158140648,58.63756424500007,0],[-134.157130649,58.63884424600008,0],[-134.1566106499999,58.63979424600007,0],[-134.1554906489999,58.64055424500003,0],[-134.15461065,58.64151424600004,0],[-134.15459065,58.64215424600008,0],[-134.154570651,58.64330424600007,0],[-134.153540653,58.64515424700006,0],[-134.153520651,58.64598424600006,0],[-134.153740652,58.64681424600008,0],[-134.153590653,58.64796424600007,0],[-134.153090654,58.64841424600007,0],[-134.1529506529999,58.64924424600009,0],[-134.1525606549999,58.65000424600004,0],[-134.152540656,58.65077424600008,0],[-134.152422734,58.65086386900003,0],[-134.1523910289999,58.65088796600003,0],[-134.1540173339999,58.65150645900007,0],[-134.155462631,58.65213327600002,0],[-134.15658527,58.65265908000003,0],[-134.157963529,58.65307700100004,0],[-134.159542346,58.65341240200007,0],[-134.159772816,58.65316032200008,0],[-134.159860657,58.65306424500005,0],[-134.160110656,58.65287424500009,0],[-134.161230656,58.65192424500003,0],[-134.162730656,58.65084424400004,0],[-134.163860657,58.64995424400006,0],[-134.163870655,58.64944424400006,0],[-134.164380654,58.64887424400006,0],[-134.164890655,58.64810424400009,0],[-134.1660006549999,58.64772424400007,0],[-134.167480656,58.64748424400005,0],[-134.168720654,58.64710424300006,0],[-134.1698306549999,58.64666424300003,0],[-134.170940655,58.64628424300009,0],[-134.172410654,58.64668424300004,0],[-134.1735006549999,58.64707424300008,0],[-134.174600656,58.64746424200007,0],[-134.175820656,58.64772424200004,0],[-134.176300657,58.64830424300005,0],[-134.176520657,58.64926424200007,0],[-134.176630657,58.64978424200007,0],[-134.177480657,58.65017424200004,0],[-134.178950658,58.65056424100004,0],[-134.1807806579999,58.65108424200008,0],[-134.182250658,58.65109424100007,0],[-134.183720658,58.65110424200003,0],[-134.18447066,58.65066424100007,0],[-134.186070659,58.65067424100005,0],[-134.187060659,58.65016424100003,0],[-134.188420657,58.64979424100005,0],[-134.189660658,58.64941424100004,0],[-134.190770659,58.64891424000007,0],[-134.192000659,58.64872424000004,0],[-134.193230659,58.64873423900009,0],[-134.194840658,58.64810424000007,0],[-134.195830658,58.64791423900004,0],[-134.196820658,58.64766424000004,0],[-134.198170658,58.64754423900007,0],[-134.199400659,58.64723423900006,0],[-134.200400658,58.64685423900005,0],[-134.2013806579999,58.64680423800007,0],[-134.202610658,58.64648423800003,0],[-134.203240658,58.64610423800008,0],[-134.203980657,58.64560423800004,0],[-134.205350658,58.64509423800007,0],[-134.206450658,58.64510423800004,0],[-134.207670659,58.64530423800006,0],[-134.208400658,58.64582423700006,0],[-134.208380658,58.64665423800005,0],[-134.207510659,58.64722423800004,0],[-134.20603066,58.64753423800004,0],[-134.205030659,58.64816423800005,0],[-134.203780661,58.64899423900004,0],[-134.203530659,58.64943423800008,0],[-134.20278066,58.64988423900007,0],[-134.20179066,58.65045423800007,0],[-134.200550661,58.65095423900004,0],[-134.200040662,58.65146423900006,0],[-134.2004006609999,58.65217423900004,0],[-134.201380662,58.65217423900004,0],[-134.20212066,58.65186423900008,0],[-134.202860661,58.65173423800007,0],[-134.20383066,58.65257423800006,0],[-134.204420662,58.65341423800004,0],[-134.205270663,58.65392423800006,0],[-134.2063606629999,58.65438423700004,0],[-134.206960663,58.65496423700006,0],[-134.207950662,58.65496423700006,0],[-134.209300663,58.65497423700003,0],[-134.210260664,58.65562423700004,0],[-134.211470665,58.65639423700003,0],[-134.212320665,58.65698423600003,0],[-134.213040666,58.65756423600004,0],[-134.214020664,58.65769423600005,0],[-134.214740666,58.65846423700003,0],[-134.214360665,58.65936423600004,0],[-134.212630668,58.65979423700004,0],[-134.211260666,58.66042423700003,0],[-134.209050666,58.66047423700007,0],[-134.2078306659999,58.66008423700005,0],[-134.206720667,58.66008423800007,0],[-134.205990667,58.66007423800005,0],[-134.203790665,58.65967423900008,0],[-134.2023106669999,58.65986423900006,0],[-134.201070666,58.66011423900005,0],[-134.200200665,58.66068423800004,0],[-134.199460666,58.66106423900003,0],[-134.198620666,58.66009423900005,0],[-134.198640664,58.65926423900004,0],[-134.1970506649999,58.65880423900006,0],[-134.195830665,58.65847423900004,0],[-134.194480663,58.65846423900007,0],[-134.193140665,58.65788423900006,0],[-134.190810662,58.65787424000008,0],[-134.188850663,58.65785424000006,0],[-134.187000664,58.65791424100006,0],[-134.1860106619999,58.65841424100006,0],[-134.185000664,58.65930424100003,0],[-134.184000664,58.66025424100008,0],[-134.1831406639999,58.66038424100003,0],[-134.182670665,58.65929424100005,0],[-134.1813406639999,58.65845424200006,0],[-134.179760662,58.65780424200005,0],[-134.177180661,58.65765424200005,0],[-134.17524066,58.65694424200007,0],[-134.17291066,58.65660424300006,0],[-134.171560659,58.65653424300007,0],[-134.16997066,58.65652424300004,0],[-134.168750661,58.65606424300007,0],[-134.167640661,58.65631424300005,0],[-134.167000661,58.65714424400006,0],[-134.16528066,58.65719424400004,0],[-134.1636806609999,58.65731424500007,0],[-134.16342066,58.65788424400007,0],[-134.16353066,58.65872424400004,0],[-134.163390661,58.65916424400007,0],[-134.163380661,58.65967424400003,0],[-134.162760661,58.65986424500005,0],[-134.162705604,58.65984077800006,0],[-134.162181931,58.65961757300004,0],[-134.162062517,58.66002202800008,0],[-134.161896057,58.66129402200006,0],[-134.1623706619999,58.66095424400004,0],[-134.1623506609999,58.66178424500004,0],[-134.162330662,58.66274424400007,0],[-134.162300665,58.66363424400004,0],[-134.1616706619999,58.66446424400004,0],[-134.160800663,58.66484424500003,0],[-134.160170664,58.66554424500004,0],[-134.160150664,58.66656424500006,0],[-134.159446848,58.66664667500004,0],[-134.159139628,58.66782941400004,0],[-134.158334747,58.66942500100004,0],[-134.158480668,58.66937424500003,0],[-134.158489294,58.66939825100008,0],[-134.158710666,58.67001424400008,0],[-134.159050668,58.67110424400005,0],[-134.159030668,58.67193424500005,0],[-134.159000668,58.67321424500005,0],[-134.1590868919999,58.67399024800005,0],[-134.1591006689999,58.67411424500006,0],[-134.159264192,58.67412580800004,0],[-134.160090668,58.67418424400006,0],[-134.161320668,58.67380424400005,0],[-134.162310669,58.67381424400003,0],[-134.1622906699999,58.67464424400004,0],[-134.16239067,58.67541424500007,0],[-134.16313067,58.67542424400006,0],[-134.16411067,58.67542424400006,0],[-134.16547067,58.67505424400008,0],[-134.1672006699999,58.67474424300008,0],[-134.167710671,58.67391424400006,0],[-134.167860669,58.67269424400007,0],[-134.1689606689999,58.67277424400005,0],[-134.17055067,58.67316424300002,0],[-134.171900668,58.67317424200007,0],[-134.17325067,58.67343424300003,0],[-134.174600669,58.67357424200003,0],[-134.1760706699999,58.67371424200007,0],[-134.17606067,58.67415424200004,0],[-134.17579067,58.67518424200006,0],[-134.1753906709999,58.67639424200007,0],[-134.175860673,58.67716424200006,0],[-134.1767306739999,58.67672424200003,0],[-134.177490673,58.67589424200003,0],[-134.179090672,58.67590424200006,0],[-134.1805706709999,58.67559424100007,0],[-134.181920673,58.67554424100007,0],[-134.182910672,58.67554424100007,0],[-134.183760673,58.67593424000006,0],[-134.183870672,58.67638424100005,0],[-134.184350673,58.67690424100005,0],[-134.1836006729999,58.67753424100005,0],[-134.1817506739999,58.67752424100007,0],[-134.179670674,58.67751424100003,0],[-134.177070674,58.67794424200008,0],[-134.174860672,58.67799424200008,0],[-134.172770672,58.67797424200007,0],[-134.171300673,58.67777424300004,0],[-134.1694706709999,58.67738424300006,0],[-134.167390672,58.67685424300003,0],[-134.1655506709999,58.67684424400005,0],[-134.164320671,58.67696424400003,0],[-134.162840671,58.67714424500008,0],[-134.161850672,58.67739424500007,0],[-134.1604906699999,58.67789424500006,0],[-134.1592506699999,58.67833424500002,0],[-134.15975067,58.67776424400006,0],[-134.160510672,58.67687424500008,0],[-134.160753614,58.67678767900003,0],[-134.16138067,58.67656424400008,0],[-134.161387939,58.67623713900008,0],[-134.161390671,58.67611424400009,0],[-134.1611804889999,58.67597082900005,0],[-134.1611382139999,58.67599373100007,0],[-134.1602633369999,58.67625686800005,0],[-134.1591234209999,58.67666355100004,0],[-134.1582526669999,58.67702022400006,0],[-134.156813982,58.67762699600007,0],[-134.155770629,58.67817290100004,0],[-134.1550174389999,58.67873407400003,0],[-134.154482913,58.67933008800003,0],[-134.154099688,58.68007406600004,0],[-134.15413813,58.68042958300003,0],[-134.154530673,58.68035424500005,0],[-134.155064862,58.68051450100007,0],[-134.155630673,58.68068424500007,0],[-134.155610672,58.68125424500006,0],[-134.155600673,58.68189424500008,0],[-134.1553799329999,58.68225649000004,0],[-134.155242005,58.68248282800005,0],[-134.155864396,58.68314190200005,0],[-134.156616743,58.68419064000005,0],[-134.1575500229999,58.68523722300006,0],[-134.1580671039999,58.68587691100004,0],[-134.158814987,58.68621408400003,0],[-134.158820674,58.68588424400008,0],[-134.1602806769999,58.68634424500005,0],[-134.161380677,58.68679424400005,0],[-134.162220677,58.68744424400006,0],[-134.162830678,58.68796424400006,0],[-134.164920678,58.68797424400003,0],[-134.166020678,58.68798424300007,0],[-134.166880678,58.68817424400003,0],[-134.168220678,58.68837424300006,0],[-134.169320679,58.68889424200006,0],[-134.170040677,58.68947424300006,0],[-134.17027068,58.69018424300003,0],[-134.171500678,58.69019424200008,0],[-134.17201068,58.68961424200006,0],[-134.173110679,58.68962424200004,0],[-134.1742106789999,58.68982424200004,0],[-134.175550679,58.69041424200003,0],[-134.1766606799999,58.69041424200003,0],[-134.17789068,58.69036424100005,0],[-134.179010679,58.68985424100003,0],[-134.18011068,58.68986424100007,0],[-134.1809606799999,58.69025424100005,0],[-134.18070068,58.69089424100007,0],[-134.17959068,58.69101424100006,0],[-134.178120681,58.69100424200008,0],[-134.1765206809999,58.69092424200005,0],[-134.1754206799999,58.69092424200005,0],[-134.174550681,58.69110424200006,0],[-134.1738006799999,58.69161424200007,0],[-134.17285136,58.69160831100004,0],[-134.172986542,58.69171103000008,0],[-134.174292499,58.69241419500008,0],[-134.176170749,58.69296070900003,0],[-134.177907684,58.69358377600008,0],[-134.177880785,58.69427298900007,0],[-134.1778606239999,58.69511187900009,0],[-134.177699076,58.69602734900008,0],[-134.177194141,58.69703680400005,0],[-134.176817101,58.69767032400006,0],[-134.1764939129999,58.69821333900006,0],[-134.17537617,58.69912532000006,0],[-134.174824004,58.69973098500003,0],[-134.174170791,58.70066732600003,0],[-134.173887918,58.70146443700003,0],[-134.174339027,58.70247737300008,0],[-134.174958524,58.70336847900006,0],[-134.1755241769999,58.70435008400005,0],[-134.1761437389999,58.70524118300006,0],[-134.176500676,58.70609051100007,0],[-134.1766623189999,58.70710691600004,0],[-134.176696001,58.70785529800003,0],[-134.176857658,58.70887170200007,0],[-134.177026063,58.71003778200003,0],[-134.177612085,58.71082444700005,0],[-134.178029742,58.71173293900006,0],[-134.176817301,58.71312528200009,0],[-134.175018699,58.71437489300007,0],[-134.172020791,58.71602821800008,0],[-134.171077602,58.71632405300005,0],[-134.1692990069999,58.71673470400004,0],[-134.167028567,58.71716618100004,0],[-134.164334645,58.71754850300005,0],[-134.164330695,58.71772424300008,0],[-134.164430694,58.71849424300008,0],[-134.1646630819999,58.71874212600005,0],[-134.165030694,58.71913424300004,0],[-134.165020695,58.71977424300007,0],[-134.164270696,58.72022424400005,0],[-134.1637606959999,58.72073424300004,0],[-134.163750697,58.72124424300006,0],[-134.1626726009999,58.72172553600006,0],[-134.162630696,58.72174424300005,0],[-134.161750696,58.72238424400007,0],[-134.161742265,58.72297449800004,0],[-134.161740697,58.72308424400006,0],[-134.161840698,58.72391424400007,0],[-134.161830697,58.72449424300004,0],[-134.161330697,58.72481424400007,0],[-134.162800698,58.72494424300004,0],[-134.163780699,58.72521424300004,0],[-134.165750698,58.72522424300006,0],[-134.166720699,58.72548424200004,0],[-134.168080698,58.72549424200008,0],[-134.1698007,58.72569424200003,0],[-134.1712707,58.72596424300009,0],[-134.1723607,58.72641424100004,0],[-134.1729707009999,58.72680424200007,0],[-134.174070699,58.72687424100009,0],[-134.1752906999999,58.72733424200004,0],[-134.174780702,58.72803424200004,0],[-134.1736807,58.72796424100006,0],[-134.172450702,58.72769424200004,0],[-134.1711207,58.72711424200003,0],[-134.169890699,58.72678424200005,0],[-134.1687906989999,58.72645424200005,0],[-134.1675607,58.72645424300003,0],[-134.166460699,58.72606424200006,0],[-134.1654807,58.72605424300008,0],[-134.163630697,58.72604424300005,0],[-134.161790699,58.72602424400003,0],[-134.1604306999999,58.72640424400004,0],[-134.158995213,58.72676070800003,0],[-134.1592038909999,58.72762005600003,0],[-134.160160699,58.72723424400004,0],[-134.1615007,58.72801424400006,0],[-134.1627007009999,58.72917424300005,0],[-134.162670702,58.73038424400005,0],[-134.1615507019999,58.73089424300008,0],[-134.162270701,58.73160424300005,0],[-134.163000702,58.73211424300008,0],[-134.164330703,58.73302424300006,0],[-134.163940703,58.73385424300005,0],[-134.162240703,58.73307424300004,0],[-134.160640703,58.73306424300006,0],[-134.1593907009999,58.73350424400007,0],[-134.158150704,58.73406424300003,0],[-134.1580107029999,58.73496424400008,0],[-134.1574907039999,58.73585424500004,0],[-134.1574425699999,58.73598383900003,0],[-134.157230703,58.73655424400005,0],[-134.157110772,58.73705110700007,0],[-134.157090704,58.73713424400006,0],[-134.157909057,58.73945762600005,0],[-134.158198468,58.74097493500005,0],[-134.1582837399999,58.74112854600003,0],[-134.1583507079999,58.74091424300008,0],[-134.159180707,58.74220424400005,0],[-134.1591607079999,58.74309424400008,0],[-134.159520709,58.74374424300003,0],[-134.160250709,58.74400424300006,0],[-134.1611107099999,58.74400424400005,0],[-134.16196071,58.74433424300008,0],[-134.16207071,58.74510424300007,0],[-134.1608407099999,58.74490424300006,0],[-134.159240709,58.74489424400008,0],[-134.158140708,58.74450424300004,0],[-134.157248621,58.74430681600006,0],[-134.156920709,58.74423424400004,0],[-134.1569265049999,58.74390384400004,0],[-134.155697631,58.74410096400004,0],[-134.154160293,58.74426517300003,0],[-134.152901132,58.74432499300007,0],[-134.151732925,58.74447357700006,0],[-134.150873105,58.74470836100005,0],[-134.149851245,58.74521460500006,0],[-134.148935597,58.74566343100008,0],[-134.1479690849999,58.74643856000006,0],[-134.147326236,58.74715371200006,0],[-134.146678401,58.74775660500006,0],[-134.14588377,58.74848476700004,0],[-134.145382662,58.74896238000008,0],[-134.145094059,58.74932517900004,0],[-134.144638405,58.74984718000007,0],[-134.144395263,58.75025436800007,0],[-134.144111591,58.75072941900005,0],[-134.143782435,58.75116007800004,0],[-134.143124563,58.75153844200008,0],[-134.1427652249999,58.75177851900003,0],[-134.1424464139999,58.75195073300006,0],[-134.141864631,58.75208110600005,0],[-134.141333262,58.75236812400005,0],[-134.140736141,58.75264467900007,0],[-134.140169159,58.75311181100005,0],[-134.139662967,58.75347714600008,0],[-134.139267982,58.75389733200008,0],[-134.138933798,58.75421572300007,0],[-134.138579337,58.75456804400005,0],[-134.138336091,58.75497521900007,0],[-134.138052295,58.75545025500003,0],[-134.137687404,58.75606101600005,0],[-134.1373427729999,58.75663784400007,0],[-134.137170177,58.75716773300007,0],[-134.137255649,58.75762721600007,0],[-134.13726496,58.75833467800004,0],[-134.137714271,58.75914930500005,0],[-134.138047435,58.75979682100007,0],[-134.13842116,58.76037647300006,0],[-134.1387242009999,58.76083340700006,0],[-134.139006979,58.76132427200009,0],[-134.139188395,58.76198479200008,0],[-134.139430639,58.76254351800003,0],[-134.139526032,58.76322750700007,0],[-134.139702528,58.76377577100005,0],[-134.139727226,58.76433704500006,0],[-134.139620394,58.76487739500004,0],[-134.13951997,58.76534296600005,0],[-134.140260718,58.76569424600008,0],[-134.140608178,58.76630784700006,0],[-134.14073072,58.76652424600007,0],[-134.141090718,58.76716424500006,0],[-134.141301796,58.76731874800004,0],[-134.14206072,58.76787424600008,0],[-134.14203072,58.76883424600004,0],[-134.142020721,58.76954424500007,0],[-134.141056541,58.76953450700006,0],[-134.141030721,58.76953424700009,0],[-134.140483728,58.76952872200008,0],[-134.140459573,58.77083533500007,0],[-134.140957766,58.77096857500003,0],[-134.142100722,58.77127424600008,0],[-134.1420807219999,58.77203424600003,0],[-134.141560724,58.77299424600005,0],[-134.142030724,58.77389424600005,0],[-134.141897718,58.77415344000008,0],[-134.1416407249999,58.77465424500007,0],[-134.141396843,58.77456243200004,0],[-134.141434648,58.77488841600007,0],[-134.141266968,58.77553055900006,0],[-134.141023605,58.77593773300003,0],[-134.140501747,58.77644925100003,0],[-134.139954648,58.77688244400009,0],[-134.139113693,58.77756615900006,0],[-134.138333556,58.77814807600004,0],[-134.137680041,58.77863865900008,0],[-134.1368187099999,58.77935628900008,0],[-134.135921696,58.78025402700008,0],[-134.134999419,58.78107343500005,0],[-134.134031592,58.78184844300006,0],[-134.132603138,58.78255019300008,0],[-134.130770013,58.78296462800006,0],[-134.128744355,58.78345989200005,0],[-134.126151654,58.78393924100004,0],[-134.12402436,58.78460407300008,0],[-134.121598061,58.78540710000004,0],[-134.1201594459999,58.78588420300008,0],[-134.118893011,58.78631437700005,0],[-134.117859695,58.78659584700006,0],[-134.116765428,58.78697908900006,0],[-134.115240569,58.78747959100008,0],[-134.113853766,58.78811028600006,0],[-134.114060729,58.78829425000005,0],[-134.114550728,58.78868425000007,0],[-134.114530729,58.78932425000005,0],[-134.115538957,58.78998098700004,0],[-134.1156207289999,58.79003424900003,0],[-134.1161107299999,58.79042424900006,0],[-134.117450731,58.79107425000007,0],[-134.118420731,58.79139425000005,0],[-134.1195307309999,58.79153424900005,0],[-134.120620732,58.79237424900003,0],[-134.12110073,58.79269424900008,0],[-134.121692056,58.79267251100003,0],[-134.122460732,58.79264424800004,0],[-134.123680733,58.79328424800008,0],[-134.123650733,58.79418424800008,0],[-134.123270734,58.79469424800004,0],[-134.123250734,58.79533424900006,0],[-134.123242578,58.79596227800005,0],[-134.123240735,58.79610424800006,0],[-134.123220735,58.79667424800004,0],[-134.124339829,58.79685621500006,0],[-134.124450734,58.79687424800006,0],[-134.124449433,58.79694065400008,0],[-134.124440734,58.79738424800006,0],[-134.125530735,58.79816424800003,0],[-134.126120736,58.79906424800004,0],[-134.126100736,58.79970424800007,0],[-134.1268207369999,58.80047424700007,0],[-134.127550737,58.80105424800007,0],[-134.128520738,58.80157424800008,0],[-134.1291307389999,58.80215424700003,0],[-134.129470738,58.80305424700003,0],[-134.130320739,58.80363424700005,0],[-134.13092074,58.80440424700004,0],[-134.1309945149999,58.80441271300003,0],[-134.13153074,58.80447424600003,0],[-134.132280741,58.80435424600006,0],[-134.13290074,58.80416424700007,0],[-134.134130741,58.80430424600007,0],[-134.13572074,58.80469424500005,0],[-134.13497074,58.80501424700003,0],[-134.133860742,58.80500424700006,0],[-134.13263074,58.80518424700006,0],[-134.131630741,58.80537424700003,0],[-134.13175074,58.80588424600006,0],[-134.13297074,58.80608424600006,0],[-134.134450741,58.80622424600007,0],[-134.135560742,58.80635424700007,0],[-134.136540741,58.80649424600006,0],[-134.137150742,58.80681424600003,0],[-134.1360307419999,58.80706424600003,0],[-134.134670741,58.80712424700004,0],[-134.133320743,58.80717424600005,0],[-134.132460741,58.80697424600005,0],[-134.131840741,58.80697424600005,0],[-134.131830741,58.80742424600003,0],[-134.131810742,58.80806424600007,0],[-134.131800742,58.80863424700004,0],[-134.131790743,58.80921424600007,0],[-134.130430742,58.80920424700008,0],[-134.1301400409999,58.80911636300004,0],[-134.1295707419999,58.80894424700006,0],[-134.128590742,58.80887424800005,0],[-134.127600742,58.80892424800003,0],[-134.126470742,58.80949424700003,0],[-134.1251107419999,58.80987424800003,0],[-134.123740744,58.81050424800003,0],[-134.1226107419999,58.81100424800006,0],[-134.123090743,58.81177424800006,0],[-134.123440744,58.81229424800005,0],[-134.123550743,58.81286424700005,0],[-134.1229207439999,58.81350424900006,0],[-134.1228907449999,58.81452424800006,0],[-134.123370745,58.81510424700008,0],[-134.12396201,58.81526405000005,0],[-134.124110745,58.81530424800007,0],[-134.124460746,58.81607424800005,0],[-134.125190746,58.81646424800006,0],[-134.126780746,58.81692424800008,0],[-134.127371721,58.81728578500009,0],[-134.1276307479999,58.81744424700009,0],[-134.1267507479999,58.81820424800003,0],[-134.126735132,58.81885230300004,0],[-134.126172113,58.81882854600008,0],[-134.126329529,58.81906563000007,0],[-134.126555151,58.81957214600004,0],[-134.126726592,58.82016913500008,0],[-134.126631292,58.82064942100005,0],[-134.126583172,58.82121151900003,0],[-134.1265990529999,58.82190764600006,0],[-134.126605124,58.82237926900007,0],[-134.126604656,58.82270122400007,0],[-134.126610923,58.82306781100004,0],[-134.126675749,58.82302224700004,0],[-134.1267637509999,58.82298624700007,0],[-134.126817827,58.82298184900003,0],[-134.127230751,58.82364424700006,0],[-134.12759075,58.82396424800004,0],[-134.128820751,58.82429424700007,0],[-134.129790752,58.82475424700003,0],[-134.130260752,58.82584424600003,0],[-134.130610752,58.82642424700003,0],[-134.130600751,58.82705424700004,0],[-134.130460753,58.82750424700004,0],[-134.129110752,58.82749424600007,0],[-134.127990752,58.82774424700006,0],[-134.1266207529999,58.82812424700006,0],[-134.126199587,58.82833483300004,0],[-134.1260588709999,58.82851011700005,0],[-134.12558832,58.82905464500004,0],[-134.125276629,58.82957486900006,0],[-134.124897166,58.83020818400007,0],[-134.124544796,58.83079626100005,0],[-134.1241924129999,58.83138433700003,0],[-134.123856836,58.83202462600008,0],[-134.123565175,58.83267189400004,0],[-134.123015959,58.83374890600004,0],[-134.122737823,58.83437355400009,0],[-134.122631627,58.83527323800008,0],[-134.122302507,58.83606318900007,0],[-134.121895803,58.83674172900003,0],[-134.121808317,58.83690949200007,0],[-134.1219514319999,58.83748511400006,0],[-134.1223135499999,58.83828579600004,0],[-134.122819419,58.83904738000007,0],[-134.1234012579999,58.83988295600005,0],[-134.1243547179999,58.84090140700005,0],[-134.125114259,58.84164133000007,0],[-134.12580605,58.84249433900004,0],[-134.12752864,58.84363488400005,0],[-134.127866394,58.84387430000004,0],[-134.1283140099999,58.84413115800004,0],[-134.129834535,58.84480607200003,0],[-134.13149887,58.84544186200003,0],[-134.13381562,58.84636335600004,0],[-134.133830685,58.84636934800005,0],[-134.1355236859999,58.84685463900007,0],[-134.136753544,58.84709924700007,0],[-134.137737264,58.84730489800006,0],[-134.139082842,58.84746887900008,0],[-134.140369927,58.84756066000006,0]],[[-134.2326707189999,58.74790423300004,0],[-134.231940718,58.74777423200004,0],[-134.232690718,58.74726423200008,0],[-134.2326707189999,58.74790423300004,0]]]]}}]}. Include metadata and processing history=Y. Granule id(s)=SC:ATL06.001:161147804,SC:ATL06.001:161151404,SC:ATL06.001:161152551,SC:ATL06.001:161159572,SC:ATL06.001:161194907,SC:ATL06.001:161204262,SC:ATL06.001:161331654,SC:ATL06.001:161332649,SC:ATL06.001:161317183. Email address=cflorentine@usgs.gov.</Instructions>\\n    </order>\\n    <contactInformation>\\n        <contactName>NSIDC User Services</contactName>\\n        <contactEmail>nsidc@nsidc.org</contactEmail>\\n    </contactInformation>\\n    <processInfo>\\n        <processDuration>PT0.096S</processDuration>\\n        <subagentId>NO</subagentId>\\n    </processInfo>\\n    <requestStatus>\\n        <status>processing</status>\\n        <numberProcessed>0</numberProcessed>\\n        <totalNumber>9</totalNumber>\\n    </requestStatus>\\n</eesi:agentResponse>\\n'\n",
      "order ID:  5000000320409\n",
      "status URL:  https://n5eil02u.ecs.nsidc.org/egi/request/5000000320409\n",
      "HTTP response from order response URL:  201\n",
      "Data request  1  is submitting...\n",
      "Initial request status is  processing\n",
      "Status is not complete. Trying again.\n",
      "Retry request status is:  complete\n",
      "Zip download URL:  https://n5eil02u.ecs.nsidc.org/esir/5000000320409.zip\n",
      "Beginning download of zipped output...\n",
      "Data request 1 is complete.\n"
     ]
    }
   ],
   "source": [
    "path = str(os.getcwd() + '/Outputs_v2')\n",
    "if not os.path.exists(path):\n",
    "    os.mkdir(path)\n",
    "    \n",
    "for i in range(page_num):\n",
    "    '''Request data service for each page number and unzip outputs'''\n",
    "    page_val = i + 1\n",
    "    print('Order: ', page_val)\n",
    "    request_params.update( {'page_num': page_val} )\n",
    "    \n",
    "# Post polygon to API endpoint for polygon subsetting to subset based on original, non-simplified KML file\n",
    "\n",
    "    shape_post = {'shapefile': open(kml_filepath, 'rb')}\n",
    "    request = session.post(base_url, params=request_params, files=shape_post) \n",
    "    \n",
    "# FOR ALL OTHER REQUESTS THAT DO NOT UTILIZED AN UPLOADED POLYGON FILE, USE A GET REQUEST INSTEAD OF POST:\n",
    "#     request = session.get(base_url, params=request_params)\n",
    "    \n",
    "    print('Request HTTP response: ', request.status_code)\n",
    "\n",
    "# Raise bad request: Loop will stop for bad response code.\n",
    "    request.raise_for_status()\n",
    "    print('Order request URL: ', request.url)\n",
    "    esir_root = ET.fromstring(request.content)\n",
    "    print('Order request response XML content: ', request.content)\n",
    "\n",
    "# Look up order ID\n",
    "    orderlist = []   \n",
    "    for order in esir_root.findall(\"./order/\"):\n",
    "        orderlist.append(order.text)\n",
    "    orderID = orderlist[0]\n",
    "    print('order ID: ', orderID)\n",
    "\n",
    "# Create status URL\n",
    "    statusURL = base_url + '/' + orderID\n",
    "    print('status URL: ', statusURL)\n",
    "\n",
    "# Find order status\n",
    "    request_response = session.get(statusURL)    \n",
    "    print('HTTP response from order response URL: ', request_response.status_code)\n",
    "    \n",
    "# Raise bad request: Loop will stop for bad response code.\n",
    "    request_response.raise_for_status()\n",
    "    request_root = ET.fromstring(request_response.content)\n",
    "    statuslist = []\n",
    "    for status in request_root.findall(\"./requestStatus/\"):\n",
    "        statuslist.append(status.text)\n",
    "    status = statuslist[0]\n",
    "    print('Data request ', page_val, ' is submitting...')\n",
    "    print('Initial request status is ', status)\n",
    "\n",
    "# Continue to loop while request is still processing\n",
    "    while status == 'pending' or status == 'processing': \n",
    "        print('Status is not complete. Trying again.')\n",
    "        time.sleep(10)\n",
    "        loop_response = session.get(statusURL)\n",
    "\n",
    "# Raise bad request: Loop will stop for bad response code.\n",
    "        loop_response.raise_for_status()\n",
    "        loop_root = ET.fromstring(loop_response.content)\n",
    "\n",
    "# Find status\n",
    "        statuslist = []\n",
    "        for status in loop_root.findall(\"./requestStatus/\"):\n",
    "            statuslist.append(status.text)\n",
    "        status = statuslist[0]\n",
    "        print('Retry request status is: ', status)\n",
    "        if status == 'pending' or status == 'processing':\n",
    "            continue\n",
    "\n",
    "# Order can either complete, complete_with_errors, or fail:\n",
    "# Provide complete_with_errors error message:\n",
    "    if status == 'complete_with_errors' or status == 'failed':\n",
    "        messagelist = []\n",
    "        for message in loop_root.findall(\"./processInfo/\"):\n",
    "            messagelist.append(message.text)\n",
    "        print('error messages:')\n",
    "        pprint.pprint(messagelist)\n",
    "\n",
    "# Download zipped order if status is complete or complete_with_errors\n",
    "    if status == 'complete' or status == 'complete_with_errors':\n",
    "        downloadURL = 'https://n5eil02u.ecs.nsidc.org/esir/' + orderID + '.zip'\n",
    "        print('Zip download URL: ', downloadURL)\n",
    "        print('Beginning download of zipped output...')\n",
    "        zip_response = session.get(downloadURL)\n",
    "        # Raise bad request: Loop will stop for bad response code.\n",
    "        zip_response.raise_for_status()\n",
    "        with zipfile.ZipFile(io.BytesIO(zip_response.content)) as z:\n",
    "            z.extractall(path)\n",
    "        print('Data request', page_val, 'is complete.')\n",
    "    else: print('Request failed.')\n"
   ]
  },
  {
   "cell_type": "markdown",
   "metadata": {},
   "source": [
    "Clean up Outputs folder by removing individual granule folders and list files."
   ]
  },
  {
   "cell_type": "code",
   "execution_count": 94,
   "metadata": {},
   "outputs": [],
   "source": [
    "for root, dirs, files in os.walk(path, topdown=False):\n",
    "    for file in files:\n",
    "        try:\n",
    "            shutil.move(os.path.join(root, file), path)\n",
    "        except OSError:\n",
    "            pass\n",
    "        \n",
    "for root, dirs, files in os.walk(path):\n",
    "    for name in dirs:\n",
    "        os.rmdir(os.path.join(root, name))\n",
    "        \n",
    "sorted(os.listdir(path))"
   ]
  },
  {
   "cell_type": "markdown",
   "metadata": {},
   "source": [
    "# Review\n",
    "In this tutorial we have:\n",
    "* explored data availability over a region and time of interest\n",
    "* discovered and selected data customization options\n",
    "* downloaded data directly to our Pangeo environment \n",
    "\n",
    "Please refer to the original version of this tutorial for more information on how to adapt, scale, or otherwise enhance this workflow.\n",
    "\n",
    "---"
   ]
  },
  {
   "cell_type": "markdown",
   "metadata": {},
   "source": [
    "## Appendix A. Clunky way to get KML File\n",
    "Download region of interest from GLIMS database: <br>\n",
    "http://www.glims.org/RGI/randolph60.html\n",
    "\n",
    "Parse individual glacier KML file from the broader regional RGI:\n",
    "  - Open RGI region kml in Google Earth <br>\n",
    "  - Right click over glacier of interest <br>\n",
    "  - Save as .kmz file <br>\n",
    "  - Add this .kmz file to this directory <br>\n",
    "\n",
    "Then run the following code to unzip the .kmz and get the .kml file."
   ]
  },
  {
   "cell_type": "code",
   "execution_count": null,
   "metadata": {},
   "outputs": [],
   "source": [
    "%%bash\n",
    "cd /home/jovyan/glaciersat2/data-access/kml\n",
    "unzip 'Taku.kmz'\n",
    "mv doc.kml Taku\\ Glacier.kml"
   ]
  },
  {
   "cell_type": "markdown",
   "metadata": {},
   "source": [
    "## Appendix B. Request configuration\n",
    "\n",
    "Let's go over the configuration parameters:\n",
    "\n",
    "* `request_mode`\n",
    "* `page_size`\n",
    "* `page_num`\n",
    "\n",
    "`request_mode` is \"synchronous\" by default, meaning that the request relies on a direct, continous connection between you and the API endpoint. Outputs are directly downloaded, or \"streamed\" to your working directory. For this tutorial, we will set the request mode to asynchronous, which will allow concurrent requests to be queued and processed without the need for a continuous connection."
   ]
  },
  {
   "cell_type": "markdown",
   "metadata": {},
   "source": [
    "## Appendix C. Key-value-pairs\n",
    "\n",
    "Summary of all possible NSIDC KVPs both for CMR searching and for the subsetter:\n",
    "\n",
    "#### CMR search keys:\n",
    "* `short_name=`\n",
    "* `version=`\n",
    "* `temporal=`\n",
    "* `bounding_box=`\n",
    "* `polygon=`\n",
    "\n",
    "#### Customization service keys:\n",
    "* `time=`\n",
    "* `bbox=`\n",
    "* `bounding_shape=` \n",
    "* `format=`\n",
    "* `projection=`\n",
    "* `projection_parameters=`\n",
    "* `Coverage=`\n",
    "\n",
    "#### No customization (access only):\n",
    "* `agent=`    \n",
    "* `include_meta=` \n",
    "    * `Y` by default. `N` for No metadata requested.\n",
    "\n",
    "#### Request configuration keys:\n",
    "* `request_mode=` \n",
    "* `page_size=`\n",
    "* `page_num=`\n",
    "* `token=`\n",
    "* `email=`"
   ]
  }
 ],
 "metadata": {
  "kernelspec": {
   "display_name": "Python 3",
   "language": "python",
   "name": "python3"
  },
  "language_info": {
   "codemirror_mode": {
    "name": "ipython",
    "version": 3
   },
   "file_extension": ".py",
   "mimetype": "text/x-python",
   "name": "python",
   "nbconvert_exporter": "python",
   "pygments_lexer": "ipython3",
   "version": "3.6.7"
  }
 },
 "nbformat": 4,
 "nbformat_minor": 2
}
